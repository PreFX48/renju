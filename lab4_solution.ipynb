{
 "cells": [
  {
   "cell_type": "markdown",
   "metadata": {},
   "source": [
    "# Multi-armed bandit problem"
   ]
  },
  {
   "cell_type": "markdown",
   "metadata": {},
   "source": [
    "### Задание\n",
    "**1. Можно ли вычислить $Q_{t+1}(a)$ инкрементально (известно лишь  $Q_t(a)$ и награда  $r_{t+1}$, назначенная за выбор действия $a$)?**"
   ]
  },
  {
   "cell_type": "markdown",
   "metadata": {},
   "source": [
    "Пусть $Q_t(a) = \\frac{\\sum_k r_{k}}{c_t(a)}$. При выборе на $t+1$-ом шаге действия $a:\\; Q_{t+1}(a) =  \\frac{\\sum_k r_{k} \\; + \\; r_{t+1}}{c_t(a) + 1} = \\frac{Q_{t}(a) \\cdot c_t(a) \\; + \\; r_{t+1}}{c_t(a) + 1}$"
   ]
  },
  {
   "cell_type": "markdown",
   "metadata": {},
   "source": [
    "### Построим для начала нашу модель:"
   ]
  },
  {
   "cell_type": "code",
   "execution_count": 1,
   "metadata": {
    "collapsed": true
   },
   "outputs": [],
   "source": [
    "import numpy as np\n",
    "import matplotlib.pyplot as plt\n",
    "import math\n",
    "\n",
    "\n",
    "def log_progress(sequence, every=None, size=None):\n",
    "    from ipywidgets import IntProgress, HTML, VBox\n",
    "    from IPython.display import display\n",
    "\n",
    "    is_iterator = False\n",
    "    if size is None:\n",
    "        try:\n",
    "            size = len(sequence)\n",
    "        except TypeError:\n",
    "            is_iterator = True\n",
    "    if size is not None:\n",
    "        if every is None:\n",
    "            if size <= 200:\n",
    "                every = 1\n",
    "            else:\n",
    "                every = int(size / 200)     # every 0.5%\n",
    "    else:\n",
    "        assert every is not None, 'sequence is iterator, set every'\n",
    "\n",
    "    if is_iterator:\n",
    "        progress = IntProgress(min=0, max=1, value=1)\n",
    "        progress.bar_style = 'info'\n",
    "    else:\n",
    "        progress = IntProgress(min=0, max=size, value=0)\n",
    "    label = HTML()\n",
    "    box = VBox(children=[label, progress])\n",
    "    display(box)\n",
    "\n",
    "    index = 0\n",
    "    try:\n",
    "        for index, record in enumerate(sequence, 1):\n",
    "            if index == 1 or index % every == 0:\n",
    "                if is_iterator:\n",
    "                    label.value = '{index} / ?'.format(index=index)\n",
    "                else:\n",
    "                    progress.value = index\n",
    "                    label.value = u'{index} / {size}'.format(\n",
    "                        index=index,\n",
    "                        size=size\n",
    "                    )\n",
    "            yield record\n",
    "    except:\n",
    "        progress.bar_style = 'danger'\n",
    "        raise\n",
    "    else:\n",
    "        progress.bar_style = 'success'\n",
    "        progress.value = index\n",
    "        label.value = str(index or '?')"
   ]
  },
  {
   "cell_type": "code",
   "execution_count": 2,
   "metadata": {
    "collapsed": false
   },
   "outputs": [],
   "source": [
    "class MAB_Model:\n",
    "    def __init__(self, actions):\n",
    "        self.actions = actions\n",
    "        self.reward_means = np.random.normal(size=actions)\n",
    "    def get_reward(self, action):\n",
    "        return np.random.normal(self.reward_means[action])\n",
    "    \n",
    "class MAB_Strategy:\n",
    "    def __init__(self, model):\n",
    "        self.model = model\n",
    "        self.reward_means = np.zeros((model.actions))\n",
    "        self.action_uses = np.zeros((model.actions))\n",
    "    def make_step(self): # Maybe should return reward\n",
    "        pass\n",
    "    def update_reward(self, action, reward):\n",
    "        self.reward_means[action] = (self.reward_means[action] * self.action_uses[action] + reward)\\\n",
    "        / (self.action_uses[action] + 1)\n",
    "        self.action_uses[action] += 1\n",
    "    def best_actions(self):\n",
    "        best =  np.argwhere(self.reward_means == np.max(self.reward_means))\n",
    "        return best.reshape(best.shape[0])\n",
    "    \n",
    "class Player:\n",
    "    def __init__(self, actions, steps, strategy_class, **kwargs):\n",
    "        self.actions = actions\n",
    "        self.strategy_class = strategy_class\n",
    "        self.steps = steps\n",
    "        self.strategy_args = kwargs\n",
    "    def evaluate(self, games=10000, progressbar=True, hold=False, show=True, show_opt=False, color='b', label=' '):\n",
    "        rewards = np.zeros(self.steps)\n",
    "        optimum = 0.0\n",
    "        if progressbar:\n",
    "            games_range = log_progress(range(games), every=10)\n",
    "        else:\n",
    "            games_range = range(games)\n",
    "        for game in games_range:\n",
    "            model = MAB_Model(self.actions)\n",
    "            optimum += model.reward_means.max()\n",
    "            strategy = self.strategy_class(model, **(self.strategy_args))\n",
    "            for i in range(self.steps):\n",
    "                rewards[i] += strategy.make_step()\n",
    "        rewards /= games\n",
    "        optimum /= games\n",
    "        if show:\n",
    "            x = np.arange(1, self.steps+1)\n",
    "            plt.plot(x, rewards, color, label=label)\n",
    "            plt.title('Average reward', fontsize=16)\n",
    "            if not hold:\n",
    "                plt.show()\n",
    "        return rewards"
   ]
  },
  {
   "cell_type": "markdown",
   "metadata": {},
   "source": [
    "### Реализуем жадную стратегию"
   ]
  },
  {
   "cell_type": "code",
   "execution_count": 3,
   "metadata": {
    "collapsed": true
   },
   "outputs": [],
   "source": [
    "class Greedy(MAB_Strategy):\n",
    "    def __init__(self, model):\n",
    "        MAB_Strategy.__init__(self, model)\n",
    "    def make_step(self):\n",
    "        best = self.best_actions()\n",
    "        action = np.random.choice(best)\n",
    "        reward = self.model.get_reward(action)\n",
    "        self.update_reward(action, reward)\n",
    "        return reward"
   ]
  },
  {
   "cell_type": "code",
   "execution_count": null,
   "metadata": {
    "collapsed": false
   },
   "outputs": [],
   "source": [
    "player = Player(100, 1000, Greedy)\n",
    "result = player.evaluate(games=10000)\n",
    "print('Total reward:', result.sum())"
   ]
  },
  {
   "cell_type": "markdown",
   "metadata": {},
   "source": [
    "Её основной недостаток достаточно очевиден: сначала действия выбираются абсолютно случайно, и если на первом шаге алгоритм выберет \"плохой\" автомат, но на котором случайно выпал хороший выигрыш, он так и продолжит на нём играть, и переключится на другие автоматы только тогда, когда средний выигрыш на автомате станет неположительным. Кроме того, если выигрыш будет положителен, но мал, алгоритм так и продолжит использовать этот автомат, даже если есть более выгодные автоматы.\n",
    "\n",
    "В качестве начальной стратегии использовался просто случайный выбор автомата.\n",
    "\n",
    "Конечно же, из указанных выше соображений было бы неплохо провести начальную серию игр для того, чтобы собранная информация в большей степени соответствовала реальному матожиданию выигрыша на каждом автомате. Кроме того, очевидно, что у автомата с большим матожиданием выигрыша вероятность выпадения высокого слычайного выигрыша больше, чем у автомата с меньшим матожиданием выигрыша, поэтому выбор автомата с наибольшим выигрышем вместо случайного автомата в среднем должно улучшать результат\n",
    "\n",
    "Для наглядности запустим аналогичную симуляцию, но в которой для каждого запуска алгоритм предварительно дважды дёргал за ручку каждого автомата:"
   ]
  },
  {
   "cell_type": "code",
   "execution_count": null,
   "metadata": {
    "collapsed": false
   },
   "outputs": [],
   "source": [
    "class InitializingPlayer:\n",
    "    def __init__(self, actions, steps, strategy_class, **kwargs):\n",
    "        self.actions = actions\n",
    "        self.strategy_class = strategy_class\n",
    "        self.steps = steps\n",
    "        self.strategy_args = kwargs\n",
    "    def evaluate(self, games=10000):\n",
    "        rewards = np.zeros(self.steps)\n",
    "        for game in log_progress(range(games), every=1):\n",
    "            model = MAB_Model(self.actions)\n",
    "            strategy = self.strategy_class(model, **(self.strategy_args))\n",
    "            for action in range(model.actions):\n",
    "                reward = strategy.model.get_reward(action)\n",
    "                strategy.update_reward(action, reward)\n",
    "                rewards[action] += reward\n",
    "            for action in range(model.actions):\n",
    "                reward = strategy.model.get_reward(action)\n",
    "                strategy.update_reward(action, reward)\n",
    "                rewards[model.actions + action] += reward\n",
    "            for i in range(self.steps - 2 * model.actions):\n",
    "                rewards[2 * model.actions + i] += strategy.make_step()\n",
    "        rewards /= games\n",
    "        x = np.arange(1, self.steps+1)\n",
    "        plt.plot(x, rewards, 'b')\n",
    "        plt.title('Average reward')\n",
    "        plt.show()\n",
    "        return rewards.sum()\n",
    "\n",
    "player = InitializingPlayer(100, 1000, Greedy)\n",
    "result = player.evaluate(games=10000)\n",
    "print('Total reward:', result.sum())"
   ]
  },
  {
   "cell_type": "markdown",
   "metadata": {},
   "source": [
    "### $\\varepsilon$ -greedy стратегия"
   ]
  },
  {
   "cell_type": "code",
   "execution_count": 4,
   "metadata": {
    "collapsed": true
   },
   "outputs": [],
   "source": [
    "class E_Greedy(MAB_Strategy):\n",
    "    def __init__(self, model, eps):\n",
    "        MAB_Strategy.__init__(self, model)\n",
    "        self.eps = eps\n",
    "    def make_step(self):\n",
    "        best = (self.reward_means == np.max(self.reward_means))\n",
    "        proba = (1-self.eps) * best / best.sum()\n",
    "        proba += self.eps * np.ones((self.model.actions)) / self.model.actions\n",
    "        action = np.random.choice(self.model.actions, p=proba)\n",
    "        reward = self.model.get_reward(action)\n",
    "        self.update_reward(action, reward)\n",
    "        return reward"
   ]
  },
  {
   "cell_type": "markdown",
   "metadata": {},
   "source": [
    "### Softmax"
   ]
  },
  {
   "cell_type": "code",
   "execution_count": 5,
   "metadata": {
    "collapsed": true
   },
   "outputs": [],
   "source": [
    "class Softmax(MAB_Strategy):\n",
    "    def __init__(self, model, eps):\n",
    "        MAB_Strategy.__init__(self, model)\n",
    "        self.eps = eps\n",
    "    def make_step(self):\n",
    "        proba = np.exp( (self.reward_means - np.max(self.reward_means)) / self.eps)\n",
    "        proba = proba / proba.sum()\n",
    "        action = np.random.choice(self.model.actions, p=proba)\n",
    "        reward = self.model.get_reward(action)\n",
    "        self.update_reward(action, reward)\n",
    "        return reward"
   ]
  },
  {
   "cell_type": "markdown",
   "metadata": {},
   "source": [
    "### Upper Confidence Bound"
   ]
  },
  {
   "cell_type": "code",
   "execution_count": 6,
   "metadata": {
    "collapsed": true
   },
   "outputs": [],
   "source": [
    "class UCB(MAB_Strategy):\n",
    "    def __init__(self, model, eps):\n",
    "        MAB_Strategy.__init__(self, model)\n",
    "        self.eps = eps\n",
    "        self.step = 0\n",
    "    def make_step(self):\n",
    "        value = self.reward_means.copy()\n",
    "        value += self.eps * np.sqrt(2 * math.log(self.step + 1) / (self.action_uses + 0.001))\n",
    "        self.step += 1\n",
    "        best =  np.argwhere(value == np.max(value))\n",
    "        best = best.reshape(best.shape[0])\n",
    "        action = np.random.choice(best)\n",
    "        reward = self.model.get_reward(action)\n",
    "        self.update_reward(action, reward)\n",
    "        return reward"
   ]
  },
  {
   "cell_type": "code",
   "execution_count": 8,
   "metadata": {
    "collapsed": false
   },
   "outputs": [
    {
     "name": "stderr",
     "output_type": "stream",
     "text": [
      "/usr/local/lib/python3.5/dist-packages/ipykernel/__main__.py:36: MatplotlibDeprecationWarning: pyplot.hold is deprecated.\n",
      "    Future behavior will be consistent with the long-time default:\n",
      "    plot commands add elements without first clearing the\n",
      "    Axes and/or Figure.\n",
      "/usr/local/lib/python3.5/dist-packages/matplotlib/__init__.py:917: UserWarning: axes.hold is deprecated. Please remove it from your matplotlibrc and/or style files.\n",
      "  warnings.warn(self.msg_depr_set % key)\n",
      "/usr/local/lib/python3.5/dist-packages/matplotlib/rcsetup.py:152: UserWarning: axes.hold is deprecated, will be removed in 3.0\n",
      "  warnings.warn(\"axes.hold is deprecated, will be removed in 3.0\")\n",
      "/usr/local/lib/python3.5/dist-packages/ipykernel/__main__.py:42: MatplotlibDeprecationWarning: pyplot.hold is deprecated.\n",
      "    Future behavior will be consistent with the long-time default:\n",
      "    plot commands add elements without first clearing the\n",
      "    Axes and/or Figure.\n"
     ]
    },
    {
     "data": {
      "image/png": "[encoded data removed]",
      "text/plain": [
       "<matplotlib.figure.Figure at 0x7fa91066cdd8>"
      ]
     },
     "metadata": {},
     "output_type": "display_data"
    }
   ],
   "source": [
    "\n",
    "# ATTENTION: takes a significant amount of time to be processed\n",
    "games_num = 2000\n",
    "\n",
    "player = Player(100, 1000, Greedy)\n",
    "result = player.evaluate(games=games_num, show=False)\n",
    "greedy_sum = result.sum()\n",
    "\n",
    "egreedy_epsilons = [0.01, 0.05, 0.075, 0.1, 0.15, 0.2, 0.3, 0.4]\n",
    "egreedy_results = []\n",
    "for e in log_progress(egreedy_epsilons, every=1):\n",
    "    player = Player(100, 1000, E_Greedy, eps=e)\n",
    "    res = player.evaluate(games=games_num, show=False, progressbar=False)\n",
    "    egreedy_results.append(res.sum())\n",
    "    \n",
    "softmax_epsilons = [0.05, 0.1, 0.2, 0.25, 0.3, 0.35, 0.4, 0.5]\n",
    "softmax_results = []\n",
    "for e in log_progress(softmax_epsilons, every=1):\n",
    "    player = Player(100, 1000, Softmax, eps=e)\n",
    "    res = player.evaluate(games=games_num, show=False, progressbar=False)\n",
    "    softmax_results.append(res.sum())\n",
    "    \n",
    "ucb_epsilons = [0, 0.01, 0.015, 0.02, 0.05, 0.1, 0.2, 0.25, 0.3, 0.4, 0.5]\n",
    "ucb_results = []\n",
    "for e in log_progress(ucb_epsilons, every=1):\n",
    "    player = Player(100, 1000, UCB, eps=e)\n",
    "    res = player.evaluate(games=games_num, show=False, progressbar=False)\n",
    "    ucb_results.append(res.sum())\n",
    "\n",
    "plt.figure(figsize=(8, 5))\n",
    "plt.title('score', fontsize=16)\n",
    "plt.axis([0, max(egreedy_epsilons[-1], softmax_epsilons[-1], ucb_epsilons[-1]),\n",
    "          0, max(*egreedy_results, *softmax_results, *ucb_results)*1.1])\n",
    "plt.xlabel('epsilon', fontsize=12)\n",
    "plt.ylabel('total reward', fontsize=12)\n",
    "plt.hold(True)\n",
    "plt.plot(ucb_epsilons, ucb_results, 'm', label='UCB', linewidth=1.5)\n",
    "plt.plot(softmax_epsilons, softmax_results, 'b', label='softmax', linewidth=1.5)\n",
    "plt.plot(egreedy_epsilons, egreedy_results, 'g', label='epsilon-greedy', linewidth=1.5)\n",
    "plt.plot([0, max(softmax_epsilons[-1], egreedy_epsilons[-1])], [greedy_sum, greedy_sum],\n",
    "         'r', label='greedy', linewidth=1.5)\n",
    "plt.hold(False)\n",
    "plt.legend(loc='lower center', fontsize=14, ncol=2)\n",
    "plt.show()"
   ]
  },
  {
   "cell_type": "markdown",
   "metadata": {},
   "source": [
    "Таким образом, мы определили наилучшие коэффициенты $\\varepsilon$ для алгоритмов -  $\\varepsilon=0.1$ для $\\varepsilon-greedy$, $\\varepsilon=0.25$ для $softmax$ и $\\varepsilon=0.25$ для $UCB$ и проверили превосходство UCB над прочими алгоритмами. Кроме того, заметно, что $UCB$ гораздо менее чувствителен к изменению параметров\n",
    "\n",
    "Посмотрим теперь в динамике, как растёт средняя награда в процессе игры при запуске наилучших версий алгоритмов:"
   ]
  },
  {
   "cell_type": "code",
   "execution_count": 9,
   "metadata": {
    "collapsed": false
   },
   "outputs": [
    {
     "name": "stderr",
     "output_type": "stream",
     "text": [
      "/usr/local/lib/python3.5/dist-packages/ipykernel/__main__.py:6: MatplotlibDeprecationWarning: pyplot.hold is deprecated.\n",
      "    Future behavior will be consistent with the long-time default:\n",
      "    plot commands add elements without first clearing the\n",
      "    Axes and/or Figure.\n",
      "/usr/local/lib/python3.5/dist-packages/matplotlib/__init__.py:917: UserWarning: axes.hold is deprecated. Please remove it from your matplotlibrc and/or style files.\n",
      "  warnings.warn(self.msg_depr_set % key)\n",
      "/usr/local/lib/python3.5/dist-packages/matplotlib/rcsetup.py:152: UserWarning: axes.hold is deprecated, will be removed in 3.0\n",
      "  warnings.warn(\"axes.hold is deprecated, will be removed in 3.0\")\n",
      "/usr/local/lib/python3.5/dist-packages/ipykernel/__main__.py:15: MatplotlibDeprecationWarning: pyplot.hold is deprecated.\n",
      "    Future behavior will be consistent with the long-time default:\n",
      "    plot commands add elements without first clearing the\n",
      "    Axes and/or Figure.\n"
     ]
    },
    {
     "data": {
      "image/png": "[encoded data removed]",
      "text/plain": [
       "<matplotlib.figure.Figure at 0x7fa9126bbf28>"
      ]
     },
     "metadata": {},
     "output_type": "display_data"
    }
   ],
   "source": [
    "games_num = 2000\n",
    "\n",
    "plt.figure(figsize=(8, 5))\n",
    "plt.xlabel('steps')\n",
    "plt.ylabel(\"average reward at n'th step\")\n",
    "plt.hold(True)\n",
    "greedy_player = Player(100, 1000, Greedy)\n",
    "greedy_player.evaluate(games=games_num, show=True, hold=True, color='r', label='greedy')\n",
    "e_greedy_player = Player(100, 1000, E_Greedy, eps=0.1)\n",
    "e_greedy_player.evaluate(games=games_num, show=True, hold=True, color='g', label='e-greedy')\n",
    "softmax_player = Player(100, 1000, Softmax, eps=0.25)\n",
    "softmax_player.evaluate(games=games_num, show=True, hold=True, color='b', label='softmax')\n",
    "ucb_player = Player(100, 1000, UCB, eps=0.25)\n",
    "ucb_player.evaluate(games=games_num, show=True, hold=True, color='m', label='UCB')\n",
    "plt.hold(False)\n",
    "plt.legend(loc='lower center', ncol=2, fontsize=14)\n",
    "plt.show()"
   ]
  },
  {
   "cell_type": "code",
   "execution_count": null,
   "metadata": {
    "collapsed": true
   },
   "outputs": [],
   "source": [
    "class Gradient(MAB_Strategy):\n",
    "    def __init__(self, model, alpha, correct):\n",
    "        MAB_Strategy.__init__(self, model)\n",
    "        self.alpha = alpha\n",
    "        self.correct = correct\n",
    "        self.priorities = np.zeros((model.actions))\n",
    "    def update_reward(self, action, reward):\n",
    "        old_rewards = self.reward_means.copy()\n",
    "        self.reward_means += self.alpha * (reward - self.reward_means[action])\n",
    "        mask = np.zeros((self.model.actions))\n",
    "        mask[action] += 1\n",
    "        neg_mask = 1 - 2*mask\n",
    "        self.priorities += self.correct * (reward - old_rewards) * (mask + self.priorities * neg_mask)\n",
    "    def make_step(self):\n",
    "        proba = np.exp(self.priorities - np.max(self.priorities))\n",
    "        proba = proba / proba.sum()\n",
    "        action = np.random.choice(self.model.actions, p=proba)\n",
    "        reward = self.model.get_reward(action)\n",
    "        self.update_reward(action, reward)\n",
    "        return reward"
   ]
  },
  {
   "cell_type": "code",
   "execution_count": null,
   "metadata": {
    "collapsed": false
   },
   "outputs": [],
   "source": [
    "player = Player(100, 1000, Gradient, alpha=0.4, correct=0.2)\n",
    "result = player.evaluate(games=500)\n",
    "print('Total reward:', result.sum())"
   ]
  },
  {
   "cell_type": "code",
   "execution_count": null,
   "metadata": {
    "collapsed": false
   },
   "outputs": [],
   "source": []
  }
 ],
 "metadata": {
  "kernelspec": {
   "display_name": "Python 3",
   "language": "python",
   "name": "python3"
  },
  "language_info": {
   "codemirror_mode": {
    "name": "ipython",
    "version": 3
   },
   "file_extension": ".py",
   "mimetype": "text/x-python",
   "name": "python",
   "nbconvert_exporter": "python",
   "pygments_lexer": "ipython3",
   "version": "3.5.2+"
  },
  "widgets": {
   "state": {
    "061398fce06148d182803277ed03f608": {
     "views": [
      {
       "cell_index": 17
      }
     ]
    },
    "0959236ac834450aa3b926db7f3a8cb4": {
     "views": [
      {
       "cell_index": 17
      }
     ]
    },
    "0a42dc7ce4574c1e83c3f7c461bfde4a": {
     "views": [
      {
       "cell_index": 17
      }
     ]
    },
    "19d05c5f5fea4934a41e7c0d843d9621": {
     "views": [
      {
       "cell_index": 17
      }
     ]
    },
    "1c0dea8df241479d96de803e87234d20": {
     "views": [
      {
       "cell_index": 19
      }
     ]
    },
    "1c2df35d9f614713990eb497a3f79591": {
     "views": [
      {
       "cell_index": 17
      }
     ]
    },
    "1c44190d621c4e13999bc73196811330": {
     "views": [
      {
       "cell_index": 17
      }
     ]
    },
    "1e4b7354c4e64aad8231bc6350d22c8b": {
     "views": [
      {
       "cell_index": 19
      }
     ]
    },
    "23cb8b1329bb401d85ddc98d0e808df6": {
     "views": [
      {
       "cell_index": 17
      }
     ]
    },
    "27619d85d37c466e8e88d2a643a42041": {
     "views": [
      {
       "cell_index": 19
      }
     ]
    },
    "2ce4a378b4034019ad2e64a0b02139d9": {
     "views": [
      {
       "cell_index": 17
      }
     ]
    },
    "2d3673ccef5e43049e75fcc4f90cf3e8": {
     "views": [
      {
       "cell_index": 19
      }
     ]
    },
    "38cc2349fa75447bab4ffd291bcd1a84": {
     "views": [
      {
       "cell_index": 19
      }
     ]
    },
    "3ab3197bda774644b2bb7fecb64e4532": {
     "views": [
      {
       "cell_index": 19
      }
     ]
    },
    "3e7afbc6b20445299661ec518cc2ae1f": {
     "views": [
      {
       "cell_index": 19
      }
     ]
    },
    "410435aa44694cef9f63e8b47d9f5c5b": {
     "views": [
      {
       "cell_index": 17
      }
     ]
    },
    "44a4d061ebda4d76bab322ed303e62a6": {
     "views": [
      {
       "cell_index": 17
      }
     ]
    },
    "472cfe61512641de98105eb952597fb6": {
     "views": [
      {
       "cell_index": 19
      }
     ]
    },
    "492c55f3cc524d0b938904ac62c1058e": {
     "views": [
      {
       "cell_index": 19
      }
     ]
    },
    "4bfc6aaf1eca4442a78d9aa33b95279a": {
     "views": [
      {
       "cell_index": 19
      }
     ]
    },
    "4d0cfe552d3f4a6a808e721cfcbf1d1a": {
     "views": [
      {
       "cell_index": 17
      }
     ]
    },
    "5235b69083a24d0a95d9755d92f27eb9": {
     "views": [
      {
       "cell_index": 17
      }
     ]
    },
    "58404341ca5b421aa628bac07449c29a": {
     "views": [
      {
       "cell_index": 17
      }
     ]
    },
    "59f807b51f3f441d932eff05141f65b9": {
     "views": [
      {
       "cell_index": 19
      }
     ]
    },
    "5bbafac4632d408c95b843e60b9f5132": {
     "views": [
      {
       "cell_index": 19
      }
     ]
    },
    "5ee30ba50f4a4aeb822487c090591b8e": {
     "views": [
      {
       "cell_index": 17
      }
     ]
    },
    "670e9c25cb0f4ad4875c83b297037df4": {
     "views": [
      {
       "cell_index": 19
      }
     ]
    },
    "6f39ee8c92284ed5b22a80a87b69de3c": {
     "views": [
      {
       "cell_index": 19
      }
     ]
    },
    "738f8b84d3a6445c9f8560ed2d52e0f0": {
     "views": [
      {
       "cell_index": 17
      }
     ]
    },
    "786e39e6b8b541b6b26e5a8597b7be0c": {
     "views": [
      {
       "cell_index": 19
      }
     ]
    },
    "7d46dc2d39b842ad9c6407ecacadc0a4": {
     "views": [
      {
       "cell_index": 21
      }
     ]
    },
    "8083f6aff26d4108b69efde090638bb0": {
     "views": [
      {
       "cell_index": 8
      }
     ]
    },
    "84fca42cb3c94ff89c537580784c0343": {
     "views": [
      {
       "cell_index": 17
      }
     ]
    },
    "889ec0c63f574b87bd2f9f4f7008d0af": {
     "views": [
      {
       "cell_index": 17
      }
     ]
    },
    "8ccda7c402c943b2b94b53016e60c513": {
     "views": [
      {
       "cell_index": 17
      }
     ]
    },
    "8cd02560a6934cdf9065169fd0a0b424": {
     "views": [
      {
       "cell_index": 17
      }
     ]
    },
    "8d11bf5374fd47bbb2b6935f30d136ec": {
     "views": [
      {
       "cell_index": 17
      }
     ]
    },
    "8da919a3cb2c4ca2982ba30783d8fe6a": {
     "views": [
      {
       "cell_index": 17
      }
     ]
    },
    "8f0d19cbf7da4a7088f6bdf072d6dd1a": {
     "views": [
      {
       "cell_index": 19
      }
     ]
    },
    "900970410dc04ef8b1a3ff51cef1c4ce": {
     "views": [
      {
       "cell_index": 19
      }
     ]
    },
    "95d554af78ee40a8b2eafcfa597bfc82": {
     "views": [
      {
       "cell_index": 19
      }
     ]
    },
    "a3c3f94350344799841d4334593cfb65": {
     "views": [
      {
       "cell_index": 17
      }
     ]
    },
    "a48216d0eb964404b6d5c7e387cb718d": {
     "views": [
      {
       "cell_index": 17
      }
     ]
    },
    "a4c45d22234745d9a31f1e48f4990b0b": {
     "views": [
      {
       "cell_index": 19
      }
     ]
    },
    "a805198962074df1b10ad7de866ebb86": {
     "views": [
      {
       "cell_index": 17
      }
     ]
    },
    "aeaa9756bdd1436fb879d5c5f1ba08a2": {
     "views": [
      {
       "cell_index": 17
      }
     ]
    },
    "b09849b03d18483f84b30bc45f1c0794": {
     "views": [
      {
       "cell_index": 10
      }
     ]
    },
    "b53846ab99cb4fb6a4ccee02f7db2d15": {
     "views": [
      {
       "cell_index": 17
      }
     ]
    },
    "b5d0b3e2b5934eb28d0dc87e9fec1be3": {
     "views": [
      {
       "cell_index": 19
      }
     ]
    },
    "bbe0076655e74743899454a8a06a929c": {
     "views": [
      {
       "cell_index": 19
      }
     ]
    },
    "c639e26dfb7543cb8accd7de33a12a43": {
     "views": [
      {
       "cell_index": 19
      }
     ]
    },
    "c879db3010b14c48aef490554f24cdff": {
     "views": [
      {
       "cell_index": 19
      }
     ]
    },
    "c9325b78432c40eaaeddccba36f31adf": {
     "views": [
      {
       "cell_index": 19
      }
     ]
    },
    "ca1eeee504d1460ab3e8f842b0d55368": {
     "views": [
      {
       "cell_index": 17
      }
     ]
    },
    "ca99aa647931450b92568a6cb7fbf70b": {
     "views": [
      {
       "cell_index": 19
      }
     ]
    },
    "cf7ee02b48574e22a33998830bf0ecc1": {
     "views": [
      {
       "cell_index": 17
      }
     ]
    },
    "d1763d869871467485e4582734b20344": {
     "views": [
      {
       "cell_index": 19
      }
     ]
    },
    "d3a3ebab5f114807a3944f142c735d7a": {
     "views": [
      {
       "cell_index": 17
      }
     ]
    },
    "d75472e7cfb14d10947967250c9f6384": {
     "views": [
      {
       "cell_index": 17
      }
     ]
    },
    "d840f6169a684e11b959084ac4284c74": {
     "views": [
      {
       "cell_index": 19
      }
     ]
    },
    "db749dd811d446aeb39176d0b2d68155": {
     "views": [
      {
       "cell_index": 17
      }
     ]
    },
    "dc3d43fa5e5748c2902e9f4e6924933c": {
     "views": [
      {
       "cell_index": 19
      }
     ]
    },
    "dda5a5fba98b449da8bafdb8c8b1bfda": {
     "views": [
      {
       "cell_index": 17
      }
     ]
    },
    "e055a4a2ef8d456da242a390f0dd919c": {
     "views": [
      {
       "cell_index": 19
      }
     ]
    },
    "e075972ab7be45cb9aa9faa39c5defb3": {
     "views": [
      {
       "cell_index": 19
      }
     ]
    },
    "e19a56d757e74c8ab6fe3852fc048f63": {
     "views": [
      {
       "cell_index": 19
      }
     ]
    },
    "e3478c1b3aa7424bb68ecb946a1b5ce0": {
     "views": [
      {
       "cell_index": 17
      }
     ]
    },
    "e3679d1576e64906a1daadc98797c239": {
     "views": [
      {
       "cell_index": 17
      }
     ]
    },
    "e83c8afc9aea4f4ea6c47d79d6748a9d": {
     "views": [
      {
       "cell_index": 17
      }
     ]
    },
    "ede1af1d9e7a458d8afa075a751feee0": {
     "views": [
      {
       "cell_index": 19
      }
     ]
    },
    "ee6451aeb2ce4d749418aad07936c46b": {
     "views": [
      {
       "cell_index": 17
      }
     ]
    },
    "f0170d3cd05142e29fc319add3c83071": {
     "views": [
      {
       "cell_index": 17
      }
     ]
    },
    "f373135f35b347ef88fba5823bb723e1": {
     "views": [
      {
       "cell_index": 19
      }
     ]
    },
    "ff75138ede2247269f6cc4ee6bc4dd86": {
     "views": [
      {
       "cell_index": 19
      }
     ]
    }
   },
   "version": "1.2.0"
  }
 },
 "nbformat": 4,
 "nbformat_minor": 2
}
