{
 "cells": [
  {
   "cell_type": "markdown",
   "metadata": {},
   "source": [
    "# Multi-armed bandit problem"
   ]
  },
  {
   "cell_type": "markdown",
   "metadata": {},
   "source": [
    "### Задание\n",
    "**1. Можно ли вычислить $Q_{t+1}(a)$ инкрементально (известно лишь  $Q_t(a)$ и награда  $r_{t+1}$, назначенная за выбор действия $a$)?**"
   ]
  },
  {
   "cell_type": "markdown",
   "metadata": {},
   "source": [
    "Пусть $Q_t(a) = \\frac{\\sum_k r_{k}}{c_t(a)}$. При выборе на $t+1$-ом шаге действия $a:\\; Q_{t+1}(a) =  \\frac{\\sum_k r_{k} \\; + \\; r_{t+1}}{c_t(a) + 1} = \\frac{Q_{t}(a) \\cdot c_t(a) \\; + \\; r_{t+1}}{c_t(a) + 1}$"
   ]
  },
  {
   "cell_type": "markdown",
   "metadata": {},
   "source": [
    "### Построим для начала нашу модель:"
   ]
  },
  {
   "cell_type": "code",
   "execution_count": 5,
   "metadata": {
    "collapsed": false
   },
   "outputs": [],
   "source": [
    "import numpy as np\n",
    "import matplotlib.pyplot as plt\n",
    "import math\n",
    "from scipy.ndimage.filters import gaussian_filter1d\n",
    "\n",
    "\n",
    "def log_progress(sequence, every=None, size=None):\n",
    "    from ipywidgets import IntProgress, HTML, VBox\n",
    "    from IPython.display import display\n",
    "\n",
    "    is_iterator = False\n",
    "    if size is None:\n",
    "        try:\n",
    "            size = len(sequence)\n",
    "        except TypeError:\n",
    "            is_iterator = True\n",
    "    if size is not None:\n",
    "        if every is None:\n",
    "            if size <= 200:\n",
    "                every = 1\n",
    "            else:\n",
    "                every = int(size / 200)     # every 0.5%\n",
    "    else:\n",
    "        assert every is not None, 'sequence is iterator, set every'\n",
    "\n",
    "    if is_iterator:\n",
    "        progress = IntProgress(min=0, max=1, value=1)\n",
    "        progress.bar_style = 'info'\n",
    "    else:\n",
    "        progress = IntProgress(min=0, max=size, value=0)\n",
    "    label = HTML()\n",
    "    box = VBox(children=[label, progress])\n",
    "    display(box)\n",
    "\n",
    "    index = 0\n",
    "    try:\n",
    "        for index, record in enumerate(sequence, 1):\n",
    "            if index == 1 or index % every == 0:\n",
    "                if is_iterator:\n",
    "                    label.value = '{index} / ?'.format(index=index)\n",
    "                else:\n",
    "                    progress.value = index\n",
    "                    label.value = u'{index} / {size}'.format(\n",
    "                        index=index,\n",
    "                        size=size\n",
    "                    )\n",
    "            yield record\n",
    "    except:\n",
    "        progress.bar_style = 'danger'\n",
    "        raise\n",
    "    else:\n",
    "        progress.bar_style = 'success'\n",
    "        progress.value = index\n",
    "        label.value = str(index or '?')"
   ]
  },
  {
   "cell_type": "code",
   "execution_count": 12,
   "metadata": {
    "collapsed": false
   },
   "outputs": [],
   "source": [
    "class MAB_Model:\n",
    "    def __init__(self, actions):\n",
    "        self.actions = actions\n",
    "        self.reward_means = np.random.normal(size=actions)\n",
    "    def get_reward(self, action):\n",
    "        return np.random.normal(self.reward_means[action])\n",
    "    \n",
    "class MAB_Strategy:\n",
    "    def __init__(self, model):\n",
    "        self.model = model\n",
    "        self.reward_means = np.zeros((model.actions))\n",
    "        self.action_uses = np.zeros((model.actions))\n",
    "    def make_step(self): # Maybe should return reward\n",
    "        pass\n",
    "    def update_reward(self, action, reward):\n",
    "        self.reward_means[action] = (self.reward_means[action] * self.action_uses[action] + reward)\\\n",
    "        / (self.action_uses[action] + 1)\n",
    "        self.action_uses[action] += 1\n",
    "    def best_actions(self):\n",
    "        best =  np.argwhere(self.reward_means == np.max(self.reward_means))\n",
    "        return best.reshape(best.shape[0])\n",
    "    \n",
    "class Player:\n",
    "    def __init__(self, actions, steps, strategy_class, **kwargs):\n",
    "        self.actions = actions\n",
    "        self.strategy_class = strategy_class\n",
    "        self.steps = steps\n",
    "        self.strategy_args = kwargs\n",
    "    def evaluate(self, games=1000, progressbar=True,hold=False, show=True,\n",
    "                 show_opt=True, smoothen=False, color='b', label=' '):\n",
    "        rewards = np.zeros(self.steps)\n",
    "        optimum = np.zeros(self.steps)\n",
    "        if progressbar:\n",
    "            games_range = log_progress(range(games), every=10)\n",
    "        else:\n",
    "            games_range = range(games)\n",
    "        for game in games_range:\n",
    "            model = MAB_Model(self.actions)\n",
    "            strategy = self.strategy_class(model, **(self.strategy_args))\n",
    "            for i in range(self.steps):\n",
    "                rewards[i] += strategy.make_step() / games\n",
    "                optimum[i] += model.reward_means.max() / games\n",
    "        for i in range(1, self.steps):\n",
    "            rewards[i] += rewards[i-1]\n",
    "            optimum[i] += optimum[i-1]\n",
    "        if show:\n",
    "            x = np.arange(1, self.steps+1)\n",
    "            if show_opt:\n",
    "                plt.plot(x, optimum, 'k', label='optimum')\n",
    "            plot_rewards = rewards\n",
    "            if (smoothen):\n",
    "                plot_rewards = rewards.copy()\n",
    "                plot_rewards = gaussian_filter1d(plot_rewards, 10.0)\n",
    "            plt.plot(x, plot_rewards, color, label=label)\n",
    "            plt.title('Total reward', fontsize=16)\n",
    "            if not hold:\n",
    "                plt.show()\n",
    "        return round(rewards.sum() * 100  / optimum.sum())"
   ]
  },
  {
   "cell_type": "markdown",
   "metadata": {},
   "source": [
    "### Реализуем жадную стратегию"
   ]
  },
  {
   "cell_type": "code",
   "execution_count": 13,
   "metadata": {
    "collapsed": true
   },
   "outputs": [],
   "source": [
    "class Greedy(MAB_Strategy):\n",
    "    def __init__(self, model):\n",
    "        MAB_Strategy.__init__(self, model)\n",
    "    def make_step(self):\n",
    "        best = self.best_actions()\n",
    "        action = np.random.choice(best)\n",
    "        reward = self.model.get_reward(action)\n",
    "        self.update_reward(action, reward)\n",
    "        return reward"
   ]
  },
  {
   "cell_type": "code",
   "execution_count": null,
   "metadata": {
    "collapsed": false
   },
   "outputs": [],
   "source": [
    "player = Player(20, 1000, Greedy)\n",
    "result = player.evaluate(games=1000)\n",
    "print('Total reward:', str(result) + \"%\")"
   ]
  },
  {
   "cell_type": "markdown",
   "metadata": {},
   "source": [
    "Её основной недостаток достаточно очевиден: сначала действия выбираются абсолютно случайно, и если на первом шаге алгоритм выберет \"плохой\" автомат, но на котором случайно выпал хороший выигрыш, он так и продолжит на нём играть, и переключится на другие автоматы только тогда, когда средний выигрыш на автомате станет неположительным. Кроме того, если выигрыш будет положителен, но мал, алгоритм так и продолжит использовать этот автомат, даже если есть более выгодные автоматы.\n",
    "\n",
    "В качестве начальной стратегии использовался просто случайный выбор автомата.\n",
    "\n",
    "Конечно же, из указанных выше соображений было бы неплохо провести начальную серию игр для того, чтобы собранная информация в большей степени соответствовала реальному матожиданию выигрыша на каждом автомате. Кроме того, очевидно, что у автомата с большим матожиданием выигрыша вероятность выпадения высокого слычайного выигрыша больше, чем у автомата с меньшим матожиданием выигрыша, поэтому выбор автомата с наибольшим выигрышем вместо случайного автомата в среднем должно улучшать результат\n",
    "\n",
    "Для наглядности запустим аналогичную симуляцию, но в которой для каждого запуска алгоритм предварительно дважды дёргал за ручку каждого автомата:"
   ]
  },
  {
   "cell_type": "code",
   "execution_count": null,
   "metadata": {
    "collapsed": false
   },
   "outputs": [],
   "source": [
    "class InitializingPlayer:\n",
    "    def __init__(self, actions, steps, strategy_class, **kwargs):\n",
    "        self.actions = actions\n",
    "        self.strategy_class = strategy_class\n",
    "        self.steps = steps\n",
    "        self.strategy_args = kwargs\n",
    "    def evaluate(self, games=1000, progressbar=True,hold=False, show=True,\n",
    "                 show_opt=True, smoothen=False, color='b', label=' '):\n",
    "        rewards = np.zeros(self.steps)\n",
    "        optimum = np.zeros(self.steps)\n",
    "        if progressbar:\n",
    "            games_range = log_progress(range(games), every=10)\n",
    "        else:\n",
    "            games_range = range(games)\n",
    "        for game in games_range:\n",
    "            model = MAB_Model(self.actions)\n",
    "            strategy = self.strategy_class(model, **(self.strategy_args))\n",
    "            for action in range(model.actions):\n",
    "                reward = strategy.model.get_reward(action)\n",
    "                strategy.update_reward(action, reward)\n",
    "                rewards[action] += reward / games\n",
    "                optimum[action] += model.reward_means.max() / games\n",
    "            for action in range(model.actions):\n",
    "                reward = strategy.model.get_reward(action)\n",
    "                strategy.update_reward(action, reward)\n",
    "                rewards[model.actions + action] += reward / games\n",
    "                optimum[action + model.actions] += model.reward_means.max() / games\n",
    "            for i in range(self.steps - 2*model.actions):\n",
    "                rewards[i + 2*model.actions] += strategy.make_step() / games\n",
    "                optimum[i + 2*model.actions] += model.reward_means.max() / games\n",
    "        for i in range(1, self.steps):\n",
    "            rewards[i] += rewards[i-1]\n",
    "            optimum[i] += optimum[i-1]\n",
    "        if show:\n",
    "            x = np.arange(1, self.steps+1)\n",
    "            if show_opt:\n",
    "                plt.plot(x, optimum, 'k', label='optimum')\n",
    "            plot_rewards = rewards\n",
    "            if (smoothen):\n",
    "                plot_rewards = rewards.copy()\n",
    "                plot_rewards = gaussian_filter1d(plot_rewards, 10.0)\n",
    "            plt.plot(x, plot_rewards, color, label=label)\n",
    "            plt.title('Average reward', fontsize=16)\n",
    "            if not hold:\n",
    "                plt.show()\n",
    "        return round(rewards.sum() * 100  / optimum.sum())\n",
    "\n",
    "player = InitializingPlayer(20, 1000, Greedy)\n",
    "result = player.evaluate(games=1000)\n",
    "print('Total reward:', str(result) + \"%\")"
   ]
  },
  {
   "cell_type": "markdown",
   "metadata": {},
   "source": [
    "Однако можно заметить, что очень похожего результата можно добиться, если инициализировать вектор средних наград не нулями, а достаточно большими числами (в данном случае - 20), которые с достаточно большой вероятностью будут больше выпадающей награды. Таким образом, с вероятностью, близкой к 1, при первом выборе автомата его средняя награда станет меньше 20. Таким образом, в начале запуска стратегия переберёт все автоматы по одному разу и лишь затем начнёт играть жадно:"
   ]
  },
  {
   "cell_type": "code",
   "execution_count": null,
   "metadata": {
    "collapsed": false
   },
   "outputs": [],
   "source": [
    "class Greedy10(MAB_Strategy):\n",
    "    def __init__(self, model):\n",
    "        MAB_Strategy.__init__(self, model)\n",
    "        self.reward_means.fill(20)\n",
    "    def make_step(self):\n",
    "        best = self.best_actions()\n",
    "        action = np.random.choice(best)\n",
    "        reward = self.model.get_reward(action)\n",
    "        self.update_reward(action, reward)\n",
    "        return reward\n",
    "player = Player(20, 1000, Greedy10)\n",
    "result = player.evaluate(games=1000)\n",
    "print('Total reward:', result)"
   ]
  },
  {
   "cell_type": "markdown",
   "metadata": {},
   "source": [
    "### $\\varepsilon$ -greedy стратегия"
   ]
  },
  {
   "cell_type": "code",
   "execution_count": 14,
   "metadata": {
    "collapsed": true
   },
   "outputs": [],
   "source": [
    "class E_Greedy(MAB_Strategy):\n",
    "    def __init__(self, model, eps):\n",
    "        MAB_Strategy.__init__(self, model)\n",
    "        self.eps = eps\n",
    "    def make_step(self):\n",
    "        best = (self.reward_means == np.max(self.reward_means))\n",
    "        proba = (1-self.eps) * best / best.sum()\n",
    "        proba += self.eps * np.ones((self.model.actions)) / self.model.actions\n",
    "        action = np.random.choice(self.model.actions, p=proba)\n",
    "        reward = self.model.get_reward(action)\n",
    "        self.update_reward(action, reward)\n",
    "        return reward"
   ]
  },
  {
   "cell_type": "markdown",
   "metadata": {},
   "source": [
    "В данной стратегии $\\varepsilon$ отвечает за \"любознательность\" стратегии: чем значение больше, тем меньше стратегия будет оглядываться на предыдущие результаты и тем активнее выбирать случайный автомат. При $\\varepsilon = 1$ стратегия вообще не будет учитывать средние награды и будет выбирать автоматы случайным образом. При $\\varepsilon = 0$ наоборот, стратегия превратится в обыкновенную жадную"
   ]
  },
  {
   "cell_type": "markdown",
   "metadata": {},
   "source": [
    "### Softmax"
   ]
  },
  {
   "cell_type": "code",
   "execution_count": 15,
   "metadata": {
    "collapsed": true
   },
   "outputs": [],
   "source": [
    "class Softmax(MAB_Strategy):\n",
    "    def __init__(self, model, eps):\n",
    "        MAB_Strategy.__init__(self, model)\n",
    "        self.eps = eps\n",
    "    def make_step(self):\n",
    "        proba = np.exp( (self.reward_means - np.max(self.reward_means)) / self.eps)\n",
    "        proba = proba / proba.sum()\n",
    "        action = np.random.choice(self.model.actions, p=proba)\n",
    "        reward = self.model.get_reward(action)\n",
    "        self.update_reward(action, reward)\n",
    "        return reward"
   ]
  },
  {
   "cell_type": "markdown",
   "metadata": {},
   "source": [
    "Здесь тоже при $\\varepsilon \\rightarrow 0$ мы увеличиваем значения степеней в выражении, и\n",
    "$\\pi_{t+1}(a) \\rightarrow \\{a = \\arg \\max Q_t(a)\\}$\n",
    "\n",
    "В то же время при $\\varepsilon \\rightarrow \\infty : \\; \\forall a \\; \\frac {Q_t(a)}{\\varepsilon} \\rightarrow 0,\\; e^{<...>} \\rightarrow 1,\\; \\pi_{t+1}(a) \\rightarrow \\frac{1}{|A|}$"
   ]
  },
  {
   "cell_type": "markdown",
   "metadata": {},
   "source": [
    "### Upper Confidence Bound"
   ]
  },
  {
   "cell_type": "code",
   "execution_count": 16,
   "metadata": {
    "collapsed": true
   },
   "outputs": [],
   "source": [
    "class UCB(MAB_Strategy):\n",
    "    def __init__(self, model, eps):\n",
    "        MAB_Strategy.__init__(self, model)\n",
    "        self.eps = eps\n",
    "        self.step = 0\n",
    "    def make_step(self):\n",
    "        value = self.reward_means.copy()\n",
    "        value += self.eps * np.sqrt(2 * math.log(self.step + 1) / (self.action_uses + 0.001))\n",
    "        self.step += 1\n",
    "        best =  np.argwhere(value == np.max(value))\n",
    "        best = best.reshape(best.shape[0])\n",
    "        action = np.random.choice(best)\n",
    "        reward = self.model.get_reward(action)\n",
    "        self.update_reward(action, reward)\n",
    "        return reward"
   ]
  },
  {
   "cell_type": "markdown",
   "metadata": {},
   "source": [
    "Тут с $\\varepsilon$ тоже всё очевидно: при $\\varepsilon \\rightarrow \\infty$ важность того, с какой частотой мы использовали автомат, увеличивается и вскоре начинает перевешивать важность известной средней награды, в результате стратегия опять превращается в случайную, причём не в абсолютно случайную, а с повышенной вероятностью выбора малопосещаемых автоматов"
   ]
  },
  {
   "cell_type": "code",
   "execution_count": null,
   "metadata": {
    "collapsed": false
   },
   "outputs": [],
   "source": [
    "\n",
    "# ATTENTION: takes a significant amount of time to be processed\n",
    "games_num = 1000\n",
    "\n",
    "player = Player(20, 1000, Greedy)\n",
    "result = player.evaluate(games=games_num, show=False)\n",
    "greedy_sum = result\n",
    "\n",
    "egreedy_epsilons = [0.01, 0.05, 0.075, 0.1, 0.15, 0.2, 0.3, 0.4]\n",
    "egreedy_results = []\n",
    "for e in log_progress(egreedy_epsilons, every=1):\n",
    "    player = Player(20, 1000, E_Greedy, eps=e)\n",
    "    res = player.evaluate(games=games_num, show=False, progressbar=False)\n",
    "    egreedy_results.append(res)\n",
    "    \n",
    "softmax_epsilons = [0.05, 0.1, 0.2, 0.25, 0.3, 0.35, 0.4, 0.5]\n",
    "softmax_results = []\n",
    "for e in log_progress(softmax_epsilons, every=1):\n",
    "    player = Player(20, 1000, Softmax, eps=e)\n",
    "    res = player.evaluate(games=games_num, show=False, progressbar=False)\n",
    "    softmax_results.append(res)\n",
    "    \n",
    "ucb_epsilons = [0, 0.01, 0.015, 0.02, 0.05, 0.1, 0.2, 0.25, 0.3, 0.4, 0.5]\n",
    "ucb_results = []\n",
    "for e in log_progress(ucb_epsilons, every=1):\n",
    "    player = Player(20, 1000, UCB, eps=e)\n",
    "    res = player.evaluate(games=games_num, show=False, progressbar=False)\n",
    "    ucb_results.append(res)\n",
    "\n",
    "plt.figure(figsize=(8, 5))\n",
    "plt.title('score', fontsize=16)\n",
    "plt.axis([0, max(egreedy_epsilons[-1], softmax_epsilons[-1], ucb_epsilons[-1]),\n",
    "          0, max(*egreedy_results, *softmax_results, *ucb_results)*1.1])\n",
    "plt.xlabel('epsilon', fontsize=12)\n",
    "plt.ylabel('total reward', fontsize=12)\n",
    "plt.hold(True)\n",
    "plt.plot(ucb_epsilons, ucb_results, 'm', label='UCB', linewidth=1.5)\n",
    "plt.plot(softmax_epsilons, softmax_results, 'b', label='softmax', linewidth=1.5)\n",
    "plt.plot(egreedy_epsilons, egreedy_results, 'g', label='epsilon-greedy', linewidth=1.5)\n",
    "plt.plot([0, max(softmax_epsilons[-1], egreedy_epsilons[-1])], [greedy_sum, greedy_sum],\n",
    "         'r', label='greedy', linewidth=1.5)\n",
    "plt.plot([0, max(softmax_epsilons[-1], egreedy_epsilons[-1])], [100, 100],\n",
    "         'k', label='optimal', linewidth=1.5)\n",
    "plt.hold(False)\n",
    "plt.legend(loc='lower center', fontsize=14, ncol=2)\n",
    "plt.show()"
   ]
  },
  {
   "cell_type": "markdown",
   "metadata": {},
   "source": [
    "Таким образом, мы определили наилучшие коэффициенты $\\varepsilon$ для алгоритмов -  $\\varepsilon=0.1$ для $\\varepsilon-greedy$, $\\varepsilon=0.25$ для $softmax$ и $\\varepsilon=0.25$ для $UCB$ и проверили превосходство UCB над прочими алгоритмами. Кроме того, заметно, что $UCB$ гораздо менее чувствителен к изменению параметров"
   ]
  },
  {
   "cell_type": "markdown",
   "metadata": {},
   "source": [
    "### Градиентный метод"
   ]
  },
  {
   "cell_type": "code",
   "execution_count": 17,
   "metadata": {
    "collapsed": false
   },
   "outputs": [],
   "source": [
    "class Gradient(MAB_Strategy):\n",
    "    def __init__(self, model, lambd):\n",
    "        MAB_Strategy.__init__(self, model)\n",
    "        self.lambd = lambd\n",
    "        self.priorities = np.zeros((model.actions))\n",
    "        self.step = 1\n",
    "    def update_reward(self, action, reward):\n",
    "        old_rewards = self.reward_means.copy()\n",
    "        proba = np.exp(self.priorities - np.max(self.priorities))\n",
    "        proba = proba / proba.sum()\n",
    "        self.reward_means += 1 / self.step * (reward - self.reward_means)\n",
    "        is_current_action_mask = np.zeros((self.model.actions))\n",
    "        is_current_action_mask[action] += 1\n",
    "        self.priorities += self.lambd * (reward - old_rewards) * (is_current_action_mask - proba)\n",
    "    def make_step(self):\n",
    "        proba = np.exp(self.priorities - np.max(self.priorities))\n",
    "        proba = proba / proba.sum()\n",
    "        action = np.random.choice(self.model.actions, p=proba)\n",
    "        reward = self.model.get_reward(action)\n",
    "        self.update_reward(action, reward)\n",
    "        self.step += 1\n",
    "        return reward"
   ]
  },
  {
   "cell_type": "code",
   "execution_count": null,
   "metadata": {
    "collapsed": false
   },
   "outputs": [],
   "source": [
    "grad_epsilons = [0, 0.01, 0.015, 0.02, 0.05, 0.1, 0.2, 0.25, 0.3, 0.4, 0.5]\n",
    "grad_results = []\n",
    "for e in log_progress(grad_epsilons, every=1):\n",
    "    player = Player(20, 1000, Gradient, lambd=e)\n",
    "    res = player.evaluate(games=1000, show=False, progressbar=False)\n",
    "    grad_results.append(res)\n",
    "\n",
    "plt.figure(figsize=(8, 5))\n",
    "plt.title('score', fontsize=16)\n",
    "plt.xlabel('lambda', fontsize=12)\n",
    "plt.ylabel('total reward', fontsize=12)\n",
    "plt.hold(True)\n",
    "plt.plot(grad_epsilons, grad_results, 'b', label='Grad', linewidth=1.5)\n",
    "plt.plot([0, grad_epsilons[-1]], [100, 100],\n",
    "         'k', label='optimal', linewidth=1.5)\n",
    "plt.hold(False)\n",
    "plt.legend(loc='lower center', fontsize=14, ncol=2)\n",
    "plt.show()\n",
    "print(\"Max result:\", str(max(grad_results)) + \"%\")"
   ]
  },
  {
   "cell_type": "markdown",
   "metadata": {},
   "source": [
    "Отсюда выберем параметр $\\lambda = 0.2$. Сравним теперь этот метод с предыдущими в динамике:"
   ]
  },
  {
   "cell_type": "code",
   "execution_count": 18,
   "metadata": {
    "collapsed": false
   },
   "outputs": [
    {
     "name": "stderr",
     "output_type": "stream",
     "text": [
      "/usr/local/lib/python3.5/dist-packages/ipykernel/__main__.py:6: MatplotlibDeprecationWarning: pyplot.hold is deprecated.\n",
      "    Future behavior will be consistent with the long-time default:\n",
      "    plot commands add elements without first clearing the\n",
      "    Axes and/or Figure.\n",
      "/usr/local/lib/python3.5/dist-packages/matplotlib/__init__.py:917: UserWarning: axes.hold is deprecated. Please remove it from your matplotlibrc and/or style files.\n",
      "  warnings.warn(self.msg_depr_set % key)\n",
      "/usr/local/lib/python3.5/dist-packages/matplotlib/rcsetup.py:152: UserWarning: axes.hold is deprecated, will be removed in 3.0\n",
      "  warnings.warn(\"axes.hold is deprecated, will be removed in 3.0\")\n",
      "/usr/local/lib/python3.5/dist-packages/ipykernel/__main__.py:17: MatplotlibDeprecationWarning: pyplot.hold is deprecated.\n",
      "    Future behavior will be consistent with the long-time default:\n",
      "    plot commands add elements without first clearing the\n",
      "    Axes and/or Figure.\n"
     ]
    },
    {
     "data": {
      "image/png": "[encoded data removed]",
      "text/plain": [
       "<matplotlib.figure.Figure at 0x7f186cc1dda0>"
      ]
     },
     "metadata": {},
     "output_type": "display_data"
    }
   ],
   "source": [
    "games_num = 1000\n",
    "\n",
    "plt.figure(figsize=(8, 5))\n",
    "plt.xlabel('steps')\n",
    "plt.ylabel(\"total reward at n'th step\")\n",
    "plt.hold(True)\n",
    "greedy_player = Player(20, 1000, Greedy)\n",
    "greedy_player.evaluate(games=games_num, show=True, hold=True, color='r', label='greedy', show_opt=True)\n",
    "e_greedy_player = Player(20, 1000, E_Greedy, eps=0.1)\n",
    "e_greedy_player.evaluate(games=games_num, show=True, hold=True, color='g', label='e-greedy', show_opt=False)\n",
    "softmax_player = Player(20, 1000, Softmax, eps=0.25)\n",
    "softmax_player.evaluate(games=games_num, show=True, hold=True, color='b', label='softmax', show_opt=False)\n",
    "ucb_player = Player(20, 1000, UCB, eps=0.25)\n",
    "ucb_player.evaluate(games=games_num, show=True, hold=True, color='m', label='UCB', show_opt=False)\n",
    "grad_player = Player(20, 1000, Gradient, lambd=0.2)\n",
    "grad_player.evaluate(games=games_num, show=True, hold=True, color='y', label='gradient', show_opt=False)\n",
    "plt.hold(False)\n",
    "plt.legend(loc='upper left', ncol=2, fontsize=14)\n",
    "plt.show()"
   ]
  },
  {
   "cell_type": "markdown",
   "metadata": {
    "collapsed": true
   },
   "source": [
    "## 2. Марковский процесс принятия решения (markov decison process)"
   ]
  },
  {
   "cell_type": "markdown",
   "metadata": {
    "collapsed": true
   },
   "source": [
    "### Задание\n",
    "#### 1. Приведите жизненный пример марковского процесса принятия решения (это может быть какаю-нибудь игра и т.п.).\n",
    "Очень простой пример - шахматы. Конечное, пусть и очень большое, количество состояний $S$, конечное множество действий $ A \\subset S \\times S$. Среда - наш противник - отвечает вполне себе случайно. Если рассматривать среду именно как противника, то она, конечно, отдаёт сильное предпочтение тем действиям, которые она считает выигрышными. Награда для каждого допустимого действия из $\\; S \\times A \\;$ нулевая за исключением последнего хода, по результатам которого присуждается награда $\\pm 1$. Кроме того, очевидно, что для принятия решения информация о предыдущих состояниях нерелевантна. Таким образом, принятие решения в шахматах можно смоделировать с помощью марковского процесса.\n",
    "#### 2. Можете ли вы привести пример игры, где принятие решения нельзя смоделировать с помощью марковского процесса?\n",
    "Крестики-нолики на бесконечной доске не могут быть смоделированы хотя бы из-за бесконечности (в частности, континуальности) множества состояний $S$.\n",
    "#### 3. Выведите следующие значения через $p(s_{t+1}, r_{t+1}|s_t, a_t)$, для простоты все распределения можно считать дискретными\n",
    "  * $r(s_{t}, a_{t}) = \\mathbb{E}[R_{t+1}|S_t = s_t, A_t = a_t]$ - средняя награда за действие $a_t$ в $s_t$ \n",
    "  * $p(s_{t+1} | s_t, a_t) = \\Pr\\{S_{t+1} = s_{t+1} | S_t = s_t, A_t = a_t \\}$ - вероятность попасть в $s_{t+1}$ из $s_t$, сделав $a_t$.\n",
    "  * $r(s_t, a_t, s_{t+1}) = \\mathbb{E}[R_{t+1}|S_{t+1} = s_{t+1}, S_t = s_t, A_t = a_t]$ - средняя награда при переезде из $s_t$ в $s_{t+1}$, сделав $a_t$.\n",
    "\n",
    "$r(s_{t}, a_{t}) = \\mathbb{E}[R_{t+1}|S_t = s_t, A_t = a_t] = \\sum_{s,r} r \\cdot p(s, r \\;|\\; s_t, a_t)$\n",
    "\n",
    "$p(s_{t+1} | s_t, a_t) = \\Pr\\{S_{t+1} = s_{t+1} | S_t = s_t, A_t = a_t \\} = \\sum_{r} p(s_{t+1}, r \\;|\\; s_t, a_t)$\n",
    "\n",
    "$r(s_t, a_t, s_{t+1}) = \\mathbb{E}[R_{t+1}|S_{t+1} = s_{t+1}, S_t = s_t, A_t = a_t] = \\sum_{r} r \\cdot p(s_{t+1}, r \\;|\\; s_t, a_t)$\n",
    "\n"
   ]
  },
  {
   "cell_type": "markdown",
   "metadata": {},
   "source": [
    "### Смоделируем среду:"
   ]
  },
  {
   "cell_type": "code",
   "execution_count": 50,
   "metadata": {
    "collapsed": false
   },
   "outputs": [],
   "source": [
    "class Environment:\n",
    "    def __init__(self, states, max_actions):\n",
    "        self.states = states\n",
    "        self.max_actions = max_actions\n",
    "        self.actions = 1 - np.random.randint(0, 2, size=(states, max_actions), dtype='int8') *\\\n",
    "                           np.random.randint(0, 2, size=(states, max_actions), dtype='int8')\n",
    "        self.actions[:, 0] += 1 - self.actions.max(1)\n",
    "        transitions = np.random.randint(0, 2, size=(states, states), dtype='int8')\n",
    "        self.reward_means = np.random.normal(0, 1, size=(states, max_actions)) * self.actions\n",
    "        self.transition_probas = np.random.random_sample((states, max_actions, states)).astype('float64')\n",
    "        for state in range(self.states):\n",
    "            for action in range(self.max_actions):\n",
    "                if self.actions[state, action] == 0:\n",
    "                    self.transition_probas[state, action] = 0\n",
    "                else:\n",
    "                    self.transition_probas[state, action] *= transitions[state]\n",
    "                    self.transition_probas[state, action] /= self.transition_probas[state, action].sum()\n",
    "                    self.transition_probas[state, action] += 0.02 * transitions[state]\n",
    "                    self.transition_probas[state, action] /= self.transition_probas[state, action].sum()\n",
    "                    \n",
    "    def proba(self, state, action, new_state=None, reward=None):\n",
    "        new_state_proba = 1.0\n",
    "        reward_proba = 1.0\n",
    "        if (new_state != None):\n",
    "            new_state_proba = self.transition_probas[state, action, new_state]\n",
    "        if (reward != None):\n",
    "            reward_proba = 1 / math.sqrt(2 * math.pi) * \\\n",
    "                    math.exp(-(reward - self.reward_means[state, action])**2 / 2) # density of normal distribution\n",
    "        return new_state_proba * reward_proba\n",
    "    \n",
    "    def step(self, state, action):\n",
    "#         print(self.transition_probas[state, action])\n",
    "        self.state = state\n",
    "        self.action = action\n",
    "        return (np.random.choice(self.states, p=self.transition_probas[state, action]),\n",
    "                np.random.normal(self.reward_means[state, action], 1))"
   ]
  },
  {
   "cell_type": "code",
   "execution_count": 51,
   "metadata": {
    "collapsed": false
   },
   "outputs": [],
   "source": [
    "class PolicyIterationStrategy:\n",
    "    def __init__(self, env, discount):\n",
    "        self.env = env\n",
    "        self.discount = discount\n",
    "        self.policy = env.actions.astype('float64')\n",
    "        self.policy /= self.policy.sum(1)[:, np.newaxis]\n",
    "    def learn(self, steps):\n",
    "        state_values = np.random.randn(self.env.states)\n",
    "        for i in range(steps): # TODO: decide when to stop\n",
    "            for state in range(self.env.states):\n",
    "                val_sum = 0\n",
    "                for action in range(self.env.max_actions):\n",
    "                    if self.env.actions[state, action] > 0:\n",
    "                        action_sum = 0\n",
    "                        for new_state in range(self.env.states):\n",
    "                            action_sum += self.env.transition_probas[state, action, new_state] * \\\n",
    "                                (self.env.reward_means[state, action] + \\\n",
    "                                 self.discount*state_values[new_state])\n",
    "                        val_sum += self.policy[state, action] * action_sum  \n",
    "            state_action_values = np.zeros((self.env.states, self.env.max_actions))\n",
    "            for state in range(self.env.states):\n",
    "                for action in range(self.env.max_actions):\n",
    "                    if self.env.actions[state, action] > 0:\n",
    "                        action_sum = 0\n",
    "                        for new_state in range(self.env.states):\n",
    "                            action_sum += self.env.transition_probas[state, action, new_state] * \\\n",
    "                                (self.env.reward_means[state, action] + \\\n",
    "                                 self.discount*state_values[new_state])\n",
    "                        state_action_values[state, action] = action_sum\n",
    "                best = np.argwhere(state_action_values[state] == state_action_values[state].max())\n",
    "                for b in best:\n",
    "                    self.policy[state, b] += 0.2\n",
    "                self.policy[state] /= self.policy[state].sum()\n",
    "    def choose(self, state):\n",
    "        return np.random.choice(self.env.max_actions, p=self.policy[state])\n",
    "    \n",
    "class RandomStrategy:\n",
    "    def __init__(self, env, discount):\n",
    "        self.env = env\n",
    "        self.discount = discount\n",
    "        self.policy = env.actions.astype('float64')\n",
    "        self.policy /= self.policy.sum(1)[:, np.newaxis]\n",
    "    def learn(self, steps):\n",
    "        pass\n",
    "    def choose(self, state):\n",
    "        return np.random.choice(self.env.max_actions, p=self.policy[state])"
   ]
  },
  {
   "cell_type": "code",
   "execution_count": 52,
   "metadata": {
    "collapsed": true
   },
   "outputs": [],
   "source": [
    "class MarkovPlayer:\n",
    "    def __init__(self, states, actions, steps, strategy_class, **kwargs):\n",
    "        self.states = states\n",
    "        self.actions = actions\n",
    "        self.strategy_class = strategy_class\n",
    "        self.steps = steps\n",
    "        self.strategy_args = kwargs\n",
    "    def evaluate(self, games=1000, learning_time=100, progressbar=True,hold=False, show=True,\n",
    "                 color='b', label=' '):\n",
    "        rewards = np.zeros(self.steps)\n",
    "        if progressbar:\n",
    "            games_range = log_progress(range(games), every=1)\n",
    "        else:\n",
    "            games_range = range(games)\n",
    "        for game in games_range:\n",
    "            state = 0\n",
    "            self.state = state\n",
    "            env = Environment(self.states, self.actions)\n",
    "            self.env = env\n",
    "            strategy = self.strategy_class(env, **(self.strategy_args))\n",
    "            strategy.learn(learning_time)\n",
    "            for i in range(self.steps):\n",
    "                state, rewards[i] = env.step(state, strategy.choose(state))\n",
    "                self.state = state\n",
    "        for i in range(1, self.steps):\n",
    "            rewards[i] += rewards[i-1]\n",
    "        if show:\n",
    "            x = np.arange(1, self.steps+1)\n",
    "            plot_rewards = rewards\n",
    "            plt.plot(x, plot_rewards, color, label=label)\n",
    "            plt.title('Total reward', fontsize=16)\n",
    "            if not hold:\n",
    "                plt.show()\n",
    "        return rewards.sum()"
   ]
  },
  {
   "cell_type": "code",
   "execution_count": 53,
   "metadata": {
    "collapsed": false
   },
   "outputs": [
    {
     "name": "stderr",
     "output_type": "stream",
     "text": [
      "/usr/local/lib/python3.5/dist-packages/ipykernel/__main__.py:5: MatplotlibDeprecationWarning: pyplot.hold is deprecated.\n",
      "    Future behavior will be consistent with the long-time default:\n",
      "    plot commands add elements without first clearing the\n",
      "    Axes and/or Figure.\n",
      "/usr/local/lib/python3.5/dist-packages/matplotlib/__init__.py:917: UserWarning: axes.hold is deprecated. Please remove it from your matplotlibrc and/or style files.\n",
      "  warnings.warn(self.msg_depr_set % key)\n",
      "/usr/local/lib/python3.5/dist-packages/matplotlib/rcsetup.py:152: UserWarning: axes.hold is deprecated, will be removed in 3.0\n",
      "  warnings.warn(\"axes.hold is deprecated, will be removed in 3.0\")\n"
     ]
    },
    {
     "ename": "ValueError",
     "evalue": "probabilities do not sum to 1",
     "output_type": "error",
     "traceback": [
      "\u001b[0;31m---------------------------------------------------------------------------\u001b[0m",
      "\u001b[0;31mValueError\u001b[0m                                Traceback (most recent call last)",
      "\u001b[0;32m<ipython-input-53-2fab868b52f9>\u001b[0m in \u001b[0;36m<module>\u001b[0;34m()\u001b[0m\n\u001b[1;32m      6\u001b[0m \u001b[0mrandom_player\u001b[0m\u001b[0;34m.\u001b[0m\u001b[0mevaluate\u001b[0m\u001b[0;34m(\u001b[0m\u001b[0mgames\u001b[0m\u001b[0;34m=\u001b[0m\u001b[0;36m10\u001b[0m\u001b[0;34m,\u001b[0m \u001b[0mhold\u001b[0m\u001b[0;34m=\u001b[0m\u001b[0;32mTrue\u001b[0m\u001b[0;34m,\u001b[0m \u001b[0mcolor\u001b[0m\u001b[0;34m=\u001b[0m\u001b[0;34m'k'\u001b[0m\u001b[0;34m)\u001b[0m\u001b[0;34m\u001b[0m\u001b[0m\n\u001b[1;32m      7\u001b[0m \u001b[0mpolicy_iteration_player\u001b[0m\u001b[0;34m.\u001b[0m\u001b[0mevaluate\u001b[0m\u001b[0;34m(\u001b[0m\u001b[0mgames\u001b[0m\u001b[0;34m=\u001b[0m\u001b[0;36m10\u001b[0m\u001b[0;34m,\u001b[0m \u001b[0mlearning_time\u001b[0m\u001b[0;34m=\u001b[0m\u001b[0;36m5\u001b[0m\u001b[0;34m,\u001b[0m \u001b[0mhold\u001b[0m\u001b[0;34m=\u001b[0m\u001b[0;32mTrue\u001b[0m\u001b[0;34m,\u001b[0m \u001b[0mcolor\u001b[0m\u001b[0;34m=\u001b[0m\u001b[0;34m'r'\u001b[0m\u001b[0;34m)\u001b[0m\u001b[0;34m\u001b[0m\u001b[0m\n\u001b[0;32m----> 8\u001b[0;31m \u001b[0mpolicy_iteration_player\u001b[0m\u001b[0;34m.\u001b[0m\u001b[0mevaluate\u001b[0m\u001b[0;34m(\u001b[0m\u001b[0mgames\u001b[0m\u001b[0;34m=\u001b[0m\u001b[0;36m10\u001b[0m\u001b[0;34m,\u001b[0m \u001b[0mlearning_time\u001b[0m\u001b[0;34m=\u001b[0m\u001b[0;36m10\u001b[0m\u001b[0;34m,\u001b[0m \u001b[0mhold\u001b[0m\u001b[0;34m=\u001b[0m\u001b[0;32mTrue\u001b[0m\u001b[0;34m,\u001b[0m \u001b[0mcolor\u001b[0m\u001b[0;34m=\u001b[0m\u001b[0;34m'g'\u001b[0m\u001b[0;34m)\u001b[0m\u001b[0;34m\u001b[0m\u001b[0m\n\u001b[0m\u001b[1;32m      9\u001b[0m \u001b[0mpolicy_iteration_player\u001b[0m\u001b[0;34m.\u001b[0m\u001b[0mevaluate\u001b[0m\u001b[0;34m(\u001b[0m\u001b[0mgames\u001b[0m\u001b[0;34m=\u001b[0m\u001b[0;36m10\u001b[0m\u001b[0;34m,\u001b[0m \u001b[0mlearning_time\u001b[0m\u001b[0;34m=\u001b[0m\u001b[0;36m25\u001b[0m\u001b[0;34m,\u001b[0m \u001b[0mhold\u001b[0m\u001b[0;34m=\u001b[0m\u001b[0;32mTrue\u001b[0m\u001b[0;34m,\u001b[0m \u001b[0mcolor\u001b[0m\u001b[0;34m=\u001b[0m\u001b[0;34m'm'\u001b[0m\u001b[0;34m)\u001b[0m\u001b[0;34m\u001b[0m\u001b[0m\n\u001b[1;32m     10\u001b[0m \u001b[0mpolicy_iteration_player\u001b[0m\u001b[0;34m.\u001b[0m\u001b[0mevaluate\u001b[0m\u001b[0;34m(\u001b[0m\u001b[0mgames\u001b[0m\u001b[0;34m=\u001b[0m\u001b[0;36m10\u001b[0m\u001b[0;34m,\u001b[0m \u001b[0mlearning_time\u001b[0m\u001b[0;34m=\u001b[0m\u001b[0;36m50\u001b[0m\u001b[0;34m,\u001b[0m \u001b[0mhold\u001b[0m\u001b[0;34m=\u001b[0m\u001b[0;32mTrue\u001b[0m\u001b[0;34m,\u001b[0m \u001b[0mcolor\u001b[0m\u001b[0;34m=\u001b[0m\u001b[0;34m'b'\u001b[0m\u001b[0;34m)\u001b[0m\u001b[0;34m\u001b[0m\u001b[0m\n",
      "\u001b[0;32m<ipython-input-52-1cfeb51686b6>\u001b[0m in \u001b[0;36mevaluate\u001b[0;34m(self, games, learning_time, progressbar, hold, show, color, label)\u001b[0m\n\u001b[1;32m     21\u001b[0m             \u001b[0mstrategy\u001b[0m\u001b[0;34m.\u001b[0m\u001b[0mlearn\u001b[0m\u001b[0;34m(\u001b[0m\u001b[0mlearning_time\u001b[0m\u001b[0;34m)\u001b[0m\u001b[0;34m\u001b[0m\u001b[0m\n\u001b[1;32m     22\u001b[0m             \u001b[0;32mfor\u001b[0m \u001b[0mi\u001b[0m \u001b[0;32min\u001b[0m \u001b[0mrange\u001b[0m\u001b[0;34m(\u001b[0m\u001b[0mself\u001b[0m\u001b[0;34m.\u001b[0m\u001b[0msteps\u001b[0m\u001b[0;34m)\u001b[0m\u001b[0;34m:\u001b[0m\u001b[0;34m\u001b[0m\u001b[0m\n\u001b[0;32m---> 23\u001b[0;31m                 \u001b[0mstate\u001b[0m\u001b[0;34m,\u001b[0m \u001b[0mrewards\u001b[0m\u001b[0;34m[\u001b[0m\u001b[0mi\u001b[0m\u001b[0;34m]\u001b[0m \u001b[0;34m=\u001b[0m \u001b[0menv\u001b[0m\u001b[0;34m.\u001b[0m\u001b[0mstep\u001b[0m\u001b[0;34m(\u001b[0m\u001b[0mstate\u001b[0m\u001b[0;34m,\u001b[0m \u001b[0mstrategy\u001b[0m\u001b[0;34m.\u001b[0m\u001b[0mchoose\u001b[0m\u001b[0;34m(\u001b[0m\u001b[0mstate\u001b[0m\u001b[0;34m)\u001b[0m\u001b[0;34m)\u001b[0m\u001b[0;34m\u001b[0m\u001b[0m\n\u001b[0m\u001b[1;32m     24\u001b[0m                 \u001b[0mself\u001b[0m\u001b[0;34m.\u001b[0m\u001b[0mstate\u001b[0m \u001b[0;34m=\u001b[0m \u001b[0mstate\u001b[0m\u001b[0;34m\u001b[0m\u001b[0m\n\u001b[1;32m     25\u001b[0m         \u001b[0;32mfor\u001b[0m \u001b[0mi\u001b[0m \u001b[0;32min\u001b[0m \u001b[0mrange\u001b[0m\u001b[0;34m(\u001b[0m\u001b[0;36m1\u001b[0m\u001b[0;34m,\u001b[0m \u001b[0mself\u001b[0m\u001b[0;34m.\u001b[0m\u001b[0msteps\u001b[0m\u001b[0;34m)\u001b[0m\u001b[0;34m:\u001b[0m\u001b[0;34m\u001b[0m\u001b[0m\n",
      "\u001b[0;32m<ipython-input-50-8e9405ce1c70>\u001b[0m in \u001b[0;36mstep\u001b[0;34m(self, state, action)\u001b[0m\n\u001b[1;32m     31\u001b[0m         \u001b[0mself\u001b[0m\u001b[0;34m.\u001b[0m\u001b[0mstate\u001b[0m \u001b[0;34m=\u001b[0m \u001b[0mstate\u001b[0m\u001b[0;34m\u001b[0m\u001b[0m\n\u001b[1;32m     32\u001b[0m         \u001b[0mself\u001b[0m\u001b[0;34m.\u001b[0m\u001b[0maction\u001b[0m \u001b[0;34m=\u001b[0m \u001b[0maction\u001b[0m\u001b[0;34m\u001b[0m\u001b[0m\n\u001b[0;32m---> 33\u001b[0;31m         return (np.random.choice(self.states, p=self.transition_probas[state, action]),\n\u001b[0m\u001b[1;32m     34\u001b[0m                 np.random.normal(self.reward_means[state, action], 1))\n",
      "\u001b[0;32mmtrand.pyx\u001b[0m in \u001b[0;36mmtrand.RandomState.choice (numpy/random/mtrand/mtrand.c:17766)\u001b[0;34m()\u001b[0m\n",
      "\u001b[0;31mValueError\u001b[0m: probabilities do not sum to 1"
     ]
    }
   ],
   "source": [
    "random_player = MarkovPlayer(states=10, actions=5, steps=1000,\n",
    "                           strategy_class=RandomStrategy, discount=1.0)\n",
    "policy_iteration_player = MarkovPlayer(states=100, actions=20, steps=1000,\n",
    "                           strategy_class=PolicyIterationStrategy, discount=1.0)\n",
    "plt.hold(True)\n",
    "random_player.evaluate(games=10, hold=True, color='k')\n",
    "policy_iteration_player.evaluate(games=10, learning_time=5, hold=True, color='r')\n",
    "policy_iteration_player.evaluate(games=10, learning_time=10, hold=True, color='g')\n",
    "policy_iteration_player.evaluate(games=10, learning_time=25, hold=True, color='m')\n",
    "policy_iteration_player.evaluate(games=10, learning_time=50, hold=True, color='b')\n",
    "plt.hold(False)\n",
    "plt.show()"
   ]
  },
  {
   "cell_type": "code",
   "execution_count": 55,
   "metadata": {
    "collapsed": false
   },
   "outputs": [
    {
     "name": "stdout",
     "output_type": "stream",
     "text": [
      "20 17\n",
      "[ 0.  0.  0.  0.  0.  0.  0.  0.  0.  0.  0.  0.  0.  0.  0.  0.  0.  0.\n",
      "  0.  0.  0.  0.  0.  0.  0.  0.  0.  0.  0.  0.  0.  0.  0.  0.  0.  0.\n",
      "  0.  0.  0.  0.  0.  0.  0.  0.  0.  0.  0.  0.  0.  0.  0.  0.  0.  0.\n",
      "  0.  0.  0.  0.  0.  0.  0.  0.  0.  0.  0.  0.  0.  0.  0.  0.  0.  0.\n",
      "  0.  0.  0.  0.  0.  0.  0.  0.  0.  0.  0.  0.  0.  0.  0.  0.  0.  0.\n",
      "  0.  0.  0.  0.  0.  0.  0.  0.  0.  0.]\n"
     ]
    }
   ],
   "source": [
    "# print(policy_iteration_player.env.transition_probas)\n",
    "print(policy_iteration_player.env.state, policy_iteration_player.env.action)\n",
    "print(policy_iteration_player.env.transition_probas[20, 17])"
   ]
  },
  {
   "cell_type": "code",
   "execution_count": null,
   "metadata": {
    "collapsed": true
   },
   "outputs": [],
   "source": []
  }
 ],
 "metadata": {
  "kernelspec": {
   "display_name": "Python 3",
   "language": "python",
   "name": "python3"
  },
  "language_info": {
   "codemirror_mode": {
    "name": "ipython",
    "version": 3
   },
   "file_extension": ".py",
   "mimetype": "text/x-python",
   "name": "python",
   "nbconvert_exporter": "python",
   "pygments_lexer": "ipython3",
   "version": "3.5.2+"
  },
  "widgets": {
   "state": {
    "02d8fef473cd4bd0ab79f5f906292878": {
     "views": [
      {
       "cell_index": 28
      }
     ]
    },
    "0c3ea2a36f5a412592397f4d88c0111b": {
     "views": [
      {
       "cell_index": 35
      }
     ]
    },
    "0e62fac33bf84f028a162de9abf3dd5c": {
     "views": [
      {
       "cell_index": 35
      }
     ]
    },
    "111ed97e676943299a443ab4575bc556": {
     "views": [
      {
       "cell_index": 28
      }
     ]
    },
    "18efad05fba84e91852f4bea2077cf38": {
     "views": [
      {
       "cell_index": 35
      }
     ]
    },
    "1ba56523257d43cc8fac1dc205ba7355": {
     "views": [
      {
       "cell_index": 28
      }
     ]
    },
    "1bbf459b86c4457ebea6b55b35f70064": {
     "views": [
      {
       "cell_index": 35
      }
     ]
    },
    "1c680e26f40e430f8fa17a8fa5c4d540": {
     "views": [
      {
       "cell_index": 28
      }
     ]
    },
    "29240cd6cd604da49fbdb272552f1609": {
     "views": [
      {
       "cell_index": 35
      }
     ]
    },
    "29a28e11f57b41cbab41e1585c43eab7": {
     "views": [
      {
       "cell_index": 28
      }
     ]
    },
    "31008aaa283d4085adf070f38fe5de18": {
     "views": [
      {
       "cell_index": 35
      }
     ]
    },
    "35d47af9e834416b8a905a161915f60d": {
     "views": [
      {
       "cell_index": 35
      }
     ]
    },
    "3e2e00bcdd204bcdb17c1a404b18ade8": {
     "views": [
      {
       "cell_index": 35
      }
     ]
    },
    "3eee20e83bce45f0aadfbbb03d059b18": {
     "views": [
      {
       "cell_index": 35
      }
     ]
    },
    "44468a99fdf546089b0d00bfcb4c215c": {
     "views": [
      {
       "cell_index": 35
      }
     ]
    },
    "4a4840df03a84de084865ff3d22285b3": {
     "views": [
      {
       "cell_index": 35
      }
     ]
    },
    "5217229e85dc43e68d2420a565e055c4": {
     "views": [
      {
       "cell_index": 35
      }
     ]
    },
    "5cd26b28a4cb457792f9874d4b12bc0b": {
     "views": [
      {
       "cell_index": 35
      }
     ]
    },
    "62599131db614525b087bd13de137abe": {
     "views": [
      {
       "cell_index": 28
      }
     ]
    },
    "6a1a7720a39640479d94360fe1b19cab": {
     "views": [
      {
       "cell_index": 28
      }
     ]
    },
    "7173231dcb1a4efa8d2467a4652c1af1": {
     "views": [
      {
       "cell_index": 35
      }
     ]
    },
    "7d151c49327742a497df87d3076d74a7": {
     "views": [
      {
       "cell_index": 35
      }
     ]
    },
    "8322b67b7c004f4c9b7d273904981a72": {
     "views": [
      {
       "cell_index": 35
      }
     ]
    },
    "832d5c7d365f4e54a5b83a3b091a355c": {
     "views": [
      {
       "cell_index": 35
      }
     ]
    },
    "8fe93df1a6ea40d7bccc4f06e56a4347": {
     "views": [
      {
       "cell_index": 35
      }
     ]
    },
    "944ae7ba7fbb4cea97d831d2d6aa00a4": {
     "views": [
      {
       "cell_index": 35
      }
     ]
    },
    "94772bc2f6954c5f9be3fba685585ca9": {
     "views": [
      {
       "cell_index": 35
      }
     ]
    },
    "99ec22ba964443d5aa8b297cc2b3aa52": {
     "views": [
      {
       "cell_index": 35
      }
     ]
    },
    "a72a53c99ad44578b73f48270336f731": {
     "views": [
      {
       "cell_index": 28
      }
     ]
    },
    "aaf9b9422a00439491eb76e8d48b0a3d": {
     "views": [
      {
       "cell_index": 35
      }
     ]
    },
    "ac9d5b3cb37e408f83b2274a8c874a69": {
     "views": [
      {
       "cell_index": 35
      }
     ]
    },
    "b7c1a5e004a946df8fc168d29385c4f2": {
     "views": [
      {
       "cell_index": 35
      }
     ]
    },
    "bd00d43f94bb43c6add6a5f2584b6848": {
     "views": [
      {
       "cell_index": 35
      }
     ]
    },
    "c17dbaaea4fc4abf97799293ab1fc590": {
     "views": [
      {
       "cell_index": 35
      }
     ]
    },
    "c8651d408e5d43ef85385b8a3ecef32e": {
     "views": [
      {
       "cell_index": 28
      }
     ]
    },
    "cc0eec0f8d3d419cb818ab8f27bd67d9": {
     "views": [
      {
       "cell_index": 35
      }
     ]
    },
    "cd5bf94db5e944bea8d45bdbdbf16580": {
     "views": [
      {
       "cell_index": 28
      }
     ]
    },
    "cf6f601fa6b142a694dd92348d762cf5": {
     "views": [
      {
       "cell_index": 35
      }
     ]
    },
    "d5490c59dfac487997a75d22a92e9766": {
     "views": [
      {
       "cell_index": 35
      }
     ]
    },
    "d7485351c0a44e328db0413b90592c89": {
     "views": [
      {
       "cell_index": 35
      }
     ]
    },
    "fdf5b5202d2c49e7a28d957944e3aca5": {
     "views": [
      {
       "cell_index": 35
      }
     ]
    },
    "fe3e85e21bdc41f5adc99084f87d9a58": {
     "views": [
      {
       "cell_index": 28
      }
     ]
    },
    "ff1a8125d1d1461aae8e5b4cace6523c": {
     "views": [
      {
       "cell_index": 35
      }
     ]
    },
    "ffe19b7e88084ac2b4d9cb430bb1348b": {
     "views": [
      {
       "cell_index": 35
      }
     ]
    }
   },
   "version": "1.2.0"
  }
 },
 "nbformat": 4,
 "nbformat_minor": 2
}
