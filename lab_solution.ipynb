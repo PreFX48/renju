{
 "cells": [
  {
   "cell_type": "code",
   "execution_count": null,
   "metadata": {
    "collapsed": true
   },
   "outputs": [],
   "source": [
    "## Задание 1"
   ]
  },
  {
   "cell_type": "code",
   "execution_count": 140,
   "metadata": {
    "collapsed": true
   },
   "outputs": [],
   "source": [
    "#imports\n",
    "import sys\n",
    "import numpy as np\n",
    "import matplotlib.pyplot as plt\n",
    "import math\n",
    "import sympy\n",
    "from sympy import init_printing\n",
    "from IPython.display import display\n",
    "from numpy import genfromtxt\n",
    "from mpmath import diff\n",
    "import time\n",
    "init_printing(use_latex='mathjax')"
   ]
  },
  {
   "cell_type": "markdown",
   "metadata": {},
   "source": [
    "### Красивый вывод прогресс-бара"
   ]
  },
  {
   "cell_type": "code",
   "execution_count": 141,
   "metadata": {
    "collapsed": true
   },
   "outputs": [],
   "source": [
    "def log_progress(sequence, every=None, size=None):\n",
    "    from ipywidgets import IntProgress, HTML, VBox\n",
    "    from IPython.display import display\n",
    "\n",
    "    is_iterator = False\n",
    "    if size is None:\n",
    "        try:\n",
    "            size = len(sequence)\n",
    "        except TypeError:\n",
    "            is_iterator = True\n",
    "    if size is not None:\n",
    "        if every is None:\n",
    "            if size <= 200:\n",
    "                every = 1\n",
    "            else:\n",
    "                every = size / 200     # every 0.5%\n",
    "    else:\n",
    "        assert every is not None, 'sequence is iterator, set every'\n",
    "\n",
    "    if is_iterator:\n",
    "        progress = IntProgress(min=0, max=1, value=1)\n",
    "        progress.bar_style = 'info'\n",
    "    else:\n",
    "        progress = IntProgress(min=0, max=size, value=0)\n",
    "    label = HTML()\n",
    "    box = VBox(children=[label, progress])\n",
    "    display(box)\n",
    "\n",
    "    index = 0\n",
    "    try:\n",
    "        for index, record in enumerate(sequence, 1):\n",
    "            if index == 1 or index % every == 0:\n",
    "                if is_iterator:\n",
    "                    label.value = '{index} / ?'.format(index=index)\n",
    "                else:\n",
    "                    progress.value = index\n",
    "                    label.value = u'{index} / {size}'.format(\n",
    "                        index=index,\n",
    "                        size=size\n",
    "                    )\n",
    "            yield record\n",
    "    except:\n",
    "        progress.bar_style = 'danger'\n",
    "        raise\n",
    "    else:\n",
    "        progress.bar_style = 'success'\n",
    "        progress.value = index\n",
    "        label.value = str(index or '?')"
   ]
  },
  {
   "cell_type": "markdown",
   "metadata": {},
   "source": [
    "### Пункт 1"
   ]
  },
  {
   "cell_type": "code",
   "execution_count": 142,
   "metadata": {
    "collapsed": true
   },
   "outputs": [],
   "source": [
    "mean1 = [0, 0]\n",
    "mean2 = [3, 3]\n",
    "cov = [[1, 0], [0, 1]]\n",
    "x1, y1 = np.random.multivariate_normal(mean1, cov, 750).T\n",
    "x2, y2 = np.random.multivariate_normal(mean2, cov, 750).T"
   ]
  },
  {
   "cell_type": "markdown",
   "metadata": {},
   "source": [
    "### Пункт 2"
   ]
  },
  {
   "cell_type": "code",
   "execution_count": 143,
   "metadata": {
    "collapsed": true
   },
   "outputs": [],
   "source": [
    "def quadratic_loss_optimization(samples, labels):\n",
    "    labels = np.asarray(labels)\n",
    "    np.reshape(labels, (labels.shape[0], 1))\n",
    "    samples_t = samples.transpose();\n",
    "    # pseudoinversion in case the matrix here is not invertible \n",
    "    return np.linalg.pinv((samples_t @ samples)) @ samples_t @ labels"
   ]
  },
  {
   "cell_type": "markdown",
   "metadata": {},
   "source": [
    "### Пункт 3"
   ]
  },
  {
   "cell_type": "markdown",
   "metadata": {},
   "source": [
    "Теперь по сгенерированным данным отобразим на графике оба класса (синий - \"1\", красный - \"-1\")"
   ]
  },
  {
   "cell_type": "code",
   "execution_count": 144,
   "metadata": {
    "collapsed": false
   },
   "outputs": [
    {
     "data": {
      "image/png": "[encoded data removed]",
      "text/plain": [
       "<matplotlib.figure.Figure at 0x7efefde9d978>"
      ]
     },
     "metadata": {},
     "output_type": "display_data"
    }
   ],
   "source": [
    "plt.plot(x1, y1, 'b.', x2, y2, 'r.', markersize=5, alpha=0.8)\n",
    "plt.axis('equal')\n",
    "plt.show()"
   ]
  },
  {
   "cell_type": "markdown",
   "metadata": {},
   "source": [
    "### Пункт 4"
   ]
  },
  {
   "cell_type": "code",
   "execution_count": 145,
   "metadata": {
    "collapsed": false
   },
   "outputs": [
    {
     "name": "stdout",
     "output_type": "stream",
     "text": [
      "[-0.27410496 -0.27736881] 0.824508693868\n"
     ]
    }
   ],
   "source": [
    "x1_t = x1.reshape((x1.shape[0], 1))\n",
    "y1_t = y1.reshape((y1.shape[0], 1))\n",
    "x2_t = x2.reshape((x2.shape[0], 1))\n",
    "y2_t = y2.reshape((y2.shape[0], 1))\n",
    "samples_1 = np.hstack((x1_t, y1_t))\n",
    "samples_2 = np.hstack((x2_t, y2_t))\n",
    "labels_1 = np.ones((x1_t.shape[0], 1))\n",
    "labels_2 = -np.ones((x2_t.shape[0], 1))\n",
    "samples = np.vstack((samples_1, samples_2))\n",
    "prepared_samples = np.hstack((samples, np.ones((samples.shape[0], 1))))\n",
    "labels = np.vstack((labels_1, labels_2))\n",
    "parameters = quadratic_loss_optimization(prepared_samples, labels)\n",
    "coefs = parameters[:-1, 0]\n",
    "shift = parameters[-1, 0]\n",
    "print(coefs, shift)"
   ]
  },
  {
   "cell_type": "markdown",
   "metadata": {},
   "source": [
    "Простая функция определения класса"
   ]
  },
  {
   "cell_type": "code",
   "execution_count": 146,
   "metadata": {
    "collapsed": false
   },
   "outputs": [],
   "source": [
    "def classify(x, coefs, shift):\n",
    "    if np.dot(x, coefs) + shift >= 0:\n",
    "        return 1\n",
    "    else:\n",
    "        return -1\n",
    "labeled_samples = np.apply_along_axis(classify, 1, samples, coefs, shift)\n",
    "\n",
    "samples_x = samples[labeled_samples == 1]\n",
    "samples_y = samples[labeled_samples == -1]\n",
    "\n",
    "misses = samples[labeled_samples != labels[:, 0]].shape[0]"
   ]
  },
  {
   "cell_type": "markdown",
   "metadata": {},
   "source": [
    "Теперь нарисуем на графике прямую, разбивающую точки на классы, и сами классы"
   ]
  },
  {
   "cell_type": "code",
   "execution_count": 147,
   "metadata": {
    "collapsed": false
   },
   "outputs": [
    {
     "data": {
      "image/png": "[encoded data removed]",
      "text/plain": [
       "<matplotlib.figure.Figure at 0x7efef7267668>"
      ]
     },
     "metadata": {},
     "output_type": "display_data"
    }
   ],
   "source": [
    "x = [x for x in range(-4, 9)]\n",
    "y = [-(shift + coefs[0]*i)/coefs[1] for i in x]\n",
    "plt.subplot(121)\n",
    "plt.title('Correct')\n",
    "plt.plot(x, y, 'k-', x1, y1, 'b.', x2, y2, 'r.', markersize=5, alpha=0.8)\n",
    "plt.axis([-4, 8, -8, 10])\n",
    "plt.subplot(122)\n",
    "plt.title('Predicted')\n",
    "plt.hold(True)\n",
    "plt.plot(x, y, 'k-')\n",
    "plt.scatter(samples_x[:, 0], samples_x[:, 1], c='b', marker='.', s=50, edgecolors='none', alpha=0.7)\n",
    "plt.scatter(samples_y[:, 0], samples_y[:, 1], c='r', marker='.', s=50, edgecolors='none', alpha=0.7)\n",
    "plt.text(0, 8, str(misses) + ' misses')\n",
    "plt.axis([-4, 8, -8, 10])\n",
    "plt.hold(False)\n",
    "plt.show()"
   ]
  },
  {
   "cell_type": "markdown",
   "metadata": {},
   "source": [
    "#### Отступление\n",
    "Очевидно, что формулировка метода наименьших квадратов не подразумевает существования некоторого вектора-отступа $b$, который присутствует в нашей задаче. Тем не менее, эта задача сводится к методу наименьших квадратов добавлением в вектор признаков каждого элемента дополнительной компоненты $1$, которая по очевидным причинам не зависит от какого-либо элемента выборки и при скалярном произведении элемента на вектор признаков добавлять константу. В дальнейшем мы будем рассматривать уже модифицированную матрицу признаков и считать ассимптотику для неё.\n",
    "#### Оценим сложность данного алгоритма\n",
    "Прежде всего, стоит отметить, что для необратимых матриц $X^TX$ формула $w = (X^TX)^{-1}X^TY$ преобразуется в $w = (X^TX)^+X^TY$, где $M^+$ обозначает псевдообратную матрицу. Грубая оценка сложности алгоритма нахождения псевдообратной квадратной матрицы - $O(n^3)$.\n",
    "\n",
    "Сложность умножения двух матриц определим, как $O(lmn)$ (для матриц $l \\times m$ и $m \\times n$).\n",
    "Мы выполняем следующие операции: перемножение матриц $m \\times n$ и $n \\times m$, их псевдообращение, перемножение результата с матрицей $m \\times n$, перемножение результата с матрицей $n \\times 1$. Сложность в таком случае составляет $O(nm^2) + O(m^3) + O(nm^2) + O(nm) = O(nm^2) + O(m^3)$, где $n$ - число элементов в выборке, $m$ - число признаков (с единицей)"
   ]
  },
  {
   "cell_type": "markdown",
   "metadata": {},
   "source": [
    "### Про похожесть на максимизацию правдоподобия\n",
    "$\\mathbb{P}\\{y=1|x\\} = \\sigma(wx+b)$, где $\\sigma(z) = \\frac{1}{1 + \\exp(-z)}$.\n",
    "\n",
    "Тогда очевидно, что $\\mathbb{P}\\{y=-1|x\\} = 1 - \\mathbb{P}\\{y=1|x\\} = 1 - \\frac{1}{1 + \\exp(-(wx+b))} = \\frac{1 + \\exp(-(wx+b)) - 1}{1 + \\exp(-(wx+b))} = \\frac{\\exp(-(wx+b))}{\\exp(-(wx+b)) + 1} = \\frac{1}{1 + \\exp(wx+b)} = \\sigma(-wx-b)$\n",
    "\n",
    "Отсюда для $y \\in \\{-1, 1\\} \\; \\forall y_i \\; \\mathbb{P}\\{y_i=y \\; | x\\} = \\sigma(y(wx+b))$\n",
    "\n",
    "Тогда $ \\arg\\min_{w, b}~\\sum_{i}~\\ln(1 + \\exp(-y_i(wx_i + b))) = \\arg\\min_{w, b}~\\prod_{i}~(1 + \\exp(-y_i(wx_i + b)) = \\arg\\max_{w, b}~\\prod_{i}~\\frac{1}{1 + \\exp(-y_i(wx_i + b))} = \\arg\\max_{w, b}~\\prod_{i}~\\sigma(y_i(wx_i+b)) = \\arg\\max_{w, b}~\\prod_{i}~\\mathbb{P}\\{y=y_i \\; | x_i\\}$. Таким образом, мы максимизируем по параметрам вероятность того, что для каждого элемента его предсказанный класс совпадает с действительным, что и является максимизацией правдоподобия"
   ]
  },
  {
   "cell_type": "markdown",
   "metadata": {},
   "source": [
    "### Зависимость Q от M для различных функций потерь"
   ]
  },
  {
   "cell_type": "code",
   "execution_count": 165,
   "metadata": {
    "collapsed": false
   },
   "outputs": [
    {
     "data": {
      "image/png": "[encoded data removed]",
      "text/plain": [
       "<matplotlib.figure.Figure at 0x7efef6b7aba8>"
      ]
     },
     "metadata": {},
     "output_type": "display_data"
    }
   ],
   "source": [
    "x = [x/10 for x in range(-30, 30)]\n",
    "y_quad = [(i-1)**2 for i in x]\n",
    "y_svm = [max(0, 1-i) for i in x]\n",
    "y_logistic = [math.log(1 + math.exp(-i)) for i in x]\n",
    "plt.hold(True)\n",
    "plt.plot(x, y_quad, 'b', label='quadratic', linewidth=2)\n",
    "plt.plot(x, y_svm, 'g', label='hinge loss', linewidth=2)\n",
    "plt.plot(x, y_logistic, 'r', label='logistic', linewidth=2)\n",
    "plt.plot([-2, 0, 0, 3], [1, 1, 0, 0], 'y', label='empirical risk', linewidth=2)\n",
    "plt.legend(loc='upper center')\n",
    "plt.hold(False)\n",
    "plt.axis([-2, 2, -1, 3])\n",
    "plt.grid()\n",
    "plt.axes().set_aspect('equal', adjustable='box')\n",
    "plt.show()"
   ]
  },
  {
   "cell_type": "markdown",
   "metadata": {
    "collapsed": true
   },
   "source": [
    "## Градиентный спуск для функции нескольких переменных\n",
    "В качестве варианта реализации для простоты был выбран градиентный спуск с постоянным шагом"
   ]
  },
  {
   "cell_type": "code",
   "execution_count": 25,
   "metadata": {
    "collapsed": false,
    "scrolled": false
   },
   "outputs": [
    {
     "name": "stdout",
     "output_type": "stream",
     "text": [
      "running...\n",
      "finished at point [ 3.00010666 -1.        ] after 119 steps with value 3.00000002275188\n"
     ]
    }
   ],
   "source": [
    "def gradient_descent(symbols, func, start, step=0.01, threshold=0.00001, points_log = None, steps_max_number=-1):\n",
    "    current_location = np.asfarray(start)\n",
    "    # existing numpy.ndarray objects are not copied by default\n",
    "    if current_location is start:\n",
    "        current_location = start.copy()\n",
    "    step_number = 0\n",
    "    while step_number != steps_max_number:\n",
    "        if points_log != None:\n",
    "            points_log.append(current_location.copy())\n",
    "        gradient = np.asarray([func.diff(symbol).eval(current_location.tolist()) for symbol in symbols], dtype='float64')\n",
    "        gradient *= step\n",
    "        current_location -= gradient\n",
    "        if math.sqrt(np.dot(gradient, gradient)) < threshold:\n",
    "            break\n",
    "        step_number += 1\n",
    "    if points_log != None:\n",
    "        points_log.append(current_location)\n",
    "    return current_location\n",
    "    \n",
    "step = 0.02\n",
    "start = [5.0, 5.0] # shoud be random\n",
    "symbols = sympy.symbols('x0:2')\n",
    "f = sympy.poly(2*(symbols[0] - 3)**2 + 5*(symbols[1]+1)**2 + 3)\n",
    "print('running...')\n",
    "log = []\n",
    "result = gradient_descent(symbols, f, start, step, points_log=log)\n",
    "print('finished at point', result, 'after', len(log), 'steps with value', f.eval(result.tolist()))"
   ]
  },
  {
   "cell_type": "code",
   "execution_count": 13,
   "metadata": {
    "collapsed": false
   },
   "outputs": [
    {
     "data": {
      "image/png": "[encoded data removed]",
      "text/plain": [
       "<matplotlib.figure.Figure at 0x7eff001b3ac8>"
      ]
     },
     "metadata": {},
     "output_type": "display_data"
    }
   ],
   "source": [
    "x = np.arange(-3, 9, 0.05)\n",
    "y = np.arange(-4, 2, 0.05)\n",
    "xgrid, ygrid = np.meshgrid(x, y)\n",
    "eval_func = np.vectorize(lambda x, y: f.eval((x, y)))\n",
    "zgrid = eval_func(xgrid, ygrid)\n",
    "plt.hold(True)\n",
    "CS = plt.contour(xgrid, ygrid, zgrid)\n",
    "plt.clabel(CS, inline=1, fontsize=10)\n",
    "plt.title('Isolines')\n",
    "x = [p[0] for p in log]\n",
    "y = [p[1] for p in log]\n",
    "plt.plot(x, y, 'k-')\n",
    "plt.axis([-3, 9, -4, 2])\n",
    "plt.axes().set_aspect('equal', adjustable='box')\n",
    "plt.hold(False)\n",
    "plt.show()"
   ]
  },
  {
   "cell_type": "markdown",
   "metadata": {},
   "source": [
    "Было выбрано максимальное значение $\\lambda$, с которым алгоритм сходится"
   ]
  },
  {
   "cell_type": "markdown",
   "metadata": {},
   "source": [
    "#### Тест на функции Розенброка:"
   ]
  },
  {
   "cell_type": "code",
   "execution_count": 14,
   "metadata": {
    "collapsed": false
   },
   "outputs": [
    {
     "name": "stdout",
     "output_type": "stream",
     "text": [
      "running...\n",
      "finished at point [ 1.12291607  1.26139738] after 49151 steps with value 0.0151292339338909\n"
     ]
    },
    {
     "data": {
      "image/png": "[encoded data removed]",
      "text/plain": [
       "<matplotlib.figure.Figure at 0x7efefdff18d0>"
      ]
     },
     "metadata": {},
     "output_type": "display_data"
    }
   ],
   "source": [
    "step = 0.0001\n",
    "start = [2.0, 2.0] # shoud be random\n",
    "x, y = sympy.symbols('x0:2')\n",
    "f = sympy.poly((1-x)**2 + 100*(y - x**2)**2)\n",
    "print('running...')\n",
    "log = []\n",
    "result = gradient_descent([x, y], f, start, step, points_log=log, steps_max_number = 100000)\n",
    "print('finished at point', result, 'after', len(log), 'steps with value', f.eval(result.tolist()))\n",
    "\n",
    "x = np.arange(-1, 3, 0.05)\n",
    "y = np.arange(-2, 2, 0.05)\n",
    "xgrid, ygrid = np.meshgrid(x, y)\n",
    "eval_func = np.vectorize(lambda x, y: f.eval((x, y)))\n",
    "zgrid = eval_func(xgrid, ygrid)\n",
    "plt.hold(True)\n",
    "CS = plt.contour(xgrid, ygrid, zgrid)\n",
    "plt.clabel(CS, inline=1, fontsize=10)\n",
    "plt.title('Isolines')\n",
    "x = [p[0] for p in log]\n",
    "y = [p[1] for p in log]\n",
    "plt.plot(x, y, 'k-')\n",
    "plt.axis([-1, 3, -2, 2])\n",
    "plt.axes().set_aspect('equal', adjustable='box')\n",
    "plt.hold(False)\n",
    "plt.show()"
   ]
  },
  {
   "cell_type": "markdown",
   "metadata": {},
   "source": [
    "Очевидные из запуска алгоритма пробллемы: при относительно больших $\\lambda$ алгоритм расходится, а на множестве сходимости этот шаг очень мал, что в сочетании с тем, что алгоритм зачастую попадает в \"овраг\" с очень маленькими значениями градиента даёт очень низкую скорость сходимости. Из-за этого алгоритм не способен завершить работу за сколь-либо адекватное время. Например, в данном случае мы ограничиваем его 100000 итерациями.\n",
    "\n",
    "Решается это изменением логики шага. Например, можно использовать метод наискорейшего спуска, для которого можно проводить очень быстрые одномерные оптимизации, не зависящие от нормы градиента"
   ]
  },
  {
   "cell_type": "markdown",
   "metadata": {
    "collapsed": true
   },
   "source": [
    "#### Протестируем градиентный спуск на начальном наборе точек:"
   ]
  },
  {
   "cell_type": "code",
   "execution_count": 27,
   "metadata": {
    "collapsed": false
   },
   "outputs": [
    {
     "name": "stdout",
     "output_type": "stream",
     "text": [
      "[-0.2853035  -0.26398348  0.80527335]\n",
      "14.679840999999982 1.1240940000000137 seconds\n"
     ]
    }
   ],
   "source": [
    "start_time = time.clock()\n",
    "symbols = np.asarray(sympy.symbols('x,y,b'))\n",
    "f = sympy.poly(symbols[0])\n",
    "for sample in enumerate(prepared_samples):\n",
    "    f += (np.dot(sample[1], symbols) - labels[sample[0]])**2\n",
    "f -= symbols[0]\n",
    "f = f.expand()\n",
    "f *= 1/prepared_samples.shape[0]\n",
    "simple_log = []\n",
    "middle_time = time.clock()\n",
    "result = gradient_descent(symbols, f, [5, 5, 5], points_log=simple_log)\n",
    "print(result)\n",
    "print(time.clock() - start_time, time.clock() - middle_time, 'seconds')"
   ]
  },
  {
   "cell_type": "code",
   "execution_count": null,
   "metadata": {
    "collapsed": false
   },
   "outputs": [],
   "source": [
    "labeled_samples = np.apply_along_axis(classify, 1, samples, result[:2], result[2])\n",
    "misses = samples[labeled_samples != labels[:, 0]].shape[0]\n",
    "\n",
    "samples_x = samples[labeled_samples == 1]\n",
    "samples_y = samples[labeled_samples == -1]\n",
    "\n",
    "coefs = result[:-1]\n",
    "shift = result[-1]\n",
    "x = [x for x in range(-4, 7)]\n",
    "y = [-(shift + coefs[0]*i)/coefs[1] for i in x]\n",
    "plt.subplot(121)\n",
    "plt.title('Correct')\n",
    "plt.plot(x, y, 'k-', x1, y1, 'b.', x2, y2, 'r.', markersize=5, alpha=0.8)\n",
    "plt.axis('equal')\n",
    "plt.subplot(122)\n",
    "plt.title('Predicted')\n",
    "plt.plot(x, y, 'k-', samples_x[:, 0], samples_x[:, 1], 'b.', samples_y[:, 0], samples_y[:, 1],\n",
    "                                                       'r.', markersize=5, alpha=0.8)\n",
    "plt.text(0, 8, str(misses) + ' misses')\n",
    "plt.axis('equal')\n",
    "plt.show()"
   ]
  },
  {
   "cell_type": "markdown",
   "metadata": {},
   "source": [
    "Очевидно, что ответ, полученный методом градиентного спуска для квадратичной функции потерь, будет очень близок к аналитическому решению,так как полином второй степени не имеет локальных минимумов, не совпадающих с глобальным, а его градиент не имеет резких перепадов и его норма близка к нулю только в окрестности глобального минимума."
   ]
  },
  {
   "cell_type": "code",
   "execution_count": 31,
   "metadata": {
    "collapsed": false
   },
   "outputs": [
    {
     "name": "stdout",
     "output_type": "stream",
     "text": [
      "[-0.2853035  -0.26398348  0.80527335]\n",
      "4.915436 seconds\n"
     ]
    }
   ],
   "source": [
    "def quadratic_loss(samples, labels, weights):\n",
    "    result = 0.0\n",
    "    for sample,label in zip(samples, labels):\n",
    "        result += (np.dot(sample, weights) - label)**2\n",
    "    return result[0] / samples.shape[0]\n",
    "\n",
    "def quadratic_loss_derivative(samples, labels, weights, var_index):\n",
    "    result = 0.0\n",
    "    for sample, label in zip(samples, labels):\n",
    "#         print(sample[var_index])\n",
    "#         print(np.dot(sample, weights))\n",
    "#         print(label[0])\n",
    "        result += 2*(np.dot(sample, weights) - label[0]) * sample[var_index]\n",
    "    return result / samples.shape[0]\n",
    "    \n",
    "\n",
    "def new_gradient_descent(samples, labels, start, loss_derivative_function, step=0.01, threshold=0.00001, points_log = None, steps_max_number=-1):\n",
    "    current_location = np.asarray(start, dtype='float64')\n",
    "    # existing numpy.ndarray objects are not copied by default\n",
    "    if current_location is start:\n",
    "        current_location = start.copy()\n",
    "    step_number = 0\n",
    "    while step_number != steps_max_number:\n",
    "#         print(current_location)\n",
    "        if points_log != None:\n",
    "            points_log.append(current_location.copy())\n",
    "        gradient = np.zeros(current_location.shape[0], dtype='float64')\n",
    "        for i in range(gradient.shape[0]):\n",
    "            gradient[i] = loss_derivative_function(samples, labels, current_location, i)\n",
    "        gradient *= step\n",
    "        current_location -= gradient\n",
    "        if math.sqrt(np.dot(gradient, gradient)) < threshold:\n",
    "            break\n",
    "        step_number += 1\n",
    "    if points_log != None:\n",
    "        points_log.append(current_location)\n",
    "    return current_location\n",
    "\n",
    "simple_log = []\n",
    "start_time = time.clock()\n",
    "result = new_gradient_descent(prepared_samples, labels, [5, 5, 5], quadratic_loss_derivative, points_log=simple_log)\n",
    "print(result)\n",
    "print(time.clock() - start_time, 'seconds')"
   ]
  },
  {
   "cell_type": "code",
   "execution_count": null,
   "metadata": {
    "collapsed": false
   },
   "outputs": [],
   "source": [
    "labeled_samples = np.apply_along_axis(classify, 1, samples, result[:2], result[2])\n",
    "misses = samples[labeled_samples != labels[:, 0]].shape[0]\n",
    "\n",
    "samples_x = samples[labeled_samples == 1]\n",
    "samples_y = samples[labeled_samples == -1]\n",
    "\n",
    "coefs = result[:-1]\n",
    "shift = result[-1]\n",
    "x = [x for x in range(-4, 7)]\n",
    "y = [-(shift + coefs[0]*i)/coefs[1] for i in x]\n",
    "plt.subplot(121)\n",
    "plt.title('Correct')\n",
    "plt.plot(x, y, 'k-', x1, y1, 'b.', x2, y2, 'r.', markersize=5, alpha=0.8)\n",
    "plt.axis('equal')\n",
    "plt.subplot(122)\n",
    "plt.title('Predicted')\n",
    "plt.plot(x, y, 'k-', samples_x[:, 0], samples_x[:, 1], 'b.', samples_y[:, 0], samples_y[:, 1],\n",
    "                                                       'r.', markersize=5, alpha=0.8)\n",
    "plt.text(0, 8, str(misses) + ' misses')\n",
    "plt.axis('equal')\n",
    "plt.show()"
   ]
  },
  {
   "cell_type": "markdown",
   "metadata": {
    "collapsed": true
   },
   "source": [
    "### Метод наискорейшего спуска\n",
    "#### Одномерная оптимизация (просто в лоб):"
   ]
  },
  {
   "cell_type": "code",
   "execution_count": null,
   "metadata": {
    "collapsed": true
   },
   "outputs": [],
   "source": [
    "def dumb_descent_1d(symbols, func, start, direction, step=0.01, threshold=0.00001, points_log=None):  \n",
    "    direction = np.asarray(direction, dtype='float').copy()\n",
    "    direction *= 1.0/math.sqrt(np.dot(direction, direction))\n",
    "    current_location = np.asfarray(start)\n",
    "    if current_location is start:\n",
    "        current_location = start.copy()\n",
    "    \n",
    "    while True:\n",
    "        if points_log != None:\n",
    "            points_log.append(current_location.copy())\n",
    "        gradient = np.asarray([func.diff(symbol).eval(current_location.tolist()) for symbol in symbols], dtype='float64')\n",
    "        diff = np.dot(gradient, direction)\n",
    "        current_location -= direction * diff * step\n",
    "        if abs(diff * step) < threshold:\n",
    "            break\n",
    "    if points_log != None:\n",
    "        points_log.append(current_location)\n",
    "    return current_location"
   ]
  },
  {
   "cell_type": "markdown",
   "metadata": {},
   "source": [
    "#### Одномерная оптимизация квадратичной функции потерь по направлению:"
   ]
  },
  {
   "cell_type": "code",
   "execution_count": null,
   "metadata": {
    "collapsed": true
   },
   "outputs": [],
   "source": [
    "def quadratic_descent_1d(symbols, func, start, direction, step=0.01, threshold=0.00001, points_log=None):\n",
    "    direction = np.asarray(direction, dtype='float').copy()\n",
    "    direction *= 1.0/math.sqrt(np.dot(direction, direction))\n",
    "    x = sympy.symbols('x')\n",
    "    expr = func.as_expr()\n",
    "    for symbol, coeff in zip(symbols, direction):\n",
    "        expr = expr.subs(symbol, x*coeff)\n",
    "    minimum = -expr.coeff(x)/2/expr.coeff(x**2)\n",
    "    # TODO: that`s wrong\n",
    "    current_location = np.vectorize(lambda symbol, coeff: symbol*coeff)(direction, minimum)\n",
    "#     print(current_location)\n",
    "    if points_log != None:\n",
    "        points_log.append(current_location)\n",
    "    return current_location"
   ]
  },
  {
   "cell_type": "markdown",
   "metadata": {},
   "source": [
    "#### Наискорейший спуск:"
   ]
  },
  {
   "cell_type": "code",
   "execution_count": null,
   "metadata": {
    "collapsed": false
   },
   "outputs": [],
   "source": [
    "def steepest_descent(symbols, func, start, step=0.01, threshold=0.00001, points_log=None, steps_max_number=-1):\n",
    "    current_location = np.asfarray(start)\n",
    "    if current_location is start:\n",
    "        current_location = start.copy()\n",
    "    current_step_number = 0\n",
    "    while current_step_number != steps_max_number:\n",
    "        if points_log != None:\n",
    "            points_log.append(current_location.copy())\n",
    "        gradient = np.asarray([func.diff(symbol).eval(current_location.tolist()) for symbol in symbols], dtype='float64')\n",
    "        old_location = current_location.copy()\n",
    "        current_location = quadratic_descent_1d(symbols, func, old_location, gradient, step, threshold, points_log)\n",
    "        diff = current_location - old_location\n",
    "        if math.sqrt(np.dot(diff, diff)) < threshold:\n",
    "            break\n",
    "        current_step_number += 1\n",
    "    if points_log != None:\n",
    "        points_log.append(current_location)\n",
    "    return current_location"
   ]
  },
  {
   "cell_type": "code",
   "execution_count": null,
   "metadata": {
    "collapsed": false,
    "scrolled": false
   },
   "outputs": [],
   "source": [
    "step = 0.02\n",
    "start = [5.0, 5.0] # shoud be random\n",
    "symbols = sympy.symbols('x0:2')\n",
    "f = sympy.poly(2*(symbols[0] - 3)**2 + 5*(symbols[1]+1)**2 + 3)\n",
    "print('running...')\n",
    "log = []\n",
    "result = steepest_descent(symbols, f, start, step, points_log=log, steps_max_number=100)\n",
    "print('finished at point', result, 'after', len(log), 'steps with value', f.eval(result.tolist()))"
   ]
  },
  {
   "cell_type": "code",
   "execution_count": null,
   "metadata": {
    "collapsed": false
   },
   "outputs": [],
   "source": [
    "x = np.arange(-3, 9, 0.05)\n",
    "y = np.arange(-4, 2, 0.05)\n",
    "xgrid, ygrid = np.meshgrid(x, y)\n",
    "eval_func = np.vectorize(lambda x, y: f.eval((x, y)))\n",
    "zgrid = eval_func(xgrid, ygrid)\n",
    "plt.hold(True)\n",
    "CS = plt.contour(xgrid, ygrid, zgrid)\n",
    "plt.clabel(CS, inline=1, fontsize=10)\n",
    "plt.title('Isolines')\n",
    "x = [p[0] for p in log]\n",
    "y = [p[1] for p in log]\n",
    "plt.plot(x, y, 'k-')\n",
    "plt.axis([-3, 9, -4, 2])\n",
    "plt.axes().set_aspect('equal', adjustable='box')\n",
    "plt.hold(False)\n",
    "plt.show()"
   ]
  },
  {
   "cell_type": "code",
   "execution_count": null,
   "metadata": {
    "collapsed": false
   },
   "outputs": [],
   "source": [
    "symbols = np.asarray(sympy.symbols('x,y,b'))\n",
    "f = sympy.poly(symbols[0])\n",
    "for sample in enumerate(prepared_samples):\n",
    "    f += (np.dot(sample[1], symbols) - labels[sample[0]])**2\n",
    "f -= symbols[0]\n",
    "f = f.expand()\n",
    "f *= 1/prepared_samples.shape[0]\n",
    "steepest_log = []\n",
    "result = steepest_descent(symbols, f, [5, 5, 5], points_log=steepest_log)"
   ]
  },
  {
   "cell_type": "code",
   "execution_count": null,
   "metadata": {
    "collapsed": false
   },
   "outputs": [],
   "source": [
    "labeled_samples = np.apply_along_axis(classify, 1, samples, result[:2], result[2])\n",
    "misses = samples[labeled_samples != labels[:, 0]].shape[0]\n",
    "\n",
    "samples_x = samples[labeled_samples == 1]\n",
    "samples_y = samples[labeled_samples == -1]\n",
    "\n",
    "x = [x for x in range(-4, 7)]\n",
    "y = [-(shift + coefs[0]*i)/coefs[1] for i in x]\n",
    "plt.subplot(121)\n",
    "plt.title('Correct')\n",
    "plt.plot(x, y, 'k-', x1, y1, 'b.', x2, y2, 'r.', markersize=5, alpha=0.8)\n",
    "plt.axis('equal')\n",
    "plt.subplot(122)\n",
    "plt.title('Predicted')\n",
    "plt.plot(x, y, 'k-', samples_x[:, 0], samples_x[:, 1], 'b.', samples_y[:, 0], samples_y[:, 1],\n",
    "                                                       'r.', markersize=5, alpha=0.8)\n",
    "plt.text(0, 8, str(misses) + ' misses')\n",
    "plt.axis('equal')\n",
    "plt.show()"
   ]
  },
  {
   "cell_type": "markdown",
   "metadata": {},
   "source": [
    "### Сравним теперь скорость сходимости обычного и наискорейшего спуска"
   ]
  },
  {
   "cell_type": "code",
   "execution_count": null,
   "metadata": {
    "collapsed": false
   },
   "outputs": [],
   "source": [
    "x = list(range(0, min(200, len(simple_log), len(steepest_log))))\n",
    "y_simple = [f.eval(simple_log[i].tolist()) for i in x]\n",
    "y_steepest = [f.eval(steepest_log[i].tolist()) for i in x]\n",
    "plt.plot(x, y_simple, 'b-',\n",
    "         x, y_steepest, 'r-')\n",
    "plt.axis([0, 200, 0, 20])\n",
    "plt.show()"
   ]
  },
  {
   "cell_type": "markdown",
   "metadata": {},
   "source": [
    "## Стохастический градиентный спуск"
   ]
  },
  {
   "cell_type": "markdown",
   "metadata": {},
   "source": [
    "### Создание выборки"
   ]
  },
  {
   "cell_type": "code",
   "execution_count": 167,
   "metadata": {
    "collapsed": true
   },
   "outputs": [],
   "source": [
    "def get_subsets(sample_set, label_set, subset_size=1):\n",
    "    perm = np.random.permutation(len(sample_set))\n",
    "    shuffled_samples = sample_set[perm]\n",
    "    shuffled_labels = label_set[perm]\n",
    "    subsets = []\n",
    "    int_bound = len(shuffled_samples) // subset_size\n",
    "    for i in range(int_bound):\n",
    "        subsets.append((shuffled_samples[i*subset_size:(i+1)*subset_size],\n",
    "                        shuffled_labels[i*subset_size:(i+1)*subset_size]))\n",
    "    if int_bound > 0:\n",
    "        subsets.append((shuffled_samples[int_bound*subset_size:], shuffled_labels[int_bound*subset_size:]))\n",
    "    return subsets"
   ]
  },
  {
   "cell_type": "markdown",
   "metadata": {},
   "source": [
    "### Получаем данные"
   ]
  },
  {
   "cell_type": "code",
   "execution_count": 172,
   "metadata": {
    "collapsed": false
   },
   "outputs": [],
   "source": [
    "data = genfromtxt('train.csv', delimiter=',')[1:]\n",
    "\n",
    "data = data[np.logical_or(data[:, 0] == 0, data[:, 0] == 1)]\n",
    "samples = data[:, 1:]\n",
    "prepared_samples = np.hstack((samples, np.ones((samples.shape[0], 1))))\n",
    "labels = data[:, 0]\n",
    "labels = (labels - 0.5) * 2"
   ]
  },
  {
   "cell_type": "markdown",
   "metadata": {},
   "source": [
    "### Проводим градиентный спуск"
   ]
  },
  {
   "cell_type": "code",
   "execution_count": 182,
   "metadata": {
    "collapsed": false
   },
   "outputs": [
    {
     "name": "stdout",
     "output_type": "stream",
     "text": [
      "9.456247574613339e-05\n",
      "0 misses out of 8816\n"
     ]
    }
   ],
   "source": [
    "#TODO: optimize it with standart numpy functions\n",
    "def logistic_loss(samples, labels, weights):\n",
    "    result = 0.0\n",
    "    for sample,label in zip(samples, labels):\n",
    "        result += math.log(1 + math.exp(-normalize_label(label) * np.dot(sample, weights)))\n",
    "    return result / samples.shape[0]\n",
    "\n",
    "def logistic_gradient(samples, labels, weights):\n",
    "    result = np.exp(np.multiply(-labels, samples.dot(weights)))\n",
    "    result = np.divide(result, result + 1)\n",
    "    result = np.multiply(result, -labels)\n",
    "    result *= 1 / samples.shape[0]\n",
    "    return result.dot(samples)\n",
    "\n",
    "    \n",
    "\n",
    "def new_gradient_descent(samples, labels, start, loss_gradient, step=0.01,\n",
    "                         threshold=0.00001, points_log = None, steps_max_number=-1):\n",
    "    current_location = np.asarray(start, dtype='float64')\n",
    "    # existing numpy.ndarray objects are not copied by default\n",
    "    if current_location is start:\n",
    "        current_location = start.copy()\n",
    "    step_number = 0\n",
    "    while step_number != steps_max_number:\n",
    "        if points_log != None:\n",
    "            points_log.append(current_location.copy())\n",
    "        gradient = loss_gradient(samples, labels, current_location)\n",
    "        gradient *= step\n",
    "        current_location -= gradient\n",
    "        if math.sqrt(np.dot(gradient, gradient)) < threshold:\n",
    "            break\n",
    "        step_number += 1\n",
    "    if points_log != None:\n",
    "        points_log.append(current_location)\n",
    "    return current_location\n",
    "\n",
    "current_weights = np.zeros(prepared_samples.shape[1])\n",
    "while True:  \n",
    "    subsets = get_subsets(prepared_samples, labels, 100)\n",
    "    old_weights = current_weights.copy()\n",
    "    for subset in subsets:\n",
    "        current_weights = new_gradient_descent(subset[0], subset[1], current_weights,\n",
    "                                               logistic_gradient, step=1e-4, threshold=0, steps_max_number=1)\n",
    "    if math.sqrt(np.dot(old_weights - current_weights, old_weights - current_weights)) < 0.0001:\n",
    "        print(math.sqrt(np.dot(old_weights - current_weights, old_weights - current_weights)))\n",
    "        break\n",
    "\n",
    "labeled_samples = np.zeros(prepared_samples.shape[0])\n",
    "for row in range(samples.shape[0]):\n",
    "    labeled_samples[row] = math.copysign(1, prepared_samples[row].dot(current_weights))\n",
    "misses = samples[labeled_samples != labels].shape[0]\n",
    "print(misses, 'misses out of', samples.shape[0])"
   ]
  },
  {
   "cell_type": "code",
   "execution_count": null,
   "metadata": {
    "collapsed": true
   },
   "outputs": [],
   "source": []
  },
  {
   "cell_type": "code",
   "execution_count": null,
   "metadata": {
    "collapsed": true
   },
   "outputs": [],
   "source": []
  }
 ],
 "metadata": {
  "kernelspec": {
   "display_name": "Python 3",
   "language": "python",
   "name": "python3"
  },
  "language_info": {
   "codemirror_mode": {
    "name": "ipython",
    "version": 3
   },
   "file_extension": ".py",
   "mimetype": "text/x-python",
   "name": "python",
   "nbconvert_exporter": "python",
   "pygments_lexer": "ipython3",
   "version": "3.5.2+"
  },
  "widgets": {
   "state": {
    "0021c4f605f24a41a1274ec4c7e4ad98": {
     "views": [
      {
       "cell_index": 52
      }
     ]
    },
    "004ad38a35a34b56b3ed9c5c189dcdbd": {
     "views": [
      {
       "cell_index": 52
      }
     ]
    },
    "0135d44b21b743689fb6f9c9f6330a94": {
     "views": [
      {
       "cell_index": 52
      }
     ]
    },
    "0154601820d8498b89b11eb4fb5479d2": {
     "views": [
      {
       "cell_index": 52
      }
     ]
    },
    "01a281270942478f9e0f4fb608b36ff9": {
     "views": [
      {
       "cell_index": 52
      }
     ]
    },
    "0240274b59824779ae090e6eb546d999": {
     "views": [
      {
       "cell_index": 52
      }
     ]
    },
    "03b7836ff2ee4ed7a70a10880e2106bd": {
     "views": [
      {
       "cell_index": 52
      }
     ]
    },
    "055b39dec40e4f70830e85a1dc4db5be": {
     "views": [
      {
       "cell_index": 52
      }
     ]
    },
    "0575c158695a45c9b67034360773f13b": {
     "views": [
      {
       "cell_index": 52
      }
     ]
    },
    "0599490dd6144e7ab337d1e88ca349ec": {
     "views": [
      {
       "cell_index": 52
      }
     ]
    },
    "06bdd0c3d7714ce1afc42df453e44410": {
     "views": [
      {
       "cell_index": 52
      }
     ]
    },
    "073a881313ab4224908e647ed98e2ef8": {
     "views": [
      {
       "cell_index": 52
      }
     ]
    },
    "096e5400b4f340dd9d6688780590d4cf": {
     "views": [
      {
       "cell_index": 52
      }
     ]
    },
    "09fdfc0814f445c1bd3054b33d173d0f": {
     "views": [
      {
       "cell_index": 52
      }
     ]
    },
    "0a6b2a7f697f419792f599d4abdbfa82": {
     "views": [
      {
       "cell_index": 52
      }
     ]
    },
    "0b16ea815bc8454cbadf75e43ab3a8db": {
     "views": [
      {
       "cell_index": 52
      }
     ]
    },
    "0c989fe6bae445fd9403786c120466fd": {
     "views": [
      {
       "cell_index": 52
      }
     ]
    },
    "0d17313275b94da9b9d7e0df8be280cc": {
     "views": [
      {
       "cell_index": 52
      }
     ]
    },
    "0d22db528ec94710b778165d3246af3e": {
     "views": [
      {
       "cell_index": 52
      }
     ]
    },
    "0d7c8875a2344ba69f88902815dbdc1b": {
     "views": [
      {
       "cell_index": 52
      }
     ]
    },
    "0dbe87ee3e5d4da69472c4a415d8a0a4": {
     "views": [
      {
       "cell_index": 52
      }
     ]
    },
    "0f60d6a041784582b3605ccf35eda25b": {
     "views": [
      {
       "cell_index": 52
      }
     ]
    },
    "0fc160b7a64e4dc5977feafc3e6442bd": {
     "views": [
      {
       "cell_index": 52
      }
     ]
    },
    "116295621e514afe89e9575ac4a43046": {
     "views": [
      {
       "cell_index": 52
      }
     ]
    },
    "11980c5cd3e24972a28fddbe4c08f681": {
     "views": [
      {
       "cell_index": 52
      }
     ]
    },
    "123f05e4879b4d68afc1e4fbaf0baf3c": {
     "views": [
      {
       "cell_index": 52
      }
     ]
    },
    "12b4022578444b2b883fd45cf3311e0b": {
     "views": [
      {
       "cell_index": 52
      }
     ]
    },
    "1306fd88e4314ceaa6fd0659d364b501": {
     "views": [
      {
       "cell_index": 52
      }
     ]
    },
    "14666027fbad4ca3a8138a27f2e402c8": {
     "views": [
      {
       "cell_index": 52
      }
     ]
    },
    "14b5dc51899f45e08c364086c294da28": {
     "views": [
      {
       "cell_index": 52
      }
     ]
    },
    "15034118be7e4d97afc8fefd0e1a4205": {
     "views": [
      {
       "cell_index": 52
      }
     ]
    },
    "15096341d8de4d39b41c5341f4504248": {
     "views": [
      {
       "cell_index": 52
      }
     ]
    },
    "159ba197cf394bac93e91caafd29396c": {
     "views": [
      {
       "cell_index": 52
      }
     ]
    },
    "15e1ca6a97404f2882861c46be2ccf56": {
     "views": [
      {
       "cell_index": 52
      }
     ]
    },
    "164779e194d2443383182259f97aa131": {
     "views": [
      {
       "cell_index": 52
      }
     ]
    },
    "16821440ca614130a2da43265a6c7b3b": {
     "views": [
      {
       "cell_index": 52
      }
     ]
    },
    "17c2e894c8f54ecda338babd8acfc51f": {
     "views": [
      {
       "cell_index": 52
      }
     ]
    },
    "19ab308a598a41ac89b74400efa39b10": {
     "views": [
      {
       "cell_index": 52
      }
     ]
    },
    "19f887fca2a5436194f9e56aefd2f9d7": {
     "views": [
      {
       "cell_index": 52
      }
     ]
    },
    "1a1c45718448404bbd80ba53be36b24f": {
     "views": [
      {
       "cell_index": 52
      }
     ]
    },
    "1b2e947b370b4ccf9cc4fb75ffe4e4ec": {
     "views": [
      {
       "cell_index": 52
      }
     ]
    },
    "1b3796dfefbb45e08bc824aafee7f45b": {
     "views": [
      {
       "cell_index": 52
      }
     ]
    },
    "1b51447f2a47447eac36272a4b86d521": {
     "views": [
      {
       "cell_index": 52
      }
     ]
    },
    "1c8fd2c8d0ea41a99f64e250643d304d": {
     "views": [
      {
       "cell_index": 52
      }
     ]
    },
    "1cf8bb05fe4746c6b6b2d243602c5b29": {
     "views": [
      {
       "cell_index": 52
      }
     ]
    },
    "20e12c53f7f04d6ea82a4e556845f0fe": {
     "views": [
      {
       "cell_index": 52
      }
     ]
    },
    "219e584a43ce42c49e1808e78235aa72": {
     "views": [
      {
       "cell_index": 52
      }
     ]
    },
    "21ae08fb80c5496293dfb72aa8e59b34": {
     "views": [
      {
       "cell_index": 52
      }
     ]
    },
    "221f905c740e4adc80feab9ee6a46994": {
     "views": [
      {
       "cell_index": 52
      }
     ]
    },
    "2237c70c89fa4e72ae5e9c3ee4a2f498": {
     "views": [
      {
       "cell_index": 52
      }
     ]
    },
    "227c3cca3d3142db97998498241f13dc": {
     "views": [
      {
       "cell_index": 52
      }
     ]
    },
    "2399d48ced2d40de9804ad70021e9534": {
     "views": [
      {
       "cell_index": 52
      }
     ]
    },
    "248ec5c843694e74b4f0c0c839393ade": {
     "views": [
      {
       "cell_index": 52
      }
     ]
    },
    "24a1bc63d70c49c0abd0329eedfea929": {
     "views": [
      {
       "cell_index": 52
      }
     ]
    },
    "24b4ea78c6894b65b2dea86c563255c0": {
     "views": [
      {
       "cell_index": 52
      }
     ]
    },
    "2747e6b0d90c43b7a87d13a32dac1168": {
     "views": [
      {
       "cell_index": 52
      }
     ]
    },
    "27ba042358c3441b8fac99e2040c30a8": {
     "views": [
      {
       "cell_index": 52
      }
     ]
    },
    "280526bfe23a4af9b9bd7f3e3d979df1": {
     "views": [
      {
       "cell_index": 52
      }
     ]
    },
    "282d9e986ba94db1bd3c8639b4858d75": {
     "views": [
      {
       "cell_index": 52
      }
     ]
    },
    "28950f2e5f7f43a4ae4e5c2779df25a0": {
     "views": [
      {
       "cell_index": 52
      }
     ]
    },
    "28ad3e1bc1e14cccb29d77dc4afec1a5": {
     "views": [
      {
       "cell_index": 52
      }
     ]
    },
    "294d13759c194e4891f039793acff229": {
     "views": [
      {
       "cell_index": 52
      }
     ]
    },
    "2968f21873f74d8c8dba0563189e1952": {
     "views": [
      {
       "cell_index": 52
      }
     ]
    },
    "2aa10df53e3544b8a347e970df44669a": {
     "views": [
      {
       "cell_index": 52
      }
     ]
    },
    "2aabe751c3bd45f99701be36ece06d70": {
     "views": [
      {
       "cell_index": 52
      }
     ]
    },
    "2ac218856f744beea8d9f91e69fd4639": {
     "views": [
      {
       "cell_index": 52
      }
     ]
    },
    "2ad66dbc082c41688a60e62afe3a3fc3": {
     "views": [
      {
       "cell_index": 52
      }
     ]
    },
    "2b383e69b5e247efaee3494cdd9a4fda": {
     "views": [
      {
       "cell_index": 52
      }
     ]
    },
    "2b6405c1b29246659ce95132ccac6dc2": {
     "views": [
      {
       "cell_index": 52
      }
     ]
    },
    "2c3eb68195114fe6b2f133feef5e3dd0": {
     "views": [
      {
       "cell_index": 52
      }
     ]
    },
    "2d3a18aaac7c401aaf6a6e85f33ead6c": {
     "views": [
      {
       "cell_index": 52
      }
     ]
    },
    "2da58f487f7848ae80eefe843c84dd55": {
     "views": [
      {
       "cell_index": 52
      }
     ]
    },
    "2e389158bb2d4664950faaf27b8800ef": {
     "views": [
      {
       "cell_index": 52
      }
     ]
    },
    "2efd00de32114d19937c96f7c39faaf5": {
     "views": [
      {
       "cell_index": 52
      }
     ]
    },
    "2f4c5e6f55934f2db06182d27e38cd7a": {
     "views": [
      {
       "cell_index": 52
      }
     ]
    },
    "2f644d543a7d44108a07c06f3840a2c3": {
     "views": [
      {
       "cell_index": 52
      }
     ]
    },
    "2f74aef476964d46a2e1d04cbb3c9bdd": {
     "views": [
      {
       "cell_index": 52
      }
     ]
    },
    "3161c40345eb4c8aa2a2348dc3462b3c": {
     "views": [
      {
       "cell_index": 52
      }
     ]
    },
    "32620f6c008f4d2d862847aba49e21fb": {
     "views": [
      {
       "cell_index": 52
      }
     ]
    },
    "32633c2799cb45fca6a792b9671efe6e": {
     "views": [
      {
       "cell_index": 52
      }
     ]
    },
    "32a2716a32f045129b7ef45b5189a5ed": {
     "views": [
      {
       "cell_index": 52
      }
     ]
    },
    "32e81e5525d3427db13865c099b2869f": {
     "views": [
      {
       "cell_index": 52
      }
     ]
    },
    "33472246f8f847008f3b4601bcda1ed7": {
     "views": [
      {
       "cell_index": 52
      }
     ]
    },
    "339644b9a41445bba062cb56fa5dddcb": {
     "views": [
      {
       "cell_index": 52
      }
     ]
    },
    "348781c0df864d1994c8baffc3f301f0": {
     "views": [
      {
       "cell_index": 52
      }
     ]
    },
    "36275c09c6084adfa91f6db63c090d43": {
     "views": [
      {
       "cell_index": 52
      }
     ]
    },
    "36475ad2a6d04e2291b3999a36e08f28": {
     "views": [
      {
       "cell_index": 52
      }
     ]
    },
    "3662301d4e664f64a7f2ab7ffdda32a0": {
     "views": [
      {
       "cell_index": 52
      }
     ]
    },
    "3714c9d2c3494d7f976efe547390b481": {
     "views": [
      {
       "cell_index": 52
      }
     ]
    },
    "38b172a454f24583b994e87e7004747b": {
     "views": [
      {
       "cell_index": 52
      }
     ]
    },
    "3a50e1193e59412c9f88c13fa5870d84": {
     "views": [
      {
       "cell_index": 52
      }
     ]
    },
    "3aea4d4f75c84e2cbb13a4ef33214807": {
     "views": [
      {
       "cell_index": 52
      }
     ]
    },
    "3b24cd3bd81549078a065f8c5f8d12f4": {
     "views": [
      {
       "cell_index": 52
      }
     ]
    },
    "3b2ec113d23e4964a8963ccdcde70b0b": {
     "views": [
      {
       "cell_index": 52
      }
     ]
    },
    "3b766dc929b34657a9f391532bd6590b": {
     "views": [
      {
       "cell_index": 52
      }
     ]
    },
    "3befbf5c97404dc1bb9099a35417bfc3": {
     "views": [
      {
       "cell_index": 52
      }
     ]
    },
    "3ce4cbc040204885a2db947e119aee6f": {
     "views": [
      {
       "cell_index": 52
      }
     ]
    },
    "3d4249cb8d3349d48bfa07fd3f59c440": {
     "views": [
      {
       "cell_index": 52
      }
     ]
    },
    "3d757feae0fb420bab67911010bbccbd": {
     "views": [
      {
       "cell_index": 52
      }
     ]
    },
    "3e3a21d8f4064f459b82cbfeb025a3d6": {
     "views": [
      {
       "cell_index": 52
      }
     ]
    },
    "3fba2a524bf743e48c4cab97ef012a82": {
     "views": [
      {
       "cell_index": 52
      }
     ]
    },
    "3fdf9ce0631146af87418f02329597a9": {
     "views": [
      {
       "cell_index": 52
      }
     ]
    },
    "41393d9e290f4a5a8910f19ce5f60974": {
     "views": [
      {
       "cell_index": 52
      }
     ]
    },
    "4158a639d40345ef8651f76e59169ef2": {
     "views": [
      {
       "cell_index": 52
      }
     ]
    },
    "415b5fcb1b904f92895ebce7ee1bcf37": {
     "views": [
      {
       "cell_index": 52
      }
     ]
    },
    "41972e4bf56941c5a8415ae106acbfae": {
     "views": [
      {
       "cell_index": 52
      }
     ]
    },
    "4214aa1bcb8741c188820b0f0cdf3d97": {
     "views": [
      {
       "cell_index": 52
      }
     ]
    },
    "425a9d3a2f274634a5c2851a67236380": {
     "views": [
      {
       "cell_index": 52
      }
     ]
    },
    "431f12bafb764c8ba2eac1b239bb38e1": {
     "views": [
      {
       "cell_index": 52
      }
     ]
    },
    "437815ac16e944259dd36e7d333a3d45": {
     "views": [
      {
       "cell_index": 52
      }
     ]
    },
    "43fe5177bce547779f94dabda18dafda": {
     "views": [
      {
       "cell_index": 52
      }
     ]
    },
    "4478edf6f79047258b8e53d5635f4d46": {
     "views": [
      {
       "cell_index": 52
      }
     ]
    },
    "4484661ed44944b9a219ff7eead4e5c7": {
     "views": [
      {
       "cell_index": 52
      }
     ]
    },
    "45e8f756f339497d8d47b036070331f0": {
     "views": [
      {
       "cell_index": 52
      }
     ]
    },
    "4610d3b19a624bb7a64982fc0f53fc1d": {
     "views": [
      {
       "cell_index": 52
      }
     ]
    },
    "483e4977b1714a5db6aef62029f72327": {
     "views": [
      {
       "cell_index": 52
      }
     ]
    },
    "493a280d9e8747c9b322a763f613f7e6": {
     "views": [
      {
       "cell_index": 52
      }
     ]
    },
    "4a1b0fe9a5524da39e2c556e511a7053": {
     "views": [
      {
       "cell_index": 52
      }
     ]
    },
    "4b15538c85344c72bdb37025288355bd": {
     "views": [
      {
       "cell_index": 52
      }
     ]
    },
    "4b9a1c3c4e3242ef8d4e5c34b4fade2d": {
     "views": [
      {
       "cell_index": 52
      }
     ]
    },
    "4c1a8a236319457f99784f177c902c2b": {
     "views": [
      {
       "cell_index": 52
      }
     ]
    },
    "4c71b9a66c1c44068c2c4317a9b63d1c": {
     "views": [
      {
       "cell_index": 52
      }
     ]
    },
    "4c84da1c34b241b394ae8f6362d4ac7d": {
     "views": [
      {
       "cell_index": 52
      }
     ]
    },
    "4d119cd914784199935779e15157c027": {
     "views": [
      {
       "cell_index": 52
      }
     ]
    },
    "4d767b09cb0f45a6aff42d3243e57ecc": {
     "views": [
      {
       "cell_index": 52
      }
     ]
    },
    "4dac16c81a1045ebad97fabbec94adf4": {
     "views": [
      {
       "cell_index": 52
      }
     ]
    },
    "4dbcc002dbec49819ae6da3dd929ab7e": {
     "views": [
      {
       "cell_index": 52
      }
     ]
    },
    "4e31bc4937b043a881ed2ddfd37f00e3": {
     "views": [
      {
       "cell_index": 52
      }
     ]
    },
    "4e9345fd1c8e475a948fc8398d271aef": {
     "views": [
      {
       "cell_index": 52
      }
     ]
    },
    "4eefe1ba2d2247e580e7139afea1882a": {
     "views": [
      {
       "cell_index": 52
      }
     ]
    },
    "4f0f0a05ada949a5b174f490d66a1e69": {
     "views": [
      {
       "cell_index": 52
      }
     ]
    },
    "4f484c0e576f497aab837ebaa19d6946": {
     "views": [
      {
       "cell_index": 52
      }
     ]
    },
    "4f6e76fcf5144f03be245a3ce1b926a5": {
     "views": [
      {
       "cell_index": 52
      }
     ]
    },
    "5009febc052943a08f36632fb6afeeca": {
     "views": [
      {
       "cell_index": 52
      }
     ]
    },
    "537694814d2d4613931b0e82ea8eca16": {
     "views": [
      {
       "cell_index": 52
      }
     ]
    },
    "53dc6b19826143de8295eb33cea1e7f7": {
     "views": [
      {
       "cell_index": 52
      }
     ]
    },
    "53e27781ad6b4c599008cfbe94d9687b": {
     "views": [
      {
       "cell_index": 52
      }
     ]
    },
    "553745f5d3ce435185db029206e0caac": {
     "views": [
      {
       "cell_index": 52
      }
     ]
    },
    "5542018cfd62466096ee6b628ac23ffd": {
     "views": [
      {
       "cell_index": 52
      }
     ]
    },
    "557885af403a45f786a39228c42bd56e": {
     "views": [
      {
       "cell_index": 52
      }
     ]
    },
    "5738ff2fb334418383f0bc05464f9984": {
     "views": [
      {
       "cell_index": 52
      }
     ]
    },
    "57e0987106f1491c8eccbc0b1aef791b": {
     "views": [
      {
       "cell_index": 52
      }
     ]
    },
    "582439fc7928411eb1d1e46d8bd224c0": {
     "views": [
      {
       "cell_index": 52
      }
     ]
    },
    "5933080eb3cd4d409f6ae261a47083d3": {
     "views": [
      {
       "cell_index": 52
      }
     ]
    },
    "59584b10ce54461ebbb951624b78e27d": {
     "views": [
      {
       "cell_index": 52
      }
     ]
    },
    "596de1245bdd4ffca04a327014b2cd80": {
     "views": [
      {
       "cell_index": 52
      }
     ]
    },
    "59736e792bf64d37bb601f4702a084d9": {
     "views": [
      {
       "cell_index": 52
      }
     ]
    },
    "5a1ce1cf4db846be96646f8e780ced91": {
     "views": [
      {
       "cell_index": 52
      }
     ]
    },
    "5a6fe98e2b6242a2ab0ddae15907ec32": {
     "views": [
      {
       "cell_index": 52
      }
     ]
    },
    "5b08e38df1d145979bb3b5718232845a": {
     "views": [
      {
       "cell_index": 52
      }
     ]
    },
    "5b7f7559bedd4ccd8931811f0d1709de": {
     "views": [
      {
       "cell_index": 52
      }
     ]
    },
    "5bb95094aba749ddb3a74f5bdbf6b37e": {
     "views": [
      {
       "cell_index": 52
      }
     ]
    },
    "5bbd1dcb0830463c9575b48e5b8c8f8e": {
     "views": [
      {
       "cell_index": 52
      }
     ]
    },
    "5ce8905343ae4560a5b56e2f41176016": {
     "views": [
      {
       "cell_index": 52
      }
     ]
    },
    "5d8c8f7ed1db44999abc177f6aed2729": {
     "views": [
      {
       "cell_index": 52
      }
     ]
    },
    "5e611ec8cae14ed49e07b6995913e33d": {
     "views": [
      {
       "cell_index": 52
      }
     ]
    },
    "5f7a5feb875b42cb9ee847bff5ee2560": {
     "views": [
      {
       "cell_index": 52
      }
     ]
    },
    "5fb9be796b3e462aa66d2fe7ba282258": {
     "views": [
      {
       "cell_index": 52
      }
     ]
    },
    "60bc43b89aa240e3a36c59e3bfc0ffa2": {
     "views": [
      {
       "cell_index": 52
      }
     ]
    },
    "60d0b1f13aed47128af577afe6966655": {
     "views": [
      {
       "cell_index": 52
      }
     ]
    },
    "60ff793b0ab74fbeb95927e50a1a3b38": {
     "views": [
      {
       "cell_index": 52
      }
     ]
    },
    "61b9728ad49c4486b58c198b3f65aa78": {
     "views": [
      {
       "cell_index": 52
      }
     ]
    },
    "61e69239c33c44f09e38af6020587f89": {
     "views": [
      {
       "cell_index": 52
      }
     ]
    },
    "621f16c5084a4010826a98f26befa8d2": {
     "views": [
      {
       "cell_index": 52
      }
     ]
    },
    "62729f1093bd4d44ae82530057164c71": {
     "views": [
      {
       "cell_index": 52
      }
     ]
    },
    "62c55b496201439fbd0973be22f6dd48": {
     "views": [
      {
       "cell_index": 52
      }
     ]
    },
    "6307c1130c874d529feddc34cc7e3e18": {
     "views": [
      {
       "cell_index": 52
      }
     ]
    },
    "63d563bf5ff7493ca9bda982cb23f9fc": {
     "views": [
      {
       "cell_index": 52
      }
     ]
    },
    "63ef388d79ed49709ee31919b99b6b34": {
     "views": [
      {
       "cell_index": 52
      }
     ]
    },
    "644b7575a97a4938b547ea9b985405ae": {
     "views": [
      {
       "cell_index": 52
      }
     ]
    },
    "64abc1c15a724a7ca2e012f7f0da1adc": {
     "views": [
      {
       "cell_index": 52
      }
     ]
    },
    "6620d8c8b588404aa8d6afbdf6d84f9f": {
     "views": [
      {
       "cell_index": 52
      }
     ]
    },
    "6657a0d828d446f1b0eb37b785d0830c": {
     "views": [
      {
       "cell_index": 52
      }
     ]
    },
    "66940a186dc243f9bef4b1dbba053432": {
     "views": [
      {
       "cell_index": 52
      }
     ]
    },
    "673cd067e6a240ae98e522003b47e560": {
     "views": [
      {
       "cell_index": 52
      }
     ]
    },
    "6822cf93356842c4b55f316ec0d1cc85": {
     "views": [
      {
       "cell_index": 52
      }
     ]
    },
    "682c4ed57fad4e4e820a82926d3fa217": {
     "views": [
      {
       "cell_index": 52
      }
     ]
    },
    "685ce77d6e3e4dee8b328b2fd26fb16a": {
     "views": [
      {
       "cell_index": 52
      }
     ]
    },
    "696d10147de04e4582f7a3ce9e1659d1": {
     "views": [
      {
       "cell_index": 52
      }
     ]
    },
    "69ac8897a8ee4f5b96c1820b5a67b88b": {
     "views": [
      {
       "cell_index": 52
      }
     ]
    },
    "69ced73be4ab42e69806fda94876878c": {
     "views": [
      {
       "cell_index": 52
      }
     ]
    },
    "6add58b6e5d942e38e1015ba06dab00c": {
     "views": [
      {
       "cell_index": 52
      }
     ]
    },
    "6b3b90dc46934b91b1a7a68b0e7c8e47": {
     "views": [
      {
       "cell_index": 52
      }
     ]
    },
    "6b52fe5df34f43dfaa1be05de076e8a1": {
     "views": [
      {
       "cell_index": 52
      }
     ]
    },
    "6bc5940bab1e401cac282b16a951eb88": {
     "views": [
      {
       "cell_index": 52
      }
     ]
    },
    "6bfb36b575a24dcaa686d6d35459e551": {
     "views": [
      {
       "cell_index": 52
      }
     ]
    },
    "6c7cd6bc4bba4850be7f5089b8eedd06": {
     "views": [
      {
       "cell_index": 52
      }
     ]
    },
    "6cc11ee9def441b3937326a8692b2e09": {
     "views": [
      {
       "cell_index": 52
      }
     ]
    },
    "6d0cecbbb863487587ddc65d6837f35b": {
     "views": [
      {
       "cell_index": 52
      }
     ]
    },
    "6dc89c7412484517822a329dddd18a08": {
     "views": [
      {
       "cell_index": 52
      }
     ]
    },
    "6df9e6818ff3408ab9f0b36062edf226": {
     "views": [
      {
       "cell_index": 52
      }
     ]
    },
    "6e57838ae52b489697c19b782594e11f": {
     "views": [
      {
       "cell_index": 52
      }
     ]
    },
    "6e71e47aad064334ac2e627b837bfa31": {
     "views": [
      {
       "cell_index": 52
      }
     ]
    },
    "6ec3a8d3eea94eb98278197f95438e89": {
     "views": [
      {
       "cell_index": 52
      }
     ]
    },
    "6f49f8d9f47544c68240c917f8262647": {
     "views": [
      {
       "cell_index": 52
      }
     ]
    },
    "6fe1f89e78b94c87a5c339d2f3c96b7b": {
     "views": [
      {
       "cell_index": 52
      }
     ]
    },
    "70923f62cd4f454298e5acb910044b66": {
     "views": [
      {
       "cell_index": 52
      }
     ]
    },
    "70ae45140f6e4fbaa3110c5b82f531ef": {
     "views": [
      {
       "cell_index": 52
      }
     ]
    },
    "70fda2645b484c8a9e9b51cdf401f6d6": {
     "views": [
      {
       "cell_index": 52
      }
     ]
    },
    "7176dfc833ba46deb457222c542e49d0": {
     "views": [
      {
       "cell_index": 52
      }
     ]
    },
    "726ea1d8863347ecab531613a8bca0a5": {
     "views": [
      {
       "cell_index": 52
      }
     ]
    },
    "72c6df41e59345a1bc12d1d0bcfed3ff": {
     "views": [
      {
       "cell_index": 52
      }
     ]
    },
    "735fa6af3c7e4287975890cb22c7d197": {
     "views": [
      {
       "cell_index": 52
      }
     ]
    },
    "749f511fcfc34c4c910691d59bad67d8": {
     "views": [
      {
       "cell_index": 52
      }
     ]
    },
    "74daac2bfa1249128b6972e0a61cb493": {
     "views": [
      {
       "cell_index": 52
      }
     ]
    },
    "75a6ef7475dd4f139a96bc2133ea3030": {
     "views": [
      {
       "cell_index": 52
      }
     ]
    },
    "75c172151ae848a68dfca0d5c8b7d542": {
     "views": [
      {
       "cell_index": 52
      }
     ]
    },
    "75d7694b61924507914e9db011df85ac": {
     "views": [
      {
       "cell_index": 52
      }
     ]
    },
    "766973093c24407396f3394f4398cc90": {
     "views": [
      {
       "cell_index": 52
      }
     ]
    },
    "785bff8b7b3841c9914ed830d104cc1e": {
     "views": [
      {
       "cell_index": 52
      }
     ]
    },
    "787388a000204b678bf73b245447a109": {
     "views": [
      {
       "cell_index": 52
      }
     ]
    },
    "78e176f1ff47434ab80693f8cedd3001": {
     "views": [
      {
       "cell_index": 52
      }
     ]
    },
    "799027ed448b42adb41cbbc02c0877d3": {
     "views": [
      {
       "cell_index": 52
      }
     ]
    },
    "79cec9dfe49040609f1739e9279a8aa2": {
     "views": [
      {
       "cell_index": 52
      }
     ]
    },
    "7a5cff46a2b047e8b6bbdcee9f4c20f7": {
     "views": [
      {
       "cell_index": 52
      }
     ]
    },
    "7aa7625938cd4c43aa7ae580db445ec8": {
     "views": [
      {
       "cell_index": 52
      }
     ]
    },
    "7af9c77228a947eb887b0326e43c3c2a": {
     "views": [
      {
       "cell_index": 52
      }
     ]
    },
    "7b405cf9d1b14d178a32f473e7357871": {
     "views": [
      {
       "cell_index": 52
      }
     ]
    },
    "7b43bc84890f436299c2389f9bd6b30f": {
     "views": [
      {
       "cell_index": 52
      }
     ]
    },
    "7b8051b105be435a931d86c1898606a2": {
     "views": [
      {
       "cell_index": 52
      }
     ]
    },
    "7e1cbcb4af894f0c9e2e97efea6c5561": {
     "views": [
      {
       "cell_index": 52
      }
     ]
    },
    "7ead0ce27f4f42249654cf0867982037": {
     "views": [
      {
       "cell_index": 52
      }
     ]
    },
    "7ed0022cb881484f99ca5032def03651": {
     "views": [
      {
       "cell_index": 52
      }
     ]
    },
    "7f0f220786c94e72bbc0598181d23c53": {
     "views": [
      {
       "cell_index": 52
      }
     ]
    },
    "7f6d1bb7f7fe4857afcdf7bb35f42e56": {
     "views": [
      {
       "cell_index": 52
      }
     ]
    },
    "7f922b6718e34399b2ca0516ae4ddfef": {
     "views": [
      {
       "cell_index": 52
      }
     ]
    },
    "801dec4d25244e45a39c9169a33d858b": {
     "views": [
      {
       "cell_index": 52
      }
     ]
    },
    "806ae78b92264146a22bbc804e216f89": {
     "views": [
      {
       "cell_index": 52
      }
     ]
    },
    "806dd8b5ea8c4771903cfd68fb31efc4": {
     "views": [
      {
       "cell_index": 52
      }
     ]
    },
    "80ba77b63dd84c17bff7057471c66611": {
     "views": [
      {
       "cell_index": 52
      }
     ]
    },
    "812507f4a1444da1a79d29cc96aa67d6": {
     "views": [
      {
       "cell_index": 52
      }
     ]
    },
    "81b6575b740644bc89d239aff7b81a5d": {
     "views": [
      {
       "cell_index": 52
      }
     ]
    },
    "81f625806444447887ea9d00781a063a": {
     "views": [
      {
       "cell_index": 52
      }
     ]
    },
    "82363fa71e82432c8ed7f0595d6f13b4": {
     "views": [
      {
       "cell_index": 52
      }
     ]
    },
    "831ac10f5d2f4f5fbd7d9b989f137e4d": {
     "views": [
      {
       "cell_index": 52
      }
     ]
    },
    "8400cc101dd94ff4a024754aa13f2e60": {
     "views": [
      {
       "cell_index": 52
      }
     ]
    },
    "84464a32e7784c38b94bd44a229e7a46": {
     "views": [
      {
       "cell_index": 52
      }
     ]
    },
    "8473274e2e6e4a4e835dd6b6cba85ec6": {
     "views": [
      {
       "cell_index": 52
      }
     ]
    },
    "849b709e192a451cbf89241cf95a847a": {
     "views": [
      {
       "cell_index": 52
      }
     ]
    },
    "84babf2af65f475a8c18c520b4f68fc6": {
     "views": [
      {
       "cell_index": 52
      }
     ]
    },
    "8501091a1fed49448eaebdff8a7ecb0d": {
     "views": [
      {
       "cell_index": 52
      }
     ]
    },
    "854310e7df0043cb926a45507ad61310": {
     "views": [
      {
       "cell_index": 52
      }
     ]
    },
    "8636d24a9436421d856d44616c1b0a3c": {
     "views": [
      {
       "cell_index": 52
      }
     ]
    },
    "8658355c98fb4993a2375b59a73b2efb": {
     "views": [
      {
       "cell_index": 52
      }
     ]
    },
    "866d988bd5944bd4a8effae64b81710f": {
     "views": [
      {
       "cell_index": 52
      }
     ]
    },
    "86b0108bec204b719ea75e70961fd6f4": {
     "views": [
      {
       "cell_index": 52
      }
     ]
    },
    "87bc8a12ce96424d983bab9553f80a58": {
     "views": [
      {
       "cell_index": 52
      }
     ]
    },
    "87d2ab9c0c5047678cc5f6d60f49236c": {
     "views": [
      {
       "cell_index": 52
      }
     ]
    },
    "881d455b611a4751b891e4c2be391ce3": {
     "views": [
      {
       "cell_index": 52
      }
     ]
    },
    "89ab949ad7cc417bacf2b84ad7725b3c": {
     "views": [
      {
       "cell_index": 52
      }
     ]
    },
    "8a23750205914e23a0568170530b2104": {
     "views": [
      {
       "cell_index": 52
      }
     ]
    },
    "8c6a751ed62a4f81a64b31b6378b9605": {
     "views": [
      {
       "cell_index": 52
      }
     ]
    },
    "8db4c6a3251e42b4ac54e7c18f626245": {
     "views": [
      {
       "cell_index": 52
      }
     ]
    },
    "8e5cf0c160d64c489bffbbcd30ed0b80": {
     "views": [
      {
       "cell_index": 52
      }
     ]
    },
    "8f6cbfa22f564dbdb3cb44a930338000": {
     "views": [
      {
       "cell_index": 52
      }
     ]
    },
    "907be2687c174b579eb1b485978b219e": {
     "views": [
      {
       "cell_index": 52
      }
     ]
    },
    "9094375a78ef41a98ba9d4a87f0b64c0": {
     "views": [
      {
       "cell_index": 52
      }
     ]
    },
    "911397932e5d4d258eb932436446d481": {
     "views": [
      {
       "cell_index": 52
      }
     ]
    },
    "9166b24b94bb474585664457510d7ded": {
     "views": [
      {
       "cell_index": 52
      }
     ]
    },
    "9238d538d3e04a1aafb567e3aed88c75": {
     "views": [
      {
       "cell_index": 52
      }
     ]
    },
    "926186653ae142efae3f582233c425c1": {
     "views": [
      {
       "cell_index": 52
      }
     ]
    },
    "92e42485c20b4790b3b3ce610c2f7f9a": {
     "views": [
      {
       "cell_index": 52
      }
     ]
    },
    "93862d741c024744ac8de8bbb7555c1d": {
     "views": [
      {
       "cell_index": 52
      }
     ]
    },
    "93a8d17e86ab4ee3b461ff8430a77056": {
     "views": [
      {
       "cell_index": 52
      }
     ]
    },
    "949b53716c2c42239062903c34093372": {
     "views": [
      {
       "cell_index": 52
      }
     ]
    },
    "95918081bda94d879ee1c72633dd4aa7": {
     "views": [
      {
       "cell_index": 52
      }
     ]
    },
    "96ea820009b549f5a468892e721bedff": {
     "views": [
      {
       "cell_index": 52
      }
     ]
    },
    "9706620cabb04cadbe4e8f4a71309d58": {
     "views": [
      {
       "cell_index": 52
      }
     ]
    },
    "9796d3f8d807483a9ff662484299ffd0": {
     "views": [
      {
       "cell_index": 52
      }
     ]
    },
    "97d3433339014fceab3455717bd7824f": {
     "views": [
      {
       "cell_index": 52
      }
     ]
    },
    "9839934abe6c461e9d71cad9138f8b7f": {
     "views": [
      {
       "cell_index": 52
      }
     ]
    },
    "9a4b3ca2d7344f6dabac77cc0110f456": {
     "views": [
      {
       "cell_index": 52
      }
     ]
    },
    "9aede9a9f3f54e6e9e5007731ebd7be4": {
     "views": [
      {
       "cell_index": 52
      }
     ]
    },
    "9b85a99ed6a746f7b6ebf2f0624fd760": {
     "views": [
      {
       "cell_index": 52
      }
     ]
    },
    "9bf132e894eb4410a14d45c5846cb2a9": {
     "views": [
      {
       "cell_index": 52
      }
     ]
    },
    "9c9b1202069e426a97b00afb4ea6dda5": {
     "views": [
      {
       "cell_index": 52
      }
     ]
    },
    "9d3f06da5ddc43eaabd10750a8feb0e8": {
     "views": [
      {
       "cell_index": 52
      }
     ]
    },
    "9d670c7b87f04c2790199a395ef10313": {
     "views": [
      {
       "cell_index": 52
      }
     ]
    },
    "9f73c8d5b5a14cf59ff1ea7efea62a6c": {
     "views": [
      {
       "cell_index": 52
      }
     ]
    },
    "9f7633649c49455fb5d267230a527a6c": {
     "views": [
      {
       "cell_index": 52
      }
     ]
    },
    "9fab0652cca7414ba3b65dfca1779e3d": {
     "views": [
      {
       "cell_index": 52
      }
     ]
    },
    "a324f990d4d44ce78b1172c6b1690b9c": {
     "views": [
      {
       "cell_index": 52
      }
     ]
    },
    "a461173cc9d842f99063a116a4d93673": {
     "views": [
      {
       "cell_index": 52
      }
     ]
    },
    "a4cd22f677954b15ad5fcb6c8c71094a": {
     "views": [
      {
       "cell_index": 52
      }
     ]
    },
    "a551e759b2324307b6c900d106926da5": {
     "views": [
      {
       "cell_index": 52
      }
     ]
    },
    "a6384893ca4446f0a43338aa56e4fe59": {
     "views": [
      {
       "cell_index": 52
      }
     ]
    },
    "a77a19191cd34a5a8eb1cf74c3c8859c": {
     "views": [
      {
       "cell_index": 52
      }
     ]
    },
    "a7e7bf589be245f39376babd7dfebd22": {
     "views": [
      {
       "cell_index": 52
      }
     ]
    },
    "a8792d3148c14d3a9e0e9bf8cb8efc76": {
     "views": [
      {
       "cell_index": 52
      }
     ]
    },
    "a8b97edf4e0e4bd8979c5a94d0562779": {
     "views": [
      {
       "cell_index": 52
      }
     ]
    },
    "a8ccb7c9330c405e8231d19c163dd408": {
     "views": [
      {
       "cell_index": 52
      }
     ]
    },
    "a9eab5ddf62447a98187d66178d3dd04": {
     "views": [
      {
       "cell_index": 52
      }
     ]
    },
    "a9f644ce318b4af4b49e9c85b1a9dfbd": {
     "views": [
      {
       "cell_index": 52
      }
     ]
    },
    "aacc038d6ec94f82ac43f0dc0f170707": {
     "views": [
      {
       "cell_index": 52
      }
     ]
    },
    "ab4b7a04f79f441eaabd76cf559e4aa5": {
     "views": [
      {
       "cell_index": 52
      }
     ]
    },
    "abc5731e617f42eeba684c4d82110f28": {
     "views": [
      {
       "cell_index": 52
      }
     ]
    },
    "ac21c4cf12614b33ab4bbec6b44c4dd1": {
     "views": [
      {
       "cell_index": 52
      }
     ]
    },
    "ad12b411c562472cb4b3b74dfcda0609": {
     "views": [
      {
       "cell_index": 52
      }
     ]
    },
    "ad6729fd389041c48821845e49f35ea5": {
     "views": [
      {
       "cell_index": 52
      }
     ]
    },
    "ade399eae3af45869ce91b928ac5e967": {
     "views": [
      {
       "cell_index": 52
      }
     ]
    },
    "ae74ffec38e742888ef99b4857330eed": {
     "views": [
      {
       "cell_index": 52
      }
     ]
    },
    "af758a03251a48d4bc5e0c49b402f58b": {
     "views": [
      {
       "cell_index": 52
      }
     ]
    },
    "b12984de42db4317923858a298daf6fc": {
     "views": [
      {
       "cell_index": 52
      }
     ]
    },
    "b1b43d68ec284b10a9f8800e1381129a": {
     "views": [
      {
       "cell_index": 52
      }
     ]
    },
    "b1f63a1755a54c0593d9769c1ae6caef": {
     "views": [
      {
       "cell_index": 52
      }
     ]
    },
    "b2fc2c6b33904d6bafda475b64cc35b5": {
     "views": [
      {
       "cell_index": 52
      }
     ]
    },
    "b36ff9d490954bc0823dcdcb41d1255c": {
     "views": [
      {
       "cell_index": 52
      }
     ]
    },
    "b4489e58a0a74342804c76a35ac9655f": {
     "views": [
      {
       "cell_index": 52
      }
     ]
    },
    "b5f1f6dd97f44719a06163f58f658e91": {
     "views": [
      {
       "cell_index": 52
      }
     ]
    },
    "b603caa4f1bc4afeb8fd32c14e65301a": {
     "views": [
      {
       "cell_index": 52
      }
     ]
    },
    "b77e0394e6044b5dadc20d5e0298f44d": {
     "views": [
      {
       "cell_index": 52
      }
     ]
    },
    "b9884f5831ef452389aaa0c44f855834": {
     "views": [
      {
       "cell_index": 52
      }
     ]
    },
    "b98abd61ae2d4a8c9a4e66bd758bb3f4": {
     "views": [
      {
       "cell_index": 52
      }
     ]
    },
    "b9a7632f20ed4533b0932481a771ce71": {
     "views": [
      {
       "cell_index": 52
      }
     ]
    },
    "ba685e9e0e444998895fcd06db40e322": {
     "views": [
      {
       "cell_index": 52
      }
     ]
    },
    "bb11cda1a36b4b1ead9668751e3fecf5": {
     "views": [
      {
       "cell_index": 52
      }
     ]
    },
    "bbb8dc5f80db43c1a0bbb66fde4f4f89": {
     "views": [
      {
       "cell_index": 52
      }
     ]
    },
    "bc90ce6866644e63a7cc173201064122": {
     "views": [
      {
       "cell_index": 52
      }
     ]
    },
    "bd1a1c2150344ee2a09a2da1cbecbeca": {
     "views": [
      {
       "cell_index": 52
      }
     ]
    },
    "bd7d1239d1bd4aa794c11f54f47171a5": {
     "views": [
      {
       "cell_index": 52
      }
     ]
    },
    "be2ed42015a14c68b3e7596470ae534f": {
     "views": [
      {
       "cell_index": 52
      }
     ]
    },
    "be5ca53e353d4ebc8e29123e594c2427": {
     "views": [
      {
       "cell_index": 52
      }
     ]
    },
    "bf0db9aae8c540019d0e9b0415d2905c": {
     "views": [
      {
       "cell_index": 52
      }
     ]
    },
    "bf428ce89c38442696964f11db8f2ed7": {
     "views": [
      {
       "cell_index": 52
      }
     ]
    },
    "bfe47cb1e14f47498ea67b66bd83553e": {
     "views": [
      {
       "cell_index": 52
      }
     ]
    },
    "c07b03a1cf71488ba28247d1ac1c6721": {
     "views": [
      {
       "cell_index": 52
      }
     ]
    },
    "c0d2cc6e6358400db95410ffe2bfa14f": {
     "views": [
      {
       "cell_index": 52
      }
     ]
    },
    "c0ef5a76eef04f8ca670ae01b7c053ad": {
     "views": [
      {
       "cell_index": 52
      }
     ]
    },
    "c1bed0ae60ed4dd493772f8ee67574be": {
     "views": [
      {
       "cell_index": 52
      }
     ]
    },
    "c26312967953482b96d1f2cd06465582": {
     "views": [
      {
       "cell_index": 52
      }
     ]
    },
    "c3141a28a9e343a68da82363237ec357": {
     "views": [
      {
       "cell_index": 52
      }
     ]
    },
    "c32dab86e2a54d708395186613c3de11": {
     "views": [
      {
       "cell_index": 52
      }
     ]
    },
    "c330b1b8523e4368a00b9f64b17b0aa7": {
     "views": [
      {
       "cell_index": 52
      }
     ]
    },
    "c419d475b5e54021bb06668fc34d743a": {
     "views": [
      {
       "cell_index": 52
      }
     ]
    },
    "c45de844b0644b82a0f8abcf65802bcd": {
     "views": [
      {
       "cell_index": 52
      }
     ]
    },
    "c55c2d5faab04c339908845b54956776": {
     "views": [
      {
       "cell_index": 52
      }
     ]
    },
    "c5e7e250642042d7a61fc0a36c852c05": {
     "views": [
      {
       "cell_index": 52
      }
     ]
    },
    "c74d3c64f2c14ead9df12f54bc5fe937": {
     "views": [
      {
       "cell_index": 52
      }
     ]
    },
    "c7aebd35ab4a401d8b3c4cef8f1021e4": {
     "views": [
      {
       "cell_index": 52
      }
     ]
    },
    "c8196cb703854d73b69bfc217ecaad5d": {
     "views": [
      {
       "cell_index": 52
      }
     ]
    },
    "c824aee8be784cb4ad6f8ed4ad1d8862": {
     "views": [
      {
       "cell_index": 52
      }
     ]
    },
    "c86be4f6b12040438eda952051c82c3f": {
     "views": [
      {
       "cell_index": 52
      }
     ]
    },
    "c9206fa0308747438e339c21c594cb1f": {
     "views": [
      {
       "cell_index": 52
      }
     ]
    },
    "c941f31f87c74b2199cc206b68af7ce6": {
     "views": [
      {
       "cell_index": 52
      }
     ]
    },
    "c993f5458d934d2da6b6b3e0c86f20c1": {
     "views": [
      {
       "cell_index": 52
      }
     ]
    },
    "caab9aa959f948bc993e1dfc5d7aad09": {
     "views": [
      {
       "cell_index": 52
      }
     ]
    },
    "cb9c8a9917464929a456aa7a3abf7d79": {
     "views": [
      {
       "cell_index": 52
      }
     ]
    },
    "cbae944a91844c56a07b76014ee71cec": {
     "views": [
      {
       "cell_index": 52
      }
     ]
    },
    "cbc01fca55fe4e929da812985bc5c711": {
     "views": [
      {
       "cell_index": 52
      }
     ]
    },
    "cc751a2bacd44d139f17c7c768b9cf89": {
     "views": [
      {
       "cell_index": 52
      }
     ]
    },
    "cca62e099fe84d30b60f6c074c13abac": {
     "views": [
      {
       "cell_index": 52
      }
     ]
    },
    "cdaac52d71b94a93b0f43c9439f2e7dc": {
     "views": [
      {
       "cell_index": 52
      }
     ]
    },
    "cf11d769634e4f5d8605375c85d6c7dc": {
     "views": [
      {
       "cell_index": 52
      }
     ]
    },
    "cf9628d82e84463d865ac26198dcc216": {
     "views": [
      {
       "cell_index": 52
      }
     ]
    },
    "d0dd6b2ba1bb41eb8dea4bd09ad77fb9": {
     "views": [
      {
       "cell_index": 52
      }
     ]
    },
    "d152ac8d57cc4c7f9ed75427593ef814": {
     "views": [
      {
       "cell_index": 52
      }
     ]
    },
    "d265715428314ccfa3d4d3492cc48864": {
     "views": [
      {
       "cell_index": 52
      }
     ]
    },
    "d2e872969a994c2daed50c7609bff22f": {
     "views": [
      {
       "cell_index": 52
      }
     ]
    },
    "d304c9d821d54b89a8ebdeb5eab3a5c8": {
     "views": [
      {
       "cell_index": 52
      }
     ]
    },
    "d349ce5151a3420aa8f5f6cdc37926cc": {
     "views": [
      {
       "cell_index": 52
      }
     ]
    },
    "d388bd09dd254e1aa4a193fc2c51e560": {
     "views": [
      {
       "cell_index": 52
      }
     ]
    },
    "d3c0de983dba4d0cb9f89cbfd692d640": {
     "views": [
      {
       "cell_index": 52
      }
     ]
    },
    "d3c5b9ee35c14668bafbcbc9d52842de": {
     "views": [
      {
       "cell_index": 52
      }
     ]
    },
    "d4257aa207194833b178a91722a364d8": {
     "views": [
      {
       "cell_index": 52
      }
     ]
    },
    "d475a0322b604bbdbaea2f6a0eabd923": {
     "views": [
      {
       "cell_index": 52
      }
     ]
    },
    "d5df7a3e5d9a481b90452d3e72b15f8f": {
     "views": [
      {
       "cell_index": 52
      }
     ]
    },
    "d5f74e9481af4bf78f6acd2b6bc392e0": {
     "views": [
      {
       "cell_index": 52
      }
     ]
    },
    "d63b83e5741a4b44aa556a693d77cae1": {
     "views": [
      {
       "cell_index": 52
      }
     ]
    },
    "d716cefafc894e2b8cd7439b0e0128b8": {
     "views": [
      {
       "cell_index": 52
      }
     ]
    },
    "d8adf0b47550453aae1cf19df17d1ab2": {
     "views": [
      {
       "cell_index": 52
      }
     ]
    },
    "d9a840d49b3142139bd9a61a813bf486": {
     "views": [
      {
       "cell_index": 52
      }
     ]
    },
    "da0708b2bb29418b8b1e4b21a4e7dd52": {
     "views": [
      {
       "cell_index": 52
      }
     ]
    },
    "db4f90efa15140da95c1b17cd007f8c1": {
     "views": [
      {
       "cell_index": 52
      }
     ]
    },
    "db75ced4967c43558247cbecb924008a": {
     "views": [
      {
       "cell_index": 52
      }
     ]
    },
    "dc72c803ddf24ea59b4cc305832884e9": {
     "views": [
      {
       "cell_index": 52
      }
     ]
    },
    "dd120bbffaaf47068c7ca2328ba635f7": {
     "views": [
      {
       "cell_index": 52
      }
     ]
    },
    "dd36d777dd014f40bac1d02fffb7cc75": {
     "views": [
      {
       "cell_index": 52
      }
     ]
    },
    "ddb5c2adb976424bb90178b28cf815d8": {
     "views": [
      {
       "cell_index": 52
      }
     ]
    },
    "de913966b3794ad49c01273b3892a8c9": {
     "views": [
      {
       "cell_index": 52
      }
     ]
    },
    "df5de3f1e7db439fb7d8b4c8f6b74670": {
     "views": [
      {
       "cell_index": 52
      }
     ]
    },
    "e089981c14f341d3b79b0dca1ce9d12e": {
     "views": [
      {
       "cell_index": 52
      }
     ]
    },
    "e0f85242d0854388b7042480aa6e9815": {
     "views": [
      {
       "cell_index": 52
      }
     ]
    },
    "e1b78f405dec440888b4ffa2d69cb740": {
     "views": [
      {
       "cell_index": 52
      }
     ]
    },
    "e25e55a4e2634ec58ebcb1a33b90f6b2": {
     "views": [
      {
       "cell_index": 52
      }
     ]
    },
    "e28475b365e64aff9920f0fc0211ac14": {
     "views": [
      {
       "cell_index": 52
      }
     ]
    },
    "e2b2f296e0c04fc791d54a8ca6d92eda": {
     "views": [
      {
       "cell_index": 52
      }
     ]
    },
    "e300800d7e38499eadd361e88e7e2d30": {
     "views": [
      {
       "cell_index": 52
      }
     ]
    },
    "e33677bb2ed34097be91eb95217f320f": {
     "views": [
      {
       "cell_index": 52
      }
     ]
    },
    "e35af90193c94e809e0016072aa4100e": {
     "views": [
      {
       "cell_index": 52
      }
     ]
    },
    "e38fbe97584a49368cd56a0cd7536184": {
     "views": [
      {
       "cell_index": 52
      }
     ]
    },
    "e41c7c2c41894b988a8edcc8152ebbb6": {
     "views": [
      {
       "cell_index": 52
      }
     ]
    },
    "e4bf27a5182e47498bfb99c0e2a1d624": {
     "views": [
      {
       "cell_index": 52
      }
     ]
    },
    "e4cfd710a3114df4b698118a9fd3aea7": {
     "views": [
      {
       "cell_index": 52
      }
     ]
    },
    "e690f39885c24e55b9e9103aa787e546": {
     "views": [
      {
       "cell_index": 52
      }
     ]
    },
    "e69675f538e94d49b4ae3b42084dacc2": {
     "views": [
      {
       "cell_index": 52
      }
     ]
    },
    "e6ec46fe74e743aa9a9871445c74c688": {
     "views": [
      {
       "cell_index": 52
      }
     ]
    },
    "e75d3fbe2b7e4b35906839f7d478f72c": {
     "views": [
      {
       "cell_index": 52
      }
     ]
    },
    "e8940aabc83644e296b89ac5b792eba9": {
     "views": [
      {
       "cell_index": 52
      }
     ]
    },
    "e8a054fac9744b01bf34918853f9c440": {
     "views": [
      {
       "cell_index": 52
      }
     ]
    },
    "e8eca54fb0f449adba5472e87f70ff92": {
     "views": [
      {
       "cell_index": 52
      }
     ]
    },
    "e99342e29a9848c088281f527f7c32b4": {
     "views": [
      {
       "cell_index": 52
      }
     ]
    },
    "e9ee9682d261444e9bd58371aa0e866e": {
     "views": [
      {
       "cell_index": 52
      }
     ]
    },
    "eaca33c4f8b643ffb9f7b5e6537a6e4a": {
     "views": [
      {
       "cell_index": 52
      }
     ]
    },
    "eb34eae28dd6406a809f5763ab87e9cf": {
     "views": [
      {
       "cell_index": 52
      }
     ]
    },
    "ed43dba450524dc4b3676f134ec3bbd0": {
     "views": [
      {
       "cell_index": 52
      }
     ]
    },
    "ee308a8a2c8d4f97a2043f9c5c7ae325": {
     "views": [
      {
       "cell_index": 52
      }
     ]
    },
    "efed8f2f08744c32b67a96553f794233": {
     "views": [
      {
       "cell_index": 52
      }
     ]
    },
    "f06443b1010e43d79048c74bfbb24eaf": {
     "views": [
      {
       "cell_index": 52
      }
     ]
    },
    "f0823584e061449fb94a24a86f42f1db": {
     "views": [
      {
       "cell_index": 52
      }
     ]
    },
    "f0b3d67907d14d4dbf725417c37e0b4b": {
     "views": [
      {
       "cell_index": 52
      }
     ]
    },
    "f2dc3e4048b3403abc8807b19a52ab97": {
     "views": [
      {
       "cell_index": 52
      }
     ]
    },
    "f315bbb182e345a886a9bafaf0505d73": {
     "views": [
      {
       "cell_index": 52
      }
     ]
    },
    "f33badfb49264df4b37a86b7c078bc66": {
     "views": [
      {
       "cell_index": 52
      }
     ]
    },
    "f35afe8e526e48c5b7a61def42c5d0eb": {
     "views": [
      {
       "cell_index": 52
      }
     ]
    },
    "f3b25b2f439f422c8c569aa581a6cf6c": {
     "views": [
      {
       "cell_index": 52
      }
     ]
    },
    "f456293729c04a8d9a4d29d70390b8ff": {
     "views": [
      {
       "cell_index": 52
      }
     ]
    },
    "f5e2344175d747d2b148ad5094b8b5e6": {
     "views": [
      {
       "cell_index": 52
      }
     ]
    },
    "f797df1b1cb24edd8031995aec9bc826": {
     "views": [
      {
       "cell_index": 52
      }
     ]
    },
    "f7b321d80fc745f5b08fc988c7024a69": {
     "views": [
      {
       "cell_index": 52
      }
     ]
    },
    "f7b443a745624fd2aecac55fc413cba8": {
     "views": [
      {
       "cell_index": 52
      }
     ]
    },
    "f809a540b1a2447a961bc28d0a499107": {
     "views": [
      {
       "cell_index": 52
      }
     ]
    },
    "f85177dd76de4db18fd425375f630484": {
     "views": [
      {
       "cell_index": 52
      }
     ]
    },
    "f87b9d6a4ee548f9812491eb61cdd980": {
     "views": [
      {
       "cell_index": 52
      }
     ]
    },
    "f899539d0f28449dba8f1e93364fe09e": {
     "views": [
      {
       "cell_index": 52
      }
     ]
    },
    "f89c6923985f4a8cb7f4046b61a8fde7": {
     "views": [
      {
       "cell_index": 52
      }
     ]
    },
    "fa7f42f99c124a9a95a6fc37fbf7177f": {
     "views": [
      {
       "cell_index": 52
      }
     ]
    },
    "fae1ac545d6344c2a50af95fa5b9bd68": {
     "views": [
      {
       "cell_index": 52
      }
     ]
    },
    "fb837a053ade497dbd89877c459abef0": {
     "views": [
      {
       "cell_index": 52
      }
     ]
    },
    "fc6500c0279a4372af40c07ff0cbe38d": {
     "views": [
      {
       "cell_index": 52
      }
     ]
    },
    "fc961adcacad48c2b6c520bb86671135": {
     "views": [
      {
       "cell_index": 52
      }
     ]
    },
    "fd0ff90960db4216be52295493ca9cc2": {
     "views": [
      {
       "cell_index": 52
      }
     ]
    },
    "fd2061bec4044bf893e3ed206f5560de": {
     "views": [
      {
       "cell_index": 52
      }
     ]
    },
    "fe9caa37f56a49bba6de1ee6e679408f": {
     "views": [
      {
       "cell_index": 52
      }
     ]
    },
    "ff9e070cba904ef38b802fb7528cbe33": {
     "views": [
      {
       "cell_index": 52
      }
     ]
    },
    "ffb8234f7510459f9a9a8548614621c5": {
     "views": [
      {
       "cell_index": 52
      }
     ]
    }
   },
   "version": "1.2.0"
  }
 },
 "nbformat": 4,
 "nbformat_minor": 0
}
