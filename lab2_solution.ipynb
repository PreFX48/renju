{
 "cells": [
  {
   "cell_type": "markdown",
   "metadata": {
    "collapsed": true
   },
   "source": [
    "### 2. Полносвязанные нейронные сети"
   ]
  },
  {
   "cell_type": "markdown",
   "metadata": {},
   "source": [
    "**Задание**\n",
    "1. Предложите значения $w$ и $b$, чтобы $y$ реализовала операторы *and*, *or*, *not*.\n",
    "Для начала условимся, что функция Хэвисайда задаётся, как равная единице при $arg \\geq 0$ и равная нулю при $arg < 0$\n",
    "\n",
    "Тогда:\n",
    "\n",
    "*AND*: $\\theta(w_{1}x_1 + w_{2}x_2 + b) = \\theta(x_1 + x_2 - 2)$, т.е. $w_1 = w_2 = 1, b = -2 $\n",
    "\n",
    "*OR*: $\\theta(x_1 + x_2 - 1)$, т.е. $w_1 = w_2 = 1, b = -1 $\n",
    "\n",
    "*NOT($x_1$)*: $\\theta(-x_1)$, т.е. $w_1 = -1, w_2 = b = 0 $\n",
    "2. Приведите пример булевой функции, которая не может быть представлена в виде $y$?\n",
    "\n",
    "     $XOR(0, 0) = 0 \\Rightarrow \\theta(0w_1 + 0w_2 + b) = \\theta(b) = 0 \\Rightarrow b < 0$\n",
    "\n",
    "     $XOR(0, 1) = 1 \\Rightarrow \\theta(w_2 + b) = 1 \\Rightarrow w_2 \\geq -b$\n",
    "     \n",
    "     $XOR(1, 0) = 1 \\Rightarrow \\theta(w_1 + b) = 1 \\Rightarrow w_1 \\geq -b$\n",
    "     \n",
    "     $w_1 \\geq -b, w_2 \\geq -b \\Rightarrow w_1 + w_2 \\geq -2b > -b$\n",
    "     \n",
    "     $XOR(1, 1) = 0 \\Rightarrow \\theta(w_1 + w_2 + b) = 0 \\Rightarrow w_1 + w_2 < -b$, противоречие"
   ]
  },
  {
   "cell_type": "markdown",
   "metadata": {},
   "source": [
    "Пусть теперь $x \\in \\{0, 1\\}^{n}$, а $y = \\theta(W_2 \\cdot \\theta(W_1x + b_1) + b_2)$\n",
    "\n",
    "Аналогично обычному *AND*, $x \\wedge \\neg y = \\theta(x - y - 2)$, $\\neg x \\wedge y = \\theta(y - x - 2)$\n",
    "\n",
    "Тогда если представить $F = x_1 \\oplus x_2$ как $x_1 \\wedge \\neg x_2 \\vee \\neg x_1 \\wedge x_2$, то $F = \\theta(x_1 - x_2 - 2) \\vee \\theta(x_2 - x_1 - 2) = \\theta(\\theta_1(x_1 - x_2 - 2) + \\theta_2(x_2 - x_1 - 2) - 1)$\n",
    "\n",
    "Содержимое $\\theta_1$ и $\\theta_2$ получается, очевидно умножением соответствующих строк матрицы $W_1$ на вектор $x$ и прибавлением соответствующей компоненты вектора $b_1$, Содержимое внешнего $\\theta$ тогда - сумма $b_2 = -1$ и скалярного произведения вектора $(\\theta_1, \\theta_2)$ на вектор $W_2 = (1, 1)$. Понятно, что это и есть вычисление функции $y$, таким образом, функция выразима с помощью данных средств.\n",
    "\n",
    "Также понятно, что таким образом мы можем выразить ДНФ или КНФ, т.к. функции *AND* и *OR* без каких-либо проблем расширяются для произвольного количества переменных (положительного или отрицательного - $\\neg$ - знака), которыми выражается любая логическая формула"
   ]
  },
  {
   "cell_type": "code",
   "execution_count": null,
   "metadata": {
    "collapsed": true
   },
   "outputs": [],
   "source": []
  }
 ],
 "metadata": {
  "kernelspec": {
   "display_name": "Python 3",
   "language": "python",
   "name": "python3"
  },
  "language_info": {
   "codemirror_mode": {
    "name": "ipython",
    "version": 3
   },
   "file_extension": ".py",
   "mimetype": "text/x-python",
   "name": "python",
   "nbconvert_exporter": "python",
   "pygments_lexer": "ipython3",
   "version": "3.5.2+"
  }
 },
 "nbformat": 4,
 "nbformat_minor": 1
}
