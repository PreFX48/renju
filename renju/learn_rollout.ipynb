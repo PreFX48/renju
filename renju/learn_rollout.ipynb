{
 "cells": [
  {
   "cell_type": "code",
   "execution_count": 1,
   "metadata": {},
   "outputs": [
    {
     "name": "stderr",
     "output_type": "stream",
     "text": [
      "Using TensorFlow backend.\n"
     ]
    },
    {
     "name": "stdout",
     "output_type": "stream",
     "text": [
      "data generated\n"
     ]
    }
   ],
   "source": [
    "from generate import *\n",
    "from sklearn.linear_model import *\n",
    "from sklearn.svm import *\n",
    "from sklearn.metrics import accuracy_score\n",
    "from tqdm import *\n",
    "from sklearn.externals import joblib\n",
    "\n",
    "def generate_rollout_batch(filename, batch_size, last_n=None):\n",
    "    actions = 0\n",
    "    batch_samples = np.zeros((batch_size, 15*15*3), dtype='float32')  # TODO: refactor hard-code\n",
    "    batch_labels = np.zeros((batch_size,), dtype='float32')\n",
    "    index = 0\n",
    "    while True:\n",
    "        for game in generate_games(filename):\n",
    "            for action_idx, action in enumerate(game.generate_actions(last_n=last_n)):\n",
    "                batch_samples[index], batch_labels[index] = action[0].flatten(), action[1][0].argmax()\n",
    "                index += 1\n",
    "                index %= batch_size\n",
    "                actions += 1\n",
    "                if index == 0:\n",
    "                    yield (batch_samples, batch_labels)\n",
    " \n",
    "actions = {}\n",
    "count = 0\n",
    "for batch in generate_rollout_batch('aug_train.renju', 1):\n",
    "    if batch[1][0] not in actions:\n",
    "        actions[batch[1][0]] = batch[0][0]\n",
    "        count += 1\n",
    "    if count == 225:\n",
    "        break\n",
    "x, y = next(generate_rollout_batch('aug_train.renju', 65536))\n",
    "x1, y1 = next(generate_rollout_batch('aug_train.renju', 32768, last_n=10))\n",
    "x2, y2 = next(generate_rollout_batch('aug_train.renju', 8192, last_n=1))\n",
    "x_test, y_test = next(generate_rollout_batch('aug_test.renju', 20000))\n",
    "x = np.vstack((x1, x, x2, *[actions[act] for act in actions]))\n",
    "y = np.hstack((y1, y, y2, np.array([act for act in actions])))\n",
    "print('data generated')\n",
    "sys.stdout.flush()"
   ]
  },
  {
   "cell_type": "code",
   "execution_count": 2,
   "metadata": {
    "scrolled": false
   },
   "outputs": [
    {
     "name": "stdout",
     "output_type": "stream",
     "text": [
      "CPU times: user 57min 51s, sys: 776 ms, total: 57min 52s\n",
      "Wall time: 57min 52s\n",
      "fitted\n",
      "0.0651\n"
     ]
    },
    {
     "data": {
      "text/plain": [
       "['filtered_sklearn_policy.pkl']"
      ]
     },
     "execution_count": 2,
     "metadata": {},
     "output_type": "execute_result"
    }
   ],
   "source": [
    "model = LogisticRegression(n_jobs=-1)\n",
    "%time model.fit(x, y)\n",
    "print('fitted')\n",
    "print(accuracy_score(y_test, model.predict(x_test)))\n",
    "joblib.dump(model, 'filtered_sklearn_policy.pkl')"
   ]
  },
  {
   "cell_type": "code",
   "execution_count": null,
   "metadata": {
    "collapsed": true
   },
   "outputs": [],
   "source": [
    "from sklearn.linear_model import *\n",
    "from sklearn.externals import joblib\n",
    "model = LogisticRegression()\n",
    "model.fit(samples, labels)\n",
    "joblib.dump(model, 'path_to_save')\n",
    "loaded_model = joblib.load('path_to_model')\n",
    "action_probas = loaded_model.predict_proba(array)"
   ]
  },
  {
   "cell_type": "code",
   "execution_count": null,
   "metadata": {
    "collapsed": true
   },
   "outputs": [],
   "source": [
    "board = np.zeros((15, 15), dtype='float32')\n",
    "%timeit model.predict(prepare_board(board, True).flatten()[np.newaxis])"
   ]
  },
  {
   "cell_type": "code",
   "execution_count": null,
   "metadata": {
    "collapsed": true
   },
   "outputs": [],
   "source": [
    "from sklearn.externals import joblib"
   ]
  },
  {
   "cell_type": "code",
   "execution_count": null,
   "metadata": {
    "collapsed": true
   },
   "outputs": [],
   "source": [
    "joblib.dump(model, 'sklearn_policy.pkl')"
   ]
  },
  {
   "cell_type": "code",
   "execution_count": null,
   "metadata": {
    "collapsed": true
   },
   "outputs": [],
   "source": [
    "board = np.zeros((15, 15))\n",
    "board[7, 7] = -1.0\n",
    "board[8, 7] = 1.0\n",
    "board[8, 8] = -1.0\n",
    "show_board(model.predict_proba(prepare_board(board, True).flatten()[np.newaxis]).reshape(15, 15))"
   ]
  },
  {
   "cell_type": "code",
   "execution_count": null,
   "metadata": {
    "collapsed": true
   },
   "outputs": [],
   "source": []
  }
 ],
 "metadata": {
  "anaconda-cloud": {},
  "kernelspec": {
   "display_name": "Python 3",
   "language": "python",
   "name": "python3"
  },
  "language_info": {
   "codemirror_mode": {
    "name": "ipython",
    "version": 3
   },
   "file_extension": ".py",
   "mimetype": "text/x-python",
   "name": "python",
   "nbconvert_exporter": "python",
   "pygments_lexer": "ipython3",
   "version": "3.5.3"
  }
 },
 "nbformat": 4,
 "nbformat_minor": 1
}
