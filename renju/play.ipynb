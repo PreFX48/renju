{
 "cells": [
  {
   "cell_type": "code",
   "execution_count": null,
   "metadata": {},
   "outputs": [],
   "source": [
    "from generate import *\n",
    "from tree_search import *\n",
    "from sklearn.externals import joblib"
   ]
  },
  {
   "cell_type": "code",
   "execution_count": null,
   "metadata": {
    "collapsed": true
   },
   "outputs": [],
   "source": [
    "class Network:\n",
    "    def __init__(self, model, sk_learn=False):\n",
    "        self.model = model\n",
    "        self.board = np.zeros((15, 15))\n",
    "        self.sk_learn = sk_learn\n",
    "    def make_move(self, *args):\n",
    "        if self.sk_learn:\n",
    "            action = legal_move(self.board, self.model, False)\n",
    "        else:\n",
    "            action = legal_nn_move(self.board, self.model)\n",
    "        self.board[action] = -1.0 - 2*self.board.sum()\n",
    "        return action\n",
    "    def pass_move(self, action):\n",
    "        self.board[action] = -1.0 - 2*self.board.sum()"
   ]
  },
  {
   "cell_type": "code",
   "execution_count": null,
   "metadata": {
    "collapsed": true
   },
   "outputs": [],
   "source": [
    "class Meatbag:\n",
    "    def __init__(self):\n",
    "        self.board = np.zeros((15, 15))\n",
    "    def make_move(self, *args):\n",
    "        while True:\n",
    "            # many more possible problems\n",
    "            raw = input()\n",
    "            width = ord(raw[0].lower())\n",
    "            if width > ord('i'):\n",
    "                width -= 1\n",
    "            width -= ord('a')\n",
    "            height = int(raw[1:]) - 1\n",
    "            if round(self.board[height, width]) == 0:\n",
    "                break\n",
    "            print('Wrong action')\n",
    "        self.board[height, width] = -1.0 - 2*self.board.sum()\n",
    "        return (height, width)\n",
    "    \n",
    "    def pass_move(self, action):\n",
    "        self.board[action] = -1.0 - 2*self.board.sum()"
   ]
  },
  {
   "cell_type": "code",
   "execution_count": null,
   "metadata": {
    "collapsed": true
   },
   "outputs": [],
   "source": [
    "import MCTS_cpp\n",
    "\n",
    "def cpp_predict_value(board, is_black_to_go):\n",
    "    global value_policy\n",
    "    res = value_policy.predict(prepare_board(board, is_black_to_go)[np.newaxis])[0, 0]\n",
    "    return res\n",
    "\n",
    "\n",
    "def cpp_predict_probas(board, is_black_to_go):\n",
    "    global sl_policy\n",
    "    res = sl_policy.predict(prepare_board(board, not is_black_to_go)[np.newaxis])[0]\n",
    "    return res\n",
    "\n",
    "\n",
    "class MCTS_Cpp_Wrapper:\n",
    "    def __init__(self):\n",
    "        self.search = MCTS_cpp.MCTS_cpp(cpp_predict_probas, rollout_policy, cpp_predict_value, 0.5)\n",
    "    def make_move(self, *args):\n",
    "        return MCTS_cpp.make_move(self.search, args[0])\n",
    "    def pass_move(self, action):\n",
    "        MCTS_cpp.pass_move(self.search, action)"
   ]
  },
  {
   "cell_type": "code",
   "execution_count": null,
   "metadata": {
    "collapsed": true
   },
   "outputs": [],
   "source": [
    "sl_large_policy = load_model('large_policy_model')\n",
    "rl_policy = None # load_model('rl_policy_72%.keras')\n",
    "value_policy = None # load_model('rl_value_model')\n",
    "filtered_rollout_policy = joblib.load('filtered_sklearn_policy.pkl')"
   ]
  },
  {
   "cell_type": "code",
   "execution_count": null,
   "metadata": {
    "collapsed": true,
    "scrolled": false
   },
   "outputs": [],
   "source": [
    "board = np.zeros((15, 15), dtype='float32')\n",
    "last_action = (0, 0)\n",
    "turn = 0\n",
    "\n",
    "# players = [MonteCarloTreeSearch(sl_policy, filtered_rollout_policy, value_policy, 1.0, verbose=False),\n",
    "#            Network(sl_policy)]\n",
    "players = [Meatbag(),\n",
    "           MonteCarloTreeSearch(sl_large_policy, None, None, time=5, mixing_param=1.0, verbose=1)]\n",
    "\n",
    "while get_rollout_result(board, last_action) is None:\n",
    "    show_board(board)\n",
    "    last_action = players[turn % 2].make_move()\n",
    "    players[(turn + 1) % 2].pass_move(last_action)\n",
    "    board[last_action] = -1.0 + 2 * (turn % 2)\n",
    "    turn += 1\n",
    "show_board(board)\n",
    "res = get_rollout_result(board, last_action)\n",
    "if res is None:\n",
    "    print(\"Not finished\")\n",
    "elif round(res) == 1:\n",
    "    print('White won!')\n",
    "elif round(res) == -1:\n",
    "    print('Black won!')\n",
    "else:\n",
    "    print('Draw!')"
   ]
  },
  {
   "cell_type": "code",
   "execution_count": null,
   "metadata": {},
   "outputs": [],
   "source": [
    "counter_5 = tqdm_notebook(total=50, desc='5', leave=True)\n",
    "counter_3 = tqdm_notebook(total=50, desc='3', leave=True)\n",
    "counter_draw = tqdm_notebook(total=50, desc='draw', leave=True)\n",
    "\n",
    "for i in range(25):\n",
    "    players = [MonteCarloTreeSearch(sl_large_policy, None, None, time=1, mixing_param=1.0, verbose=0),\n",
    "               search2.MonteCarloTreeSearch(sl_large_policy, None, None, time=1, mixing_param=1.0, verbose=0)]\n",
    "    board = np.zeros((15, 15), dtype='float32')\n",
    "    last_action = (0, 0)\n",
    "    turn = 0\n",
    "    while get_rollout_result(board, last_action) is None:\n",
    "        last_action = players[turn % 2].make_move()\n",
    "        players[(turn + 1) % 2].pass_move(last_action)\n",
    "        board[last_action] = -1.0 + 2 * (turn % 2)\n",
    "        turn += 1\n",
    "    res = get_rollout_result(board, last_action)\n",
    "    if round(res) == 1:\n",
    "        counter_3.update()\n",
    "    elif round(res) == -1:\n",
    "        counter_5.update()\n",
    "    else:\n",
    "        counter_draw.update()\n",
    "        \n",
    "    players = [search2.MonteCarloTreeSearch(sl_large_policy, None, None, time=1, mixing_param=1.0, verbose=0),\n",
    "               MonteCarloTreeSearch(sl_large_policy, None, None, time=1, mixing_param=1.0, verbose=0)]\n",
    "    board = np.zeros((15, 15), dtype='float32')\n",
    "    last_action = (0, 0)\n",
    "    turn = 0\n",
    "    while get_rollout_result(board, last_action) is None:\n",
    "        last_action = players[turn % 2].make_move()\n",
    "        players[(turn + 1) % 2].pass_move(last_action)\n",
    "        board[last_action] = -1.0 + 2 * (turn % 2)\n",
    "        turn += 1\n",
    "    res = get_rollout_result(board, last_action)\n",
    "    if round(res) == 1:\n",
    "        counter_5.update()\n",
    "    elif round(res) == -1:\n",
    "        counter_3.update()\n",
    "    else:\n",
    "        counter_draw.update()"
   ]
  },
  {
   "cell_type": "code",
   "execution_count": null,
   "metadata": {
    "collapsed": true
   },
   "outputs": [],
   "source": []
  }
 ],
 "metadata": {
  "anaconda-cloud": {},
  "kernelspec": {
   "display_name": "Python 3",
   "language": "python",
   "name": "python3"
  },
  "language_info": {
   "codemirror_mode": {
    "name": "ipython",
    "version": 3
   },
   "file_extension": ".py",
   "mimetype": "text/x-python",
   "name": "python",
   "nbconvert_exporter": "python",
   "pygments_lexer": "ipython3",
   "version": "3.5.3"
  }
 },
 "nbformat": 4,
 "nbformat_minor": 1
}
