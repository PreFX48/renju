{
 "cells": [
  {
   "cell_type": "code",
   "execution_count": null,
   "metadata": {
    "collapsed": true
   },
   "outputs": [],
   "source": [
    "from generate import *\n",
    "from tree_search import *"
   ]
  },
  {
   "cell_type": "code",
   "execution_count": null,
   "metadata": {
    "collapsed": true
   },
   "outputs": [],
   "source": [
    "class Network:\n",
    "    def __init__(self, model, sk_learn=False):\n",
    "        self.model = model\n",
    "        self.board = np.zeros((15, 15))\n",
    "        self.sk_learn = sk_learn\n",
    "    def make_move(self, *args):\n",
    "        if self.sk_learn:\n",
    "            action = legal_move(self.board, self.model, False)\n",
    "        else:\n",
    "            action = legal_nn_move(self.board, self.model)\n",
    "        self.board[action] = -1.0 - 2*self.board.sum()\n",
    "        return action\n",
    "    def pass_move(self, action):\n",
    "        self.board[action] = -1.0 - 2*self.board.sum()"
   ]
  },
  {
   "cell_type": "code",
   "execution_count": null,
   "metadata": {
    "collapsed": true
   },
   "outputs": [],
   "source": [
    "class Meatbag:\n",
    "    def __init__(self):\n",
    "        self.board = np.zeros((15, 15))\n",
    "    def make_move(self, *args):\n",
    "        while True:\n",
    "            # many more possible problems\n",
    "            raw = input()\n",
    "            width = ord(raw[0].lower())\n",
    "            if width > ord('i'):\n",
    "                width -= 1\n",
    "            width -= ord('a')\n",
    "            height = int(raw[1:]) - 1\n",
    "            if round(self.board[height, width]) == 0:\n",
    "                break\n",
    "            print('Wrong action')\n",
    "        self.board[height, width] = -1.0 - 2*self.board.sum()\n",
    "        return (height, width)\n",
    "    \n",
    "    def pass_move(self, action):\n",
    "        self.board[action] = -1.0 - 2*self.board.sum()"
   ]
  },
  {
   "cell_type": "code",
   "execution_count": null,
   "metadata": {
    "collapsed": true
   },
   "outputs": [],
   "source": [
    "sl_large_policy = load_model('large_policy_model')"
   ]
  },
  {
   "cell_type": "code",
   "execution_count": null,
   "metadata": {
    "collapsed": true,
    "scrolled": false
   },
   "outputs": [],
   "source": [
    "board = np.zeros((15, 15), dtype='float32')\n",
    "last_action = (0, 0)\n",
    "turn = 0\n",
    "\n",
    "players = [Meatbag(),\n",
    "           MonteCarloTreeSearch(sl_large_policy, None, time=10, verbose=1)]\n",
    "\n",
    "while get_rollout_result(board, last_action) is None:\n",
    "    show_board(board)\n",
    "    last_action = players[turn % 2].make_move()\n",
    "    players[(turn + 1) % 2].pass_move(last_action)\n",
    "    board[last_action] = -1.0 + 2 * (turn % 2)\n",
    "    turn += 1\n",
    "show_board(board)\n",
    "res = get_rollout_result(board, last_action)\n",
    "if res is None:\n",
    "    print(\"Not finished\")\n",
    "elif round(res) == 1:\n",
    "    print('White won!')\n",
    "elif round(res) == -1:\n",
    "    print('Black won!')\n",
    "else:\n",
    "    print('Draw!')"
   ]
  },
  {
   "cell_type": "code",
   "execution_count": null,
   "metadata": {
    "collapsed": true
   },
   "outputs": [],
   "source": []
  }
 ],
 "metadata": {
  "anaconda-cloud": {},
  "kernelspec": {
   "display_name": "Python 3",
   "language": "python",
   "name": "python3"
  },
  "language_info": {
   "codemirror_mode": {
    "name": "ipython",
    "version": 3
   },
   "file_extension": ".py",
   "mimetype": "text/x-python",
   "name": "python",
   "nbconvert_exporter": "python",
   "pygments_lexer": "ipython3",
   "version": "3.5.3"
  }
 },
 "nbformat": 4,
 "nbformat_minor": 1
}
