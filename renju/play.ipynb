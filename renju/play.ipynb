{
 "cells": [
  {
   "cell_type": "code",
   "execution_count": null,
   "metadata": {},
   "outputs": [],
   "source": [
    "from generate import *\n",
    "from tree_search import *\n",
    "from meatbag import *"
   ]
  },
  {
   "cell_type": "code",
   "execution_count": null,
   "metadata": {
    "scrolled": false
   },
   "outputs": [],
   "source": [
    "sl_large_policy = load_model('large_policy_model')\n",
    "board = np.zeros((15, 15), dtype='float32')\n",
    "last_action = (0, 0)\n",
    "turn = 0\n",
    "\n",
    "time = int(input(\"Enter algorithm processing time (in seconds):\"))\n",
    "players = [Meatbag(),\n",
    "           MonteCarloTreeSearch(sl_large_policy, None, time=time, verbose=1)]\n",
    "if input(\"Choose your side (black/white):\") == \"white\":\n",
    "    players.reverse()\n",
    "while get_rollout_result(board, last_action) is None:\n",
    "    show_board(board)\n",
    "    last_action = players[turn % 2].make_move()\n",
    "    players[(turn + 1) % 2].pass_move(last_action)\n",
    "    board[last_action] = -1.0 + 2 * (turn % 2)\n",
    "    turn += 1\n",
    "show_board(board)\n",
    "res = get_rollout_result(board, last_action)\n",
    "if res is None:\n",
    "    print(\"Not finished\")\n",
    "elif round(res) == 1:\n",
    "    print('White won!')\n",
    "elif round(res) == -1:\n",
    "    print('Black won!')\n",
    "else:\n",
    "    print('Draw!')"
   ]
  },
  {
   "cell_type": "code",
   "execution_count": null,
   "metadata": {
    "collapsed": true
   },
   "outputs": [],
   "source": []
  }
 ],
 "metadata": {
  "anaconda-cloud": {},
  "kernelspec": {
   "display_name": "Python 3",
   "language": "python",
   "name": "python3"
  },
  "language_info": {
   "codemirror_mode": {
    "name": "ipython",
    "version": 3
   },
   "file_extension": ".py",
   "mimetype": "text/x-python",
   "name": "python",
   "nbconvert_exporter": "python",
   "pygments_lexer": "ipython3",
   "version": "3.5.3"
  }
 },
 "nbformat": 4,
 "nbformat_minor": 1
}
