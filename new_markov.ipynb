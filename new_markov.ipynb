{
 "cells": [
  {
   "cell_type": "markdown",
   "metadata": {
    "collapsed": true,
    "deletable": true,
    "editable": true
   },
   "source": [
    "## 2. Марковский процесс принятия решения (markov decison process)"
   ]
  },
  {
   "cell_type": "markdown",
   "metadata": {
    "collapsed": true,
    "deletable": true,
    "editable": true
   },
   "source": [
    "### Задание\n",
    "#### 1. Приведите жизненный пример марковского процесса принятия решения (это может быть какаю-нибудь игра и т.п.).\n",
    "Очень простой пример - шахматы. Конечное, пусть и очень большое, количество состояний $S$, конечное множество действий $ A \\subset S \\times S$. Среда - наш противник - отвечает вполне себе случайно. Если рассматривать среду именно как противника, то она, конечно, отдаёт сильное предпочтение тем действиям, которые она считает выигрышными. Награда для каждого допустимого действия из $\\; S \\times A \\;$ нулевая за исключением последнего хода, по результатам которого присуждается награда $\\pm 1$. Кроме того, очевидно, что для принятия решения информация о предыдущих состояниях нерелевантна. Таким образом, принятие решения в шахматах можно смоделировать с помощью марковского процесса.\n",
    "#### 2. Можете ли вы привести пример игры, где принятие решения нельзя смоделировать с помощью марковского процесса?\n",
    "Крестики-нолики на бесконечной доске не могут быть смоделированы хотя бы из-за бесконечности (в частности, континуальности) множества состояний $S$.\n",
    "#### 3. Выведите следующие значения через $p(s_{t+1}, r_{t+1}|s_t, a_t)$, для простоты все распределения можно считать дискретными\n",
    "  * $r(s_{t}, a_{t}) = \\mathbb{E}[R_{t+1}|S_t = s_t, A_t = a_t]$ - средняя награда за действие $a_t$ в $s_t$ \n",
    "  * $p(s_{t+1} | s_t, a_t) = \\Pr\\{S_{t+1} = s_{t+1} | S_t = s_t, A_t = a_t \\}$ - вероятность попасть в $s_{t+1}$ из $s_t$, сделав $a_t$.\n",
    "  * $r(s_t, a_t, s_{t+1}) = \\mathbb{E}[R_{t+1}|S_{t+1} = s_{t+1}, S_t = s_t, A_t = a_t]$ - средняя награда при переезде из $s_t$ в $s_{t+1}$, сделав $a_t$.\n",
    "\n",
    "$r(s_{t}, a_{t}) = \\mathbb{E}[R_{t+1}|S_t = s_t, A_t = a_t] = \\sum_{s,r} r \\cdot p(s, r \\;|\\; s_t, a_t)$\n",
    "\n",
    "$p(s_{t+1} | s_t, a_t) = \\Pr\\{S_{t+1} = s_{t+1} | S_t = s_t, A_t = a_t \\} = \\sum_{r} p(s_{t+1}, r \\;|\\; s_t, a_t)$\n",
    "\n",
    "$r(s_t, a_t, s_{t+1}) = \\mathbb{E}[R_{t+1}|S_{t+1} = s_{t+1}, S_t = s_t, A_t = a_t] = \\sum_{r} r \\cdot p(s_{t+1}, r \\;|\\; s_t, a_t)$\n",
    "\n"
   ]
  },
  {
   "cell_type": "markdown",
   "metadata": {
    "deletable": true,
    "editable": true
   },
   "source": [
    "### Смоделируем среду:"
   ]
  },
  {
   "cell_type": "code",
   "execution_count": 27,
   "metadata": {
    "collapsed": true
   },
   "outputs": [],
   "source": [
    "import numpy as np\n",
    "import matplotlib.pyplot as plt\n",
    "import math\n",
    "from scipy.ndimage.filters import gaussian_filter1d\n",
    "\n",
    "\n",
    "def log_progress(sequence, every=None, size=None):\n",
    "    from ipywidgets import IntProgress, HTML, VBox\n",
    "    from IPython.display import display\n",
    "\n",
    "    is_iterator = False\n",
    "    if size is None:\n",
    "        try:\n",
    "            size = len(sequence)\n",
    "        except TypeError:\n",
    "            is_iterator = True\n",
    "    if size is not None:\n",
    "        if every is None:\n",
    "            if size <= 200:\n",
    "                every = 1\n",
    "            else:\n",
    "                every = int(size / 200)     # every 0.5%\n",
    "    else:\n",
    "        assert every is not None, 'sequence is iterator, set every'\n",
    "\n",
    "    if is_iterator:\n",
    "        progress = IntProgress(min=0, max=1, value=1)\n",
    "        progress.bar_style = 'info'\n",
    "    else:\n",
    "        progress = IntProgress(min=0, max=size, value=0)\n",
    "    label = HTML()\n",
    "    box = VBox(children=[label, progress])\n",
    "    display(box)\n",
    "\n",
    "    index = 0\n",
    "    try:\n",
    "        for index, record in enumerate(sequence, 1):\n",
    "            if index == 1 or index % every == 0:\n",
    "                if is_iterator:\n",
    "                    label.value = '{index} / ?'.format(index=index)\n",
    "                else:\n",
    "                    progress.value = index\n",
    "                    label.value = u'{index} / {size}'.format(\n",
    "                        index=index,\n",
    "                        size=size\n",
    "                    )\n",
    "            yield record\n",
    "    except:\n",
    "        progress.bar_style = 'danger'\n",
    "        raise\n",
    "    else:\n",
    "        progress.bar_style = 'success'\n",
    "        progress.value = index\n",
    "        label.value = str(index or '?')"
   ]
  },
  {
   "cell_type": "markdown",
   "metadata": {},
   "source": [
    "### Построим такую модель:\n",
    "$|S| = 100, \\forall s \\in S \\; A_s = A, |A| = 20$\n",
    "\n",
    "$ \\forall s \\in S, a \\in A: \\; p(r \\; | \\; s, a) \\sim \\mathcal{N}(m_{s,a}, 1), \\; m_{s,a} \\sim \\mathcal{N}(0, 1)$\n",
    "\n",
    "Распределение $p(s' \\; | \\; s, a)$ задаёт плотную матрицу\n",
    "\n",
    "Случайные величины $s', r$ независимы"
   ]
  },
  {
   "cell_type": "code",
   "execution_count": 87,
   "metadata": {
    "collapsed": false,
    "deletable": true,
    "editable": true,
    "scrolled": false
   },
   "outputs": [],
   "source": [
    "class Environment:\n",
    "    def __init__(self, states, actions):\n",
    "        self.states = states\n",
    "        self.actions = actions\n",
    "        self.reward_means = np.random.normal(0, 1, size=(states, actions))\n",
    "        transitions = np.random.randint(0, 2, size=(states, actions, states), dtype='int8')\n",
    "        transitions[:, :, 0] += 1 - transitions.max(2)\n",
    "        self.transition_probas = np.random.random_sample((states, actions, states)).astype('float64') * transitions\n",
    "        for state in self.transition_probas:\n",
    "            for action in state:\n",
    "                if np.absolute(action).sum() < 0.01:\n",
    "                    action = np.ones(states)\n",
    "                action /= action.sum()\n",
    "    \n",
    "    def step(self, state, action):\n",
    "        return (np.random.choice(self.states, p=self.transition_probas[state, action]),\n",
    "            np.random.normal(self.reward_means[state, action], 1))"
   ]
  },
  {
   "cell_type": "code",
   "execution_count": 119,
   "metadata": {
    "collapsed": false,
    "deletable": true,
    "editable": true
   },
   "outputs": [],
   "source": [
    "class PolicyIterationStrategy:\n",
    "    def __init__(self, env, discount):\n",
    "        self.env = env\n",
    "        self.discount = discount\n",
    "        self.policy = np.ones((env.states, env.actions))\n",
    "        self.policy /= env.actions\n",
    "    def learn(self):\n",
    "        self.state_values = np.random.randn(self.env.states)\n",
    "        self.state_action_values = np.zeros((self.env.states, self.env.actions))\n",
    "        i = 0\n",
    "        while True:\n",
    "            while True:\n",
    "                epsilon = 0\n",
    "                for state in range(self.env.states):\n",
    "                    old_value = self.state_values[state]\n",
    "                    val_sum = 0\n",
    "                    for action in range(self.env.actions):\n",
    "                        action_sum = 0\n",
    "                        for new_state in range(self.env.states):\n",
    "                            action_sum += self.env.transition_probas[state, action, new_state] * \\\n",
    "                                (self.env.reward_means[state, action] + \\\n",
    "                                    self.discount*self.state_values[new_state])\n",
    "                        val_sum += self.policy[state, action] * action_sum\n",
    "                    self.state_values[state] = val_sum\n",
    "                    epsilon = max(epsilon, abs(old_value - self.state_values[state]))\n",
    "                i += 1\n",
    "                if epsilon < 0.02: # random value, should be checked\n",
    "                    break\n",
    "                \n",
    "            stable = True    \n",
    "            for state in range(self.env.states):\n",
    "                comp_values = self.state_action_values[state]\n",
    "                old_best = np.argwhere(comp_values == comp_values.max())\n",
    "                for action in range(self.env.actions):\n",
    "                    action_sum = 0\n",
    "                    for new_state in range(self.env.states):\n",
    "                        action_sum += self.env.transition_probas[state, action, new_state] * \\\n",
    "                            (self.env.reward_means[state, action] + \\\n",
    "                                self.discount*self.state_values[new_state])\n",
    "                    self.state_action_values[state, action] = action_sum\n",
    "                comp_values = self.state_action_values[state]\n",
    "                best = np.argwhere(comp_values == comp_values.max())\n",
    "                self.policy[state] = 0\n",
    "                self.policy[state][best] = 1\n",
    "                self.policy[state] /= self.policy[state].sum()\n",
    "                if not np.array_equal(old_best, best):\n",
    "                    stable = False\n",
    "            if stable:\n",
    "                break\n",
    "        return i\n",
    "                    \n",
    "                \n",
    "    def choose(self, state):\n",
    "        return np.random.choice(self.env.actions, p=self.policy[state])\n",
    "    \n",
    "\n",
    "class ValueIterationStrategy:\n",
    "    def __init__(self, env, discount):\n",
    "        self.env = env\n",
    "        self.discount = discount\n",
    "        self.policy = np.ones((env.states, env.actions))\n",
    "        self.policy /= env.actions\n",
    "    def learn(self):\n",
    "        self.state_values = np.random.randn(self.env.states)\n",
    "        self.state_action_values = np.zeros((self.env.states, self.env.actions))\n",
    "        i = 0\n",
    "        while True:\n",
    "            epsilon = 0\n",
    "            for state in range(self.env.states):\n",
    "                old_value = self.state_values[state]\n",
    "                max_val = -1e20\n",
    "                for action in range(self.env.actions):\n",
    "                    action_sum = 0\n",
    "                    for new_state in range(self.env.states):\n",
    "                        action_sum += self.env.transition_probas[state, action, new_state] * \\\n",
    "                            (self.env.reward_means[state, action] + \\\n",
    "                                self.discount*self.state_values[new_state])\n",
    "                    max_val = max(max_val, action_sum)\n",
    "                self.state_values[state] = max_val\n",
    "                epsilon = max(epsilon, abs(old_value - self.state_values[state]))\n",
    "            i += 1\n",
    "            if epsilon < 0.02: # random value, should be checked\n",
    "                break\n",
    "                \n",
    "        for state in range(self.env.states):\n",
    "            res = np.zeros(self.env.actions)\n",
    "            for action in range(self.env.actions):\n",
    "                action_sum = 0\n",
    "                for new_state in range(self.env.actions):\n",
    "                    for new_state in range(self.env.states):\n",
    "                        action_sum += self.env.transition_probas[state, action, new_state] * \\\n",
    "                            (self.env.reward_means[state, action] + \\\n",
    "                                self.discount*self.state_values[new_state])\n",
    "                res[action] = action_sum\n",
    "            best = np.argwhere(res == res.max())\n",
    "            self.policy[state] = 0\n",
    "            self.policy[state][best] = 1\n",
    "            self.policy[state] /= self.policy[state].sum()\n",
    "        \n",
    "        return i\n",
    "                \n",
    "    def choose(self, state):\n",
    "        return np.random.choice(self.env.actions, p=self.policy[state])\n",
    "    \n",
    "class RandomStrategy:\n",
    "    def __init__(self, env, discount):\n",
    "        self.env = env\n",
    "        self.discount = discount\n",
    "        self.policy = np.ones((env.states, env.actions))\n",
    "        self.policy /= env.actions\n",
    "    def learn(self):\n",
    "        return 0\n",
    "    def choose(self, state):\n",
    "        return np.random.choice(self.env.actions, p=self.policy[state])"
   ]
  },
  {
   "cell_type": "code",
   "execution_count": 120,
   "metadata": {
    "collapsed": true,
    "deletable": true,
    "editable": true
   },
   "outputs": [],
   "source": [
    "class MarkovPlayer:\n",
    "    def __init__(self, states, actions, steps, strategy_class, discount):\n",
    "        self.states = states\n",
    "        self.actions = actions\n",
    "        self.strategy_class = strategy_class\n",
    "        self.steps = steps\n",
    "        self.discount = discount\n",
    "    def evaluate(self, games=1, progressbar=True,hold=False, show=True,\n",
    "                 color='b', label=' '):\n",
    "        rewards = np.zeros(self.steps)\n",
    "        env = global_env\n",
    "        if progressbar:\n",
    "            games_range = log_progress(range(games), every=1)\n",
    "        else:\n",
    "            games_range = range(games)\n",
    "        avg_time = 0\n",
    "        for game in games_range:\n",
    "            state = 0\n",
    "            self.state = state\n",
    "#             env = Environment(self.states, self.actions)\n",
    "            strategy = self.strategy_class(env, self.discount)\n",
    "            self.strategy = strategy\n",
    "            avg_time += strategy.learn()\n",
    "            for i in range(self.steps):\n",
    "                state, rewards[i] = env.step(state, strategy.choose(state))\n",
    "                self.state = state\n",
    "        avg_time /= games\n",
    "        discount = self.discount\n",
    "        print(avg_time, 'steps to converge')\n",
    "        for i in range(1, self.steps):\n",
    "            rewards[i] = rewards[i-1] + discount * rewards[i]\n",
    "            discount *= self.discount\n",
    "        if show:\n",
    "            x = np.arange(1, self.steps+1)\n",
    "            plot_rewards = rewards\n",
    "            plt.plot(x, plot_rewards, color, label=label)\n",
    "            plt.title('Total reward', fontsize=16)\n",
    "            if not hold:\n",
    "                plt.show()\n",
    "        return rewards.sum()"
   ]
  },
  {
   "cell_type": "markdown",
   "metadata": {},
   "source": [
    "### Сравним эффективность и скорость сходимости алгоритмов:"
   ]
  },
  {
   "cell_type": "code",
   "execution_count": 118,
   "metadata": {
    "collapsed": false,
    "deletable": true,
    "editable": true,
    "scrolled": false
   },
   "outputs": [
    {
     "name": "stderr",
     "output_type": "stream",
     "text": [
      "/usr/local/lib/python3.5/dist-packages/ipykernel/__main__.py:13: MatplotlibDeprecationWarning: pyplot.hold is deprecated.\n",
      "    Future behavior will be consistent with the long-time default:\n",
      "    plot commands add elements without first clearing the\n",
      "    Axes and/or Figure.\n",
      "/usr/local/lib/python3.5/dist-packages/matplotlib/__init__.py:917: UserWarning: axes.hold is deprecated. Please remove it from your matplotlibrc and/or style files.\n",
      "  warnings.warn(self.msg_depr_set % key)\n",
      "/usr/local/lib/python3.5/dist-packages/matplotlib/rcsetup.py:152: UserWarning: axes.hold is deprecated, will be removed in 3.0\n",
      "  warnings.warn(\"axes.hold is deprecated, will be removed in 3.0\")\n"
     ]
    },
    {
     "name": "stdout",
     "output_type": "stream",
     "text": [
      "0.0 steps to converge\n",
      "===\n",
      "61.73 steps to converge\n",
      "===\n",
      "54.0 steps to converge\n"
     ]
    },
    {
     "name": "stderr",
     "output_type": "stream",
     "text": [
      "/usr/local/lib/python3.5/dist-packages/ipykernel/__main__.py:19: MatplotlibDeprecationWarning: pyplot.hold is deprecated.\n",
      "    Future behavior will be consistent with the long-time default:\n",
      "    plot commands add elements without first clearing the\n",
      "    Axes and/or Figure.\n"
     ]
    },
    {
     "data": {
      "image/png": "[encoded data removed]",
      "text/plain": [
       "<matplotlib.figure.Figure at 0x7fd0297a8898>"
      ]
     },
     "metadata": {},
     "output_type": "display_data"
    }
   ],
   "source": [
    "games_num = 10\n",
    "steps = 150\n",
    "discount = 0.95\n",
    "states = 100\n",
    "actions = 20\n",
    "random_player = MarkovPlayer(states=states, actions=actions, steps=steps,\n",
    "                           strategy_class=RandomStrategy, discount=discount)\n",
    "policy_iteration_player = MarkovPlayer(states=states, actions=actions, steps=steps,\n",
    "                           strategy_class=PolicyIterationStrategy, discount=discount)\n",
    "value_iteration_player = MarkovPlayer(states=states, actions=actions, steps=steps,\n",
    "                           strategy_class=ValueIterationStrategy, discount=discount)\n",
    "global_env = Environment(100, 20)\n",
    "plt.hold(True)\n",
    "random_player.evaluate(games=games_num, hold=True, color='k')\n",
    "print('===')\n",
    "policy_iteration_player.evaluate(games=games_num, hold=True, color='r')\n",
    "print('===')\n",
    "value_iteration_player.evaluate(games=games_num, hold=True, color='b')\n",
    "plt.hold(False)\n",
    "plt.show()"
   ]
  },
  {
   "cell_type": "markdown",
   "metadata": {
    "collapsed": true,
    "deletable": true,
    "editable": true
   },
   "source": [
    "Как можно заметить, оба алгоритма показывают схожие результаты, однако **value iteration strategy** сходится всё же побыстрее.\n",
    "\n",
    "### Теперь посмотрим, как зависит значение $V_\\gamma^*(s)$ для пяти произвольных состояний:"
   ]
  },
  {
   "cell_type": "code",
   "execution_count": 136,
   "metadata": {
    "collapsed": false,
    "scrolled": false
   },
   "outputs": [
    {
     "data": {
      "image/png": "[encoded data removed]",
      "text/plain": [
       "<matplotlib.figure.Figure at 0x7fd029b805c0>"
      ]
     },
     "metadata": {},
     "output_type": "display_data"
    }
   ],
   "source": [
    "games_num = 10\n",
    "states = 100\n",
    "actions = 20\n",
    "env = Environment(100, 20)\n",
    "gammas = [0.05, 0.1, 0.2, 0.3, 0.4, 0.5, 0.6, 0.65, 0.7, 0.75, 0.8, 0.85, 0.9, 0.925, 0.95, 0.975, 0.99]\n",
    "strategies = []\n",
    "states = []\n",
    "for gamma in log_progress(gammas):\n",
    "    strategies.append(ValueIterationStrategy(env, gamma))\n",
    "    strategies[-1].learn()\n",
    "plt.figure(figsize=(4, 20))\n",
    "for i in range(5):\n",
    "    states.append([strategy.state_values[i] for strategy in strategies])\n",
    "    plt.subplot(511 + i)\n",
    "    plt.plot(gammas, states[i], 'b')\n",
    "    plt.xlabel('discount rate')\n",
    "    plt.ylabel('V*(s)')\n",
    "    plt.title('state ' + str(i))\n",
    "plt.subplots_adjust(hspace=0.3)\n",
    "plt.show()"
   ]
  },
  {
   "cell_type": "markdown",
   "metadata": {},
   "source": [
    "В целом такое поведение логично: к сожалению, наша модель не отличается большим разбросом весов, плюс вследствие плотности матрицы переходов переход из одного состояния в произвольное достаточно прост, поэтому алгоритмы смогут легко выбирать действия, приводящие к оптимальному результату, а значит, состояния слабо будут отличаться друг от друга. Такая зависимость ценностей от значения $\\gamma$ тоже легко объяснима: при $\\gamma \\rightarrow 0$ ценности состояний, куда возможен переход из нашего состояния $s$, перестают как-либо влиять на его ценность и, соответственно, не увеличивают его, в то время как при $\\gamma \\rightarrow 1$ в качестве ценности состояния учитывается взвешенная суммарная ценность всех состояний, в которые можно попасть из текущего. Соответственно при максимизации алгоритмом выигрыша эта суммарная ценность будет только расти, что и показывает нам график"
   ]
  },
  {
   "cell_type": "code",
   "execution_count": null,
   "metadata": {
    "collapsed": true
   },
   "outputs": [],
   "source": []
  }
 ],
 "metadata": {
  "kernelspec": {
   "display_name": "Python 3",
   "language": "python",
   "name": "python3"
  },
  "language_info": {
   "codemirror_mode": {
    "name": "ipython",
    "version": 3
   },
   "file_extension": ".py",
   "mimetype": "text/x-python",
   "name": "python",
   "nbconvert_exporter": "python",
   "pygments_lexer": "ipython3",
   "version": "3.5.2+"
  },
  "widgets": {
   "state": {
    "07100a2d44e64d0bb1fe3c03bc8e9fce": {
     "views": [
      {
       "cell_index": 7
      }
     ]
    },
    "177c1bed61264af0bb53d58a8978c999": {
     "views": [
      {
       "cell_index": 7
      }
     ]
    },
    "1fef3fd78fba4969a09a2ba05fb1b6ee": {
     "views": [
      {
       "cell_index": 7
      }
     ]
    },
    "2760e3e5d1ab4f70a386ca777328d803": {
     "views": [
      {
       "cell_index": 7
      }
     ]
    },
    "2dfb35f783cb49b69ec8766d3a641148": {
     "views": [
      {
       "cell_index": 7
      }
     ]
    },
    "341e1a52277d4066b41155d7df108377": {
     "views": [
      {
       "cell_index": 7
      }
     ]
    },
    "34514d7a03a84c688702dafb0ef1792c": {
     "views": [
      {
       "cell_index": 7
      }
     ]
    },
    "34875d5c0b054a89a18c91045961e28c": {
     "views": [
      {
       "cell_index": 7
      }
     ]
    },
    "35544d89ef9f4c5a8534ad45d17a8582": {
     "views": [
      {
       "cell_index": 7
      }
     ]
    },
    "35744110854f403bbd23b5766f76023e": {
     "views": [
      {
       "cell_index": 7
      }
     ]
    },
    "389320415ca648488ae2b4efbb6b17ff": {
     "views": [
      {
       "cell_index": 7
      }
     ]
    },
    "3959c4f5add4425b9488e2fc4e83204c": {
     "views": [
      {
       "cell_index": 7
      }
     ]
    },
    "3ffee6377e1b4d79bcb63aa37641500f": {
     "views": [
      {
       "cell_index": 7
      }
     ]
    },
    "4257a74bca8d421a94c9cf8098cecb75": {
     "views": [
      {
       "cell_index": 7
      }
     ]
    },
    "43217692f0004fe69ff2160160f1391a": {
     "views": [
      {
       "cell_index": 7
      }
     ]
    },
    "457f53d127da405a92b69ccfa88f24ce": {
     "views": [
      {
       "cell_index": 7
      }
     ]
    },
    "496eea0c247749e289c9ddd098074eb7": {
     "views": [
      {
       "cell_index": 7
      }
     ]
    },
    "4cafd394dc7141e5b70bd334ce929b54": {
     "views": [
      {
       "cell_index": 7
      }
     ]
    },
    "4d808021d4f24457868a97e96caada6a": {
     "views": [
      {
       "cell_index": 7
      }
     ]
    },
    "5130576923aa44b1961362dc24592cd2": {
     "views": [
      {
       "cell_index": 7
      }
     ]
    },
    "56b7625a143d4eecb63a19b75a439dbd": {
     "views": [
      {
       "cell_index": 7
      }
     ]
    },
    "5d35ca1176dd4595b0325f8e99c8bd84": {
     "views": [
      {
       "cell_index": 7
      }
     ]
    },
    "60b43de0116b4b1ca7cc093bbb355ef8": {
     "views": [
      {
       "cell_index": 7
      }
     ]
    },
    "63434616f4694d869d0c5fcf43b6a651": {
     "views": [
      {
       "cell_index": 11
      }
     ]
    },
    "656f39febf624c7cb2489a0794ca729a": {
     "views": [
      {
       "cell_index": 7
      }
     ]
    },
    "66092ea1a31846248348a92b69293aeb": {
     "views": [
      {
       "cell_index": 7
      }
     ]
    },
    "663a6500af904531a06f26296e8d3176": {
     "views": [
      {
       "cell_index": 7
      }
     ]
    },
    "6c558007ee624694a116cd58c2f65e86": {
     "views": [
      {
       "cell_index": 7
      }
     ]
    },
    "6c6cd99345694a0ab31bf3f03eb743aa": {
     "views": [
      {
       "cell_index": 7
      }
     ]
    },
    "75cb33b8c18a40c9b746d239b93842b3": {
     "views": [
      {
       "cell_index": 7
      }
     ]
    },
    "77548444bee143ab8c1dc04b6a158b71": {
     "views": [
      {
       "cell_index": 7
      }
     ]
    },
    "7809dd330f30454c8f104fc4638a7ca3": {
     "views": [
      {
       "cell_index": 7
      }
     ]
    },
    "799e89c801f2435989a37d930c523c61": {
     "views": [
      {
       "cell_index": 7
      }
     ]
    },
    "79e0b4efa1d0423096523c995a2dcfd9": {
     "views": [
      {
       "cell_index": 7
      }
     ]
    },
    "80f91dffbc6243cdb883d019b380b81c": {
     "views": [
      {
       "cell_index": 7
      }
     ]
    },
    "81cdf2ed8d6643e29cbe725c613427a0": {
     "views": [
      {
       "cell_index": 7
      }
     ]
    },
    "839b1dfd342f4316b0b353e46e023b91": {
     "views": [
      {
       "cell_index": 7
      }
     ]
    },
    "845536f8ac78464f9f58e11e21042c45": {
     "views": [
      {
       "cell_index": 7
      }
     ]
    },
    "85ecfa29d5b5477f9afbbb125e516805": {
     "views": [
      {
       "cell_index": 7
      }
     ]
    },
    "87bee59cfda44ff49f31db0de95d46e3": {
     "views": [
      {
       "cell_index": 7
      }
     ]
    },
    "885d1aef954b4da183032ea43427a586": {
     "views": [
      {
       "cell_index": 7
      }
     ]
    },
    "88b3e43ed76844dcaac02fa4ce375160": {
     "views": [
      {
       "cell_index": 7
      }
     ]
    },
    "89a193cee40448dab19e5274b77a855e": {
     "views": [
      {
       "cell_index": 7
      }
     ]
    },
    "8f46bd607ad042ba9a27c3bc3a957db8": {
     "views": [
      {
       "cell_index": 7
      }
     ]
    },
    "94b542d257ab4a4d82243d692269b4e0": {
     "views": [
      {
       "cell_index": 7
      }
     ]
    },
    "9653e5641379450fa011779188085e41": {
     "views": [
      {
       "cell_index": 7
      }
     ]
    },
    "968bcaa85e85402d9da1d85ac1fedaeb": {
     "views": [
      {
       "cell_index": 7
      }
     ]
    },
    "9bb1937486aa4ff9b0c5820efec1e6d8": {
     "views": [
      {
       "cell_index": 7
      }
     ]
    },
    "9c7a188ab484471da853819b5605099b": {
     "views": [
      {
       "cell_index": 7
      }
     ]
    },
    "9dd7dd74a8e847de98b815c850ac5826": {
     "views": [
      {
       "cell_index": 7
      }
     ]
    },
    "a08a9e5d10d043fa9d7e6a89bd73d26a": {
     "views": [
      {
       "cell_index": 7
      }
     ]
    },
    "a145f2a35ae14f18b0f856ad438722b5": {
     "views": [
      {
       "cell_index": 7
      }
     ]
    },
    "a1b3df928f724fc7a36683e62c520a3b": {
     "views": [
      {
       "cell_index": 7
      }
     ]
    },
    "a59ff2124fb5493f8a020a8cc01abe1b": {
     "views": [
      {
       "cell_index": 7
      }
     ]
    },
    "acd8652fbe7740439e46a39566a803f1": {
     "views": [
      {
       "cell_index": 7
      }
     ]
    },
    "adadc0acc2b84521a1ba2f0ef7a768bb": {
     "views": [
      {
       "cell_index": 7
      }
     ]
    },
    "ae22ec5a8d1a402d951aef00c5cc5787": {
     "views": [
      {
       "cell_index": 7
      }
     ]
    },
    "b465d9ddd1a046eb9e5fdae9681de026": {
     "views": [
      {
       "cell_index": 7
      }
     ]
    },
    "b675f3e6f1504c55a0b4d71dfb96ed03": {
     "views": [
      {
       "cell_index": 7
      }
     ]
    },
    "b87440d10a364a499e6cd374e74ef3b4": {
     "views": [
      {
       "cell_index": 7
      }
     ]
    },
    "c09739735f8b4a329fa111e8ed152f0c": {
     "views": [
      {
       "cell_index": 7
      }
     ]
    },
    "c1670ca6fe654cd9885bc3d0c18573ba": {
     "views": [
      {
       "cell_index": 7
      }
     ]
    },
    "c5844c551cd14a6a9be5df14ee7228f5": {
     "views": [
      {
       "cell_index": 7
      }
     ]
    },
    "c94f5a57bd554192abe81d7e3f5a1d5f": {
     "views": [
      {
       "cell_index": 7
      }
     ]
    },
    "ccc97c396b5d40aa8a527b32d30d55d2": {
     "views": [
      {
       "cell_index": 7
      }
     ]
    },
    "cd6f42b47cda408bb1a3eb7462b28081": {
     "views": [
      {
       "cell_index": 7
      }
     ]
    },
    "d741cc270fbe444c927ff65c6dd8b163": {
     "views": [
      {
       "cell_index": 7
      }
     ]
    },
    "de38634b85a844f2bf2ac4ed8baa70fd": {
     "views": [
      {
       "cell_index": 7
      }
     ]
    },
    "e0d67c23e19c47aa8ddd3761d0bb8209": {
     "views": [
      {
       "cell_index": 7
      }
     ]
    },
    "ec6711e2af434cb8ab34e619349864c4": {
     "views": [
      {
       "cell_index": 7
      }
     ]
    },
    "ec74ca4e7cec4c6fb00b7bf6f6690608": {
     "views": [
      {
       "cell_index": 7
      }
     ]
    },
    "ece755afad8d4099a1d9d815aec33ef8": {
     "views": [
      {
       "cell_index": 7
      }
     ]
    },
    "f34cd53949e446bbb2e1f1302a76cfaf": {
     "views": [
      {
       "cell_index": 7
      }
     ]
    },
    "f52566b2ac164c488694c86f518b2d57": {
     "views": [
      {
       "cell_index": 7
      }
     ]
    },
    "f85b137b28504784a953b69ba423ef2f": {
     "views": [
      {
       "cell_index": 7
      }
     ]
    },
    "fa6be53d52214115ac9da64979c75549": {
     "views": [
      {
       "cell_index": 7
      }
     ]
    },
    "fcc2af7356174f5d8f433d88169a3d04": {
     "views": [
      {
       "cell_index": 7
      }
     ]
    },
    "fd14c14b4014413bbed1f9ab2bdfec89": {
     "views": [
      {
       "cell_index": 7
      }
     ]
    },
    "fdcad1e79feb41ec8ef1f80256b967f8": {
     "views": [
      {
       "cell_index": 7
      }
     ]
    }
   },
   "version": "1.2.0"
  }
 },
 "nbformat": 4,
 "nbformat_minor": 2
}
