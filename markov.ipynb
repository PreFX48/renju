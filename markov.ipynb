{
 "cells": [
  {
   "cell_type": "markdown",
   "metadata": {
    "collapsed": true,
    "deletable": true,
    "editable": true
   },
   "source": [
    "## 2. Марковский процесс принятия решения (markov decison process)"
   ]
  },
  {
   "cell_type": "markdown",
   "metadata": {
    "collapsed": true,
    "deletable": true,
    "editable": true
   },
   "source": [
    "### Задание\n",
    "#### 1. Приведите жизненный пример марковского процесса принятия решения (это может быть какаю-нибудь игра и т.п.).\n",
    "Очень простой пример - шашки. Конечное, пусть и очень большое, количество состояний $S$, конечное множество действий $ A \\subset S \\times S$. Среда - наш противник - отвечает вполне себе случайно. Если рассматривать среду именно как противника, то она, конечно, отдаёт сильное предпочтение тем действиям, которые она считает выигрышными. Награда для каждого допустимого действия из $\\; S \\times A \\;$ нулевая за исключением последнего хода, по результатам которого присуждается награда $\\pm 1$. Кроме того, очевидно, что для принятия решения информация о предыдущих состояниях нерелевантна. Таким образом, принятие решения в шашках можно смоделировать с помощью марковского процесса.\n",
    "#### 2. Можете ли вы привести пример игры, где принятие решения нельзя смоделировать с помощью марковского процесса?\n",
    "Шахматы, однако, не являются марковским процессом. Например, там есть такое понятие, как рокировка: перестановка короля и ладьи, если они не двигались в течение игры. Однако чтобы это проверить это условие, требуется хранить историю игры, что противоречит определению марковского процесса.\n",
    "#### 3. Выведите следующие значения через $p(s_{t+1}, r_{t+1}|s_t, a_t)$, для простоты все распределения можно считать дискретными\n",
    "  * $r(s_{t}, a_{t}) = \\mathbb{E}[R_{t+1}|S_t = s_t, A_t = a_t]$ - средняя награда за действие $a_t$ в $s_t$ \n",
    "  * $p(s_{t+1} | s_t, a_t) = \\Pr\\{S_{t+1} = s_{t+1} | S_t = s_t, A_t = a_t \\}$ - вероятность попасть в $s_{t+1}$ из $s_t$, сделав $a_t$.\n",
    "  * $r(s_t, a_t, s_{t+1}) = \\mathbb{E}[R_{t+1}|S_{t+1} = s_{t+1}, S_t = s_t, A_t = a_t]$ - средняя награда при переезде из $s_t$ в $s_{t+1}$, сделав $a_t$.\n",
    "  \n",
    "Раскрываем просто по определению матожидания и по базовым свойствам вероятности:\n",
    "$r(s_{t}, a_{t}) = \\mathbb{E}[R_{t+1}|S_t = s_t, A_t = a_t] = \\sum_{s,r} r \\cdot p(s, r \\;|\\; s_t, a_t)$\n",
    "\n",
    "$p(s_{t+1} | s_t, a_t) = \\Pr\\{S_{t+1} = s_{t+1} | S_t = s_t, A_t = a_t \\} = \\sum_{r} p(s_{t+1}, r \\;|\\; s_t, a_t)$\n",
    "\n",
    "$r(s_t, a_t, s_{t+1}) = \\mathbb{E}[R_{t+1}|S_{t+1} = s_{t+1}, S_t = s_t, A_t = a_t] = \\sum_{r} r \\cdot p(s_{t+1}, r \\;|\\; s_t, a_t)$\n",
    "\n"
   ]
  },
  {
   "cell_type": "markdown",
   "metadata": {
    "deletable": true,
    "editable": true
   },
   "source": [
    "### Смоделируем среду:"
   ]
  },
  {
   "cell_type": "code",
   "execution_count": 1,
   "metadata": {
    "collapsed": true,
    "deletable": true,
    "editable": true
   },
   "outputs": [],
   "source": [
    "import numpy as np\n",
    "import matplotlib.pyplot as plt\n",
    "import math\n",
    "from scipy.ndimage.filters import gaussian_filter1d\n",
    "\n",
    "\n",
    "def log_progress(sequence, every=None, size=None):\n",
    "    from ipywidgets import IntProgress, HTML, VBox\n",
    "    from IPython.display import display\n",
    "\n",
    "    is_iterator = False\n",
    "    if size is None:\n",
    "        try:\n",
    "            size = len(sequence)\n",
    "        except TypeError:\n",
    "            is_iterator = True\n",
    "    if size is not None:\n",
    "        if every is None:\n",
    "            if size <= 200:\n",
    "                every = 1\n",
    "            else:\n",
    "                every = int(size / 200)     # every 0.5%\n",
    "    else:\n",
    "        assert every is not None, 'sequence is iterator, set every'\n",
    "\n",
    "    if is_iterator:\n",
    "        progress = IntProgress(min=0, max=1, value=1)\n",
    "        progress.bar_style = 'info'\n",
    "    else:\n",
    "        progress = IntProgress(min=0, max=size, value=0)\n",
    "    label = HTML()\n",
    "    box = VBox(children=[label, progress])\n",
    "    display(box)\n",
    "\n",
    "    index = 0\n",
    "    try:\n",
    "        for index, record in enumerate(sequence, 1):\n",
    "            if index == 1 or index % every == 0:\n",
    "                if is_iterator:\n",
    "                    label.value = '{index} / ?'.format(index=index)\n",
    "                else:\n",
    "                    progress.value = index\n",
    "                    label.value = u'{index} / {size}'.format(\n",
    "                        index=index,\n",
    "                        size=size\n",
    "                    )\n",
    "            yield record\n",
    "    except:\n",
    "        progress.bar_style = 'danger'\n",
    "        raise\n",
    "    else:\n",
    "        progress.bar_style = 'success'\n",
    "        progress.value = index\n",
    "        label.value = str(index or '?')"
   ]
  },
  {
   "cell_type": "markdown",
   "metadata": {
    "deletable": true,
    "editable": true
   },
   "source": [
    "### Построим такую модель:\n",
    "Неформально определим её так: агент может пытаться двигаться на целочисленном отрезке $\\mathbb{N} \\cap [0;49]$ вправо или влево. При выборе направления движения агент может случайным образом сдвинуться в соответсвующую сторону на $1$ с вероятностью $\\frac{5}{16}$, на $2$ с вероятностью $\\frac{4}{16}$, на $3$ с вероятностью $\\frac{3}{16}$, на $4$ с вероятностью $\\frac{2}{16}$, на $5$ с вероятностью $\\frac{1}{16}$. Кроме того, с вероятностью $\\frac{1}{16}$ агент может остаться на месте.\n",
    "\n",
    "В 40-ом состоянии агент получает награду $10$. В 42-ом он получает штраф $100$. Во всех прочих состояниях он ничего не получает.\n",
    "\n",
    "Игра бесконечна."
   ]
  },
  {
   "cell_type": "code",
   "execution_count": 2,
   "metadata": {
    "collapsed": false,
    "deletable": true,
    "editable": true,
    "scrolled": false
   },
   "outputs": [],
   "source": [
    "class Environment:\n",
    "    def __init__(self, states, actions=2):\n",
    "        self.states = states\n",
    "        self.actions = actions\n",
    "        self.transition_probas = np.zeros((states, actions, states))\n",
    "        self.rewards = np.zeros(states)\n",
    "        self.good_state = states - 10\n",
    "        self.bad_state = states - 8\n",
    "        self.rewards[self.good_state] = 10\n",
    "        self.rewards[self.bad_state] = -100\n",
    "        for state in range(states):\n",
    "            for i in range(state+1, min(states, state+6)):\n",
    "                self.transition_probas[state, 0, i] = 6 - (i - state)\n",
    "            self.transition_probas[state, 0, state] = 1\n",
    "            for i in range(state-1, max(-1, state-6), -1):\n",
    "                self.transition_probas[state, 1, i] = 6 - (state - i)\n",
    "            self.transition_probas[state][1, state] = 1\n",
    "            \n",
    "            self.transition_probas[state, 0] /= self.transition_probas[state, 0].sum()\n",
    "            self.transition_probas[state, 1] /= self.transition_probas[state, 1].sum()\n",
    "                \n",
    "        \n",
    "    \n",
    "    def step(self, state, action):\n",
    "        new_state = np.random.choice(self.states, p=self.transition_probas[state, action])\n",
    "        return (new_state, self.rewards[new_state])"
   ]
  },
  {
   "cell_type": "code",
   "execution_count": 3,
   "metadata": {
    "collapsed": true
   },
   "outputs": [],
   "source": [
    "class PolicyIterationStrategy:\n",
    "    def __init__(self, env, discount):\n",
    "        self.env = env\n",
    "        self.discount = discount\n",
    "        self.policy = np.ones((env.states, env.actions))\n",
    "        self.policy /= env.actions\n",
    "    def learn(self):\n",
    "        self.state_values = np.random.randn(self.env.states)\n",
    "        self.state_action_values = np.zeros((self.env.states, self.env.actions))\n",
    "        i = 0\n",
    "        while True:\n",
    "            while True:\n",
    "                epsilon = 0\n",
    "                for state in range(self.env.states):\n",
    "                    old_value = self.state_values[state]\n",
    "                    val_sum = 0\n",
    "                    for action in range(self.env.actions):\n",
    "                        action_sum = 0\n",
    "                        for new_state in range(self.env.states):\n",
    "                            action_sum += self.env.transition_probas[state, action, new_state] * \\\n",
    "                                (self.env.rewards[new_state] + \\\n",
    "                                    self.discount*self.state_values[new_state])\n",
    "                        val_sum += self.policy[state, action] * action_sum\n",
    "                    self.state_values[state] = val_sum\n",
    "                    epsilon = max(epsilon, abs(old_value - self.state_values[state]))\n",
    "                i += 1\n",
    "                if epsilon < 0.0001:\n",
    "                    break\n",
    "                \n",
    "            stable = True    \n",
    "            for state in range(self.env.states):\n",
    "                comp_values = self.state_action_values[state]\n",
    "                old_best = np.argwhere(comp_values == comp_values.max())\n",
    "                for action in range(self.env.actions):\n",
    "                    action_sum = 0\n",
    "                    for new_state in range(self.env.states):\n",
    "                        action_sum += self.env.transition_probas[state, action, new_state] * \\\n",
    "                            (self.env.rewards[new_state] + \\\n",
    "                                self.discount*self.state_values[new_state])\n",
    "                    self.state_action_values[state, action] = action_sum\n",
    "                comp_values = self.state_action_values[state]\n",
    "                best = np.argwhere(comp_values == comp_values.max())\n",
    "                self.policy[state] = 0\n",
    "                self.policy[state][best] = 1\n",
    "                self.policy[state] /= self.policy[state].sum()\n",
    "                if not np.array_equal(old_best, best):\n",
    "                    stable = False\n",
    "            if stable:\n",
    "                break\n",
    "        return i\n",
    "                    \n",
    "                \n",
    "    def choose(self, state):\n",
    "        return np.random.choice(self.env.actions, p=self.policy[state])"
   ]
  },
  {
   "cell_type": "code",
   "execution_count": 4,
   "metadata": {
    "collapsed": false,
    "deletable": true,
    "editable": true
   },
   "outputs": [],
   "source": [
    "class ValueIterationStrategy:\n",
    "    def __init__(self, env, discount):\n",
    "        self.env = env\n",
    "        self.discount = discount\n",
    "        self.policy = np.ones((env.states, env.actions))\n",
    "        self.policy /= env.actions\n",
    "    def learn(self):\n",
    "        self.state_values = np.random.randn(self.env.states)\n",
    "        self.state_action_values = np.zeros((self.env.states, self.env.actions))\n",
    "        i = 0\n",
    "        while True:\n",
    "            epsilon = 0\n",
    "            for state in range(self.env.states):\n",
    "                old_value = self.state_values[state]\n",
    "                for action in range(self.env.actions):\n",
    "                    action_sum = 0\n",
    "                    for new_state in range(self.env.states):\n",
    "                        action_sum += self.env.transition_probas[state, action, new_state] * \\\n",
    "                            (self.env.rewards[new_state] + \\\n",
    "                                self.discount*self.state_values[new_state])\n",
    "                    if action == 0:\n",
    "                        max_val = action_sum\n",
    "                    else:\n",
    "                        max_val = max(max_val, action_sum)\n",
    "                self.state_values[state] = max_val\n",
    "                epsilon = max(epsilon, abs(old_value - self.state_values[state]))\n",
    "            i += 1\n",
    "            if epsilon < 0.0001:\n",
    "                break\n",
    "                \n",
    "        for state in range(self.env.states):\n",
    "            res = np.zeros(self.env.actions)\n",
    "            for action in range(self.env.actions):\n",
    "                action_sum = 0\n",
    "                for new_state in range(self.env.actions):\n",
    "                    for new_state in range(self.env.states):\n",
    "                        action_sum += self.env.transition_probas[state, action, new_state] * \\\n",
    "                            (self.env.rewards[new_state] + \\\n",
    "                                self.discount*self.state_values[new_state])\n",
    "                res[action] = action_sum\n",
    "            best = np.argwhere(res == res.max())\n",
    "            self.policy[state] = 0\n",
    "            self.policy[state][best] = 1\n",
    "            self.policy[state] /= self.policy[state].sum()\n",
    "        \n",
    "        return i\n",
    "                \n",
    "    def choose(self, state):\n",
    "        return np.random.choice(self.env.actions, p=self.policy[state])\n",
    "    \n",
    "class RandomStrategy:\n",
    "    def __init__(self, env, discount):\n",
    "        self.env = env\n",
    "        self.discount = discount\n",
    "        self.policy = np.ones((env.states, env.actions))\n",
    "        self.policy /= env.actions\n",
    "    def learn(self):\n",
    "        return 0\n",
    "    def choose(self, state):\n",
    "        return np.random.choice(self.env.actions, p=self.policy[state])"
   ]
  },
  {
   "cell_type": "code",
   "execution_count": 5,
   "metadata": {
    "collapsed": false,
    "deletable": true,
    "editable": true
   },
   "outputs": [],
   "source": [
    "class MarkovPlayer:\n",
    "    def __init__(self, states, actions, steps, strategy_class, discount):\n",
    "        self.states = states\n",
    "        self.actions = actions\n",
    "        self.strategy_class = strategy_class\n",
    "        self.steps = steps\n",
    "        self.discount = discount\n",
    "    def evaluate(self, games=1, progressbar=True,hold=False, show=True,\n",
    "                 color='b', label=' '):\n",
    "        rewards = np.zeros(self.steps)\n",
    "        if progressbar:\n",
    "            games_range = log_progress(range(games), every=1)\n",
    "        else:\n",
    "            games_range = range(games)\n",
    "        avg_iterations = 0\n",
    "        for game in games_range:\n",
    "            state = 0\n",
    "            self.state = state\n",
    "            env = Environment(self.states, self.actions)\n",
    "            strategy = self.strategy_class(env, self.discount)\n",
    "            self.strategy = strategy\n",
    "            avg_iterations += strategy.learn()\n",
    "            for i in range(self.steps):\n",
    "                state, r = env.step(state, strategy.choose(state))\n",
    "                rewards[i] += r\n",
    "                self.state = state\n",
    "        avg_iterations /= games\n",
    "        discount = self.discount\n",
    "        print(avg_iterations, 'steps to converge')\n",
    "        for i in range(1, self.steps):\n",
    "            rewards[i] = rewards[i-1] + discount * rewards[i]\n",
    "            discount *= self.discount\n",
    "        for i in range(1, self.steps):\n",
    "            rewards[i] /= games\n",
    "        if show:\n",
    "            x = np.arange(1, self.steps+1)\n",
    "            plot_rewards = rewards\n",
    "            plt.plot(x, plot_rewards, color, label=label)\n",
    "            plt.title('Total reward', fontsize=16)\n",
    "            if not hold:\n",
    "                plt.show()\n",
    "        return rewards.sum()"
   ]
  },
  {
   "cell_type": "markdown",
   "metadata": {
    "deletable": true,
    "editable": true
   },
   "source": [
    "### Сравним эффективность и скорость сходимости алгоритмов:"
   ]
  },
  {
   "cell_type": "markdown",
   "metadata": {
    "deletable": true,
    "editable": true
   },
   "source": [
    "## ATTENTION: Не запускать следующий код с исходным games_num. Долго работает. Для проверки работы достаточно games_num ~ 50 или даже меньше"
   ]
  },
  {
   "cell_type": "code",
   "execution_count": 6,
   "metadata": {
    "collapsed": false,
    "deletable": true,
    "editable": true,
    "scrolled": false
   },
   "outputs": [
    {
     "name": "stderr",
     "output_type": "stream",
     "text": [
      "/usr/local/lib/python3.5/dist-packages/ipykernel/__main__.py:14: MatplotlibDeprecationWarning: pyplot.hold is deprecated.\n",
      "    Future behavior will be consistent with the long-time default:\n",
      "    plot commands add elements without first clearing the\n",
      "    Axes and/or Figure.\n",
      "/usr/local/lib/python3.5/dist-packages/matplotlib/__init__.py:917: UserWarning: axes.hold is deprecated. Please remove it from your matplotlibrc and/or style files.\n",
      "  warnings.warn(self.msg_depr_set % key)\n",
      "/usr/local/lib/python3.5/dist-packages/matplotlib/rcsetup.py:152: UserWarning: axes.hold is deprecated, will be removed in 3.0\n",
      "  warnings.warn(\"axes.hold is deprecated, will be removed in 3.0\")\n"
     ]
    },
    {
     "name": "stdout",
     "output_type": "stream",
     "text": [
      "0.0 steps to converge\n",
      "===\n",
      "432.204 steps to converge\n",
      "===\n",
      "110.322 steps to converge\n"
     ]
    },
    {
     "name": "stderr",
     "output_type": "stream",
     "text": [
      "/usr/local/lib/python3.5/dist-packages/ipykernel/__main__.py:24: MatplotlibDeprecationWarning: pyplot.hold is deprecated.\n",
      "    Future behavior will be consistent with the long-time default:\n",
      "    plot commands add elements without first clearing the\n",
      "    Axes and/or Figure.\n"
     ]
    },
    {
     "data": {
      "image/png": "[encoded data removed]",
      "text/plain": [
       "<matplotlib.figure.Figure at 0x7fb3cc058eb8>"
      ]
     },
     "metadata": {},
     "output_type": "display_data"
    },
    {
     "name": "stdout",
     "output_type": "stream",
     "text": [
      "CPU times: user 22min 29s, sys: 1.63 s, total: 22min 31s\n",
      "Wall time: 22min 35s\n"
     ]
    }
   ],
   "source": [
    "%%time\n",
    "# == IMPORTANT PARAMETER ==\n",
    "games_num = 500\n",
    "# =========================\n",
    "steps = 120\n",
    "discount = 0.95\n",
    "states = 50\n",
    "actions = 2\n",
    "random_player = MarkovPlayer(states=states, actions=actions, steps=steps,\n",
    "                           strategy_class=RandomStrategy, discount=discount)\n",
    "policy_iteration_player = MarkovPlayer(states=states, actions=actions, steps=steps,\n",
    "                           strategy_class=PolicyIterationStrategy, discount=discount)\n",
    "value_iteration_player = MarkovPlayer(states=states, actions=actions, steps=steps,\n",
    "                           strategy_class=ValueIterationStrategy, discount=discount)\n",
    "plt.hold(True)\n",
    "random_player.evaluate(games=games_num, hold=True, color='k', label='random')\n",
    "print('===')\n",
    "policy_iteration_player.evaluate(games=games_num, hold=True, color='r', label='Policy')\n",
    "print('===')\n",
    "value_iteration_player.evaluate(games=games_num, hold=True, color='b', label='Value')\n",
    "plt.xlabel('steps')\n",
    "plt.ylabel('reward')\n",
    "plt.grid(True)\n",
    "plt.legend(loc='right', fontsize=14)\n",
    "plt.hold(False)\n",
    "plt.show()"
   ]
  },
  {
   "cell_type": "markdown",
   "metadata": {
    "collapsed": true,
    "deletable": true,
    "editable": true
   },
   "source": [
    "Как можно заметить, оба алгоритма показывают схожие результаты (что логично, так как они должны находить одну оптимальную стратегию), однако **value iteration strategy** сходится всё же гораздо быстрее.\n",
    "\n",
    "### Теперь посмотрим, как зависит значение $V_\\gamma^*(s)$ для пяти произвольных состояний:"
   ]
  },
  {
   "cell_type": "code",
   "execution_count": 7,
   "metadata": {
    "collapsed": false,
    "deletable": true,
    "editable": true,
    "scrolled": false
   },
   "outputs": [
    {
     "name": "stderr",
     "output_type": "stream",
     "text": [
      "/usr/local/lib/python3.5/dist-packages/ipykernel/__main__.py:11: MatplotlibDeprecationWarning: pyplot.hold is deprecated.\n",
      "    Future behavior will be consistent with the long-time default:\n",
      "    plot commands add elements without first clearing the\n",
      "    Axes and/or Figure.\n",
      "/usr/local/lib/python3.5/dist-packages/matplotlib/__init__.py:917: UserWarning: axes.hold is deprecated. Please remove it from your matplotlibrc and/or style files.\n",
      "  warnings.warn(self.msg_depr_set % key)\n",
      "/usr/local/lib/python3.5/dist-packages/matplotlib/rcsetup.py:152: UserWarning: axes.hold is deprecated, will be removed in 3.0\n",
      "  warnings.warn(\"axes.hold is deprecated, will be removed in 3.0\")\n",
      "/usr/local/lib/python3.5/dist-packages/ipykernel/__main__.py:18: MatplotlibDeprecationWarning: pyplot.hold is deprecated.\n",
      "    Future behavior will be consistent with the long-time default:\n",
      "    plot commands add elements without first clearing the\n",
      "    Axes and/or Figure.\n"
     ]
    },
    {
     "data": {
      "image/png": "[encoded data removed]",
      "text/plain": [
       "<matplotlib.figure.Figure at 0x7fb3cf832208>"
      ]
     },
     "metadata": {},
     "output_type": "display_data"
    }
   ],
   "source": [
    "states = 50\n",
    "actions = 2\n",
    "env = Environment(states, actions)\n",
    "gammas = [x*0.01 for x in range(1, 98) if x % 2 == 1]\n",
    "gammas = gammas + [0.985, 0.986, 0.99]\n",
    "strategies = []\n",
    "states = {}\n",
    "for gamma in log_progress(gammas):\n",
    "    strategies.append(ValueIterationStrategy(env, gamma))\n",
    "    strategies[-1].learn()\n",
    "plt.hold(True)\n",
    "for state, color in zip([0, 20, 37, 42], ['k', 'r', 'g', 'b']):\n",
    "    states[state] = [strategy.state_values[state] for strategy in strategies[:-3]]\n",
    "    plt.plot(gammas[:-3], states[state], color, label='state #' + str(state))\n",
    "states[49] = [strategy.state_values[49] for strategy in strategies]\n",
    "plt.plot(gammas, states[49], 'm', label='state #' + str(49))\n",
    "\n",
    "plt.hold(False)\n",
    "plt.xlabel('discount rate')\n",
    "plt.ylabel('V*(s)')\n",
    "plt.legend(loc='upper left')\n",
    "plt.show()"
   ]
  },
  {
   "cell_type": "markdown",
   "metadata": {
    "deletable": true,
    "editable": true
   },
   "source": [
    "Начальное положение кривых относительно друг друга понятно: при низком значении дисконтирования очень сильно учитывается награда, полученная в самом начале, и почти не оценивается награда, полученная в самом конце. Из-за этого начальная ценность всех состояний, кроме 42-го при попадании в которое начисляется штраф, близка к нулю. Затем при росте $\\gamma$ заметна следующая тенденция: чем ближе к \"выигрышнному\" состоянию мы находимся, тем скорее текущее состояние набирает ценность при росте $\\gamma$ в начале, однако затем они более-менее выравниваются. Это происходит из-за того, что более близкие к выигрышному состояния раньше начинают получать выигрыш, и он, соответственно, в меньшей степени подвергается дисконтированию. Потом этот разрыв уменьшается, так как все состояния рано или поздно достигают выигрышного, и начальная фора начинает выражаться просто константой\n",
    "\n",
    "Интересным исключением в данной модели является только 49-ое состояния. Так как от выигрышного состояния его отделяет большой штраф, при низких значениях $\\gamma$ от просто не успевает скомпенсировать его, в результате чего ему становится выгоднее не рисковать и идти в противоположную сторону, где есть лишь нулевая награда. Однако с определённого момента последующая после штрафа награда уже начинает перевешивать штраф, и происходит взрывной рост ценности"
   ]
  },
  {
   "cell_type": "code",
   "execution_count": null,
   "metadata": {
    "collapsed": true,
    "deletable": true,
    "editable": true
   },
   "outputs": [],
   "source": []
  }
 ],
 "metadata": {
  "kernelspec": {
   "display_name": "Python 3",
   "language": "python",
   "name": "python3"
  },
  "language_info": {
   "codemirror_mode": {
    "name": "ipython",
    "version": 3
   },
   "file_extension": ".py",
   "mimetype": "text/x-python",
   "name": "python",
   "nbconvert_exporter": "python",
   "pygments_lexer": "ipython3",
   "version": "3.5.2+"
  },
  "widgets": {
   "state": {
    "14390153cf4d4dffba6fd0f4609d1f0d": {
     "views": [
      {
       "cell_index": 11
      }
     ]
    },
    "419d2770d3634f7ba1d67bc518fcec8a": {
     "views": [
      {
       "cell_index": 11
      }
     ]
    },
    "7489f39d74ad45ab8e0d7a7e1dd5d09a": {
     "views": [
      {
       "cell_index": 11
      }
     ]
    },
    "808b49c25b4b4279a2394eb3f0a52d00": {
     "views": [
      {
       "cell_index": 13
      }
     ]
    }
   },
   "version": "1.2.0"
  }
 },
 "nbformat": 4,
 "nbformat_minor": 2
}
